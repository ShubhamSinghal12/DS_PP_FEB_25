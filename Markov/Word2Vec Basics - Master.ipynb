{
 "cells": [
  {
   "cell_type": "markdown",
   "metadata": {},
   "source": [
    "\n",
    "## Word2Vec Model\n",
    "- Word2Vec Google's Pretrained Model\n",
    "- Contains vector representations of 50 billion words\n",
    "\n",
    "- Words which are similar in context have similar vectors\n",
    "- Distance/Similarity between two words can be measured using Cosine Distance\n"
   ]
  },
  {
   "cell_type": "markdown",
   "metadata": {},
   "source": [
    "### Applications\n",
    "- Text Similarity\n",
    "- Language Translation\n",
    "- Finding Odd Words\n",
    "- Word Analogies\n"
   ]
  },
  {
   "cell_type": "markdown",
   "metadata": {},
   "source": [
    "### Word Embeddings\n",
    "- Word embeddings are numerical representation of words, in the form of vectors.\n",
    "\n",
    "- Word2Vec Model represents each word as 300 Dimensional Vector\n",
    "\n",
    "- In this tutorial we are going to see how to use pre-trained word2vec model.\n",
    "- Model size is around 3.5 GB\n",
    "- We will work using Gensim, which is popular NLP Package.\n"
   ]
  },
  {
   "cell_type": "markdown",
   "metadata": {},
   "source": [
    "Gensim's Word2Vec Model provides optimum implementation of \n",
    "\n",
    "1) **CBOW** Model \n",
    "\n",
    "2) **SkipGram Model**\n",
    "\n",
    "\n",
    "Paper 1 [Efficient Estimation of Word Representations in\n",
    "Vector Space](https://arxiv.org/pdf/1301.3781.pdf)\n",
    "\n",
    "\n",
    "Paper 2 [Distributed Representations of Words and Phrases and their Compositionality\n",
    "](https://arxiv.org/abs/1310.4546)"
   ]
  },
  {
   "cell_type": "markdown",
   "metadata": {},
   "source": [
    "### Word2Vec using Gensim\n",
    "`Link https://radimrehurek.com/gensim/models/word2vec.html`"
   ]
  },
  {
   "cell_type": "markdown",
   "metadata": {},
   "source": [
    "### CODE ##"
   ]
  },
  {
   "cell_type": "markdown",
   "metadata": {},
   "source": [
    "##### Load Word2Vec Model"
   ]
  },
  {
   "cell_type": "markdown",
   "metadata": {},
   "source": [
    "\n",
    "**KeyedVectors** - This object essentially contains the mapping between words and embeddings. After training, it can be used directly to query those embeddings in various ways"
   ]
  },
  {
   "cell_type": "code",
   "execution_count": 55,
   "metadata": {},
   "outputs": [],
   "source": [
    "import gensim\n",
    "from gensim.models import word2vec\n",
    "from gensim.models import KeyedVectors\n",
    "from sklearn.metrics.pairwise import cosine_similarity\n",
    "import scipy\n",
    "import numpy as np"
   ]
  },
  {
   "cell_type": "code",
   "execution_count": 2,
   "metadata": {},
   "outputs": [
    {
     "name": "stdout",
     "output_type": "stream",
     "text": [
      "4.3.3\n"
     ]
    }
   ],
   "source": [
    "print(gensim.__version__)"
   ]
  },
  {
   "cell_type": "code",
   "execution_count": 3,
   "metadata": {},
   "outputs": [
    {
     "name": "stdout",
     "output_type": "stream",
     "text": [
      "1.13.1 1.26.4\n"
     ]
    }
   ],
   "source": [
    "print(scipy.__version__,numpy.__version__)"
   ]
  },
  {
   "cell_type": "code",
   "execution_count": 4,
   "metadata": {},
   "outputs": [],
   "source": [
    "path = r\"C:\\Users\\abhis\\Downloads\\GoogleNews-vectors-negative300.bin\\GoogleNews-vectors-negative300.bin\""
   ]
  },
  {
   "cell_type": "code",
   "execution_count": 5,
   "metadata": {},
   "outputs": [],
   "source": [
    "word_vectors = KeyedVectors.load_word2vec_format(path,binary=True)"
   ]
  },
  {
   "cell_type": "code",
   "execution_count": 49,
   "metadata": {},
   "outputs": [],
   "source": [
    "v_apple = word_vectors[\"Mango\"] \n",
    "v_mango = word_vectors[\"Moscow\"]"
   ]
  },
  {
   "cell_type": "code",
   "execution_count": 50,
   "metadata": {},
   "outputs": [
    {
     "name": "stdout",
     "output_type": "stream",
     "text": [
      "(300,)\n",
      "(300,)\n"
     ]
    }
   ],
   "source": [
    "print(v_apple.shape)\n",
    "print(v_mango.shape)"
   ]
  },
  {
   "cell_type": "code",
   "execution_count": 51,
   "metadata": {},
   "outputs": [
    {
     "data": {
      "text/plain": [
       "array([[0.01370682]], dtype=float32)"
      ]
     },
     "execution_count": 51,
     "metadata": {},
     "output_type": "execute_result"
    }
   ],
   "source": [
    "cosine_similarity([v_mango],[v_apple])"
   ]
  },
  {
   "cell_type": "code",
   "execution_count": 27,
   "metadata": {},
   "outputs": [],
   "source": [
    "import numpy as np"
   ]
  },
  {
   "cell_type": "markdown",
   "metadata": {},
   "source": [
    "## 1. Find the Odd One Out"
   ]
  },
  {
   "cell_type": "code",
   "execution_count": 56,
   "metadata": {},
   "outputs": [],
   "source": [
    "def odd_one_out(words):\n",
    "    \"\"\"Accepts a list of words and returns the odd word\"\"\"\n",
    "    \n",
    "    # Generate all word embeddings for the given list\n",
    "    all_word_vectors = [word_vectors[w] for w in words]\n",
    "    avg_vector = np.mean(all_word_vectors,axis=0)\n",
    "    print(avg_vector.shape)\n",
    "    \n",
    "    #Iterate over every word and find similarity\n",
    "    odd_one_out = None\n",
    "    min_similarity = 1.0 #Very high value\n",
    "    \n",
    "    for w in words:\n",
    "        sim = cosine_similarity([word_vectors[w]],[avg_vector])\n",
    "        if sim < min_similarity:\n",
    "            min_similarity = sim\n",
    "            odd_one_out = w\n",
    "    \n",
    "        print(\"Similairy btw %s and avg vector is %.2f\"%(w,sim[0][0]))\n",
    "            \n",
    "    return odd_one_out"
   ]
  },
  {
   "cell_type": "code",
   "execution_count": 57,
   "metadata": {},
   "outputs": [],
   "source": [
    "input_1 = [\"apple\",\"mango\",\"juice\",\"party\",\"orange\"] \n",
    "input_2 = [\"music\",\"dance\",\"sleep\",\"dancer\",\"food\"]        \n",
    "input_3  = [\"match\",\"player\",\"football\",\"cricket\",\"dancer\"]\n",
    "input_4 = [\"india\",\"italy\",\"england\",\"france\",\"germany\"]"
   ]
  },
  {
   "cell_type": "code",
   "execution_count": 58,
   "metadata": {},
   "outputs": [
    {
     "name": "stdout",
     "output_type": "stream",
     "text": [
      "(300,)\n",
      "Similairy btw apple and avg vector is 0.78\n",
      "Similairy btw mango and avg vector is 0.76\n",
      "Similairy btw juice and avg vector is 0.71\n",
      "Similairy btw party and avg vector is 0.36\n",
      "Similairy btw orange and avg vector is 0.65\n"
     ]
    },
    {
     "data": {
      "text/plain": [
       "'party'"
      ]
     },
     "execution_count": 58,
     "metadata": {},
     "output_type": "execute_result"
    }
   ],
   "source": [
    "odd_one_out(input_1) "
   ]
  },
  {
   "cell_type": "code",
   "execution_count": 59,
   "metadata": {},
   "outputs": [
    {
     "name": "stdout",
     "output_type": "stream",
     "text": [
      "(300,)\n",
      "Similairy btw music and avg vector is 0.66\n",
      "Similairy btw dance and avg vector is 0.81\n",
      "Similairy btw sleep and avg vector is 0.51\n",
      "Similairy btw dancer and avg vector is 0.72\n",
      "Similairy btw food and avg vector is 0.52\n"
     ]
    },
    {
     "data": {
      "text/plain": [
       "'sleep'"
      ]
     },
     "execution_count": 59,
     "metadata": {},
     "output_type": "execute_result"
    }
   ],
   "source": [
    "odd_one_out(input_2) "
   ]
  },
  {
   "cell_type": "code",
   "execution_count": 60,
   "metadata": {},
   "outputs": [
    {
     "name": "stdout",
     "output_type": "stream",
     "text": [
      "(300,)\n",
      "Similairy btw match and avg vector is 0.58\n",
      "Similairy btw player and avg vector is 0.68\n",
      "Similairy btw football and avg vector is 0.72\n",
      "Similairy btw cricket and avg vector is 0.70\n",
      "Similairy btw dancer and avg vector is 0.53\n"
     ]
    },
    {
     "data": {
      "text/plain": [
       "'dancer'"
      ]
     },
     "execution_count": 60,
     "metadata": {},
     "output_type": "execute_result"
    }
   ],
   "source": [
    "odd_one_out(input_3)"
   ]
  },
  {
   "cell_type": "code",
   "execution_count": 61,
   "metadata": {},
   "outputs": [
    {
     "name": "stdout",
     "output_type": "stream",
     "text": [
      "(300,)\n",
      "Similairy btw india and avg vector is 0.79\n",
      "Similairy btw italy and avg vector is 0.81\n",
      "Similairy btw england and avg vector is 0.84\n",
      "Similairy btw france and avg vector is 0.83\n",
      "Similairy btw germany and avg vector is 0.83\n"
     ]
    },
    {
     "data": {
      "text/plain": [
       "'india'"
      ]
     },
     "execution_count": 61,
     "metadata": {},
     "output_type": "execute_result"
    }
   ],
   "source": [
    "odd_one_out(input_4)"
   ]
  },
  {
   "cell_type": "markdown",
   "metadata": {},
   "source": [
    "### 2. Word Analogies Task"
   ]
  },
  {
   "cell_type": "markdown",
   "metadata": {},
   "source": [
    "In the word analogy task, we complete the sentence \"a is to b as c is to __\". An example is 'man is to woman as king is to queen' . In detail, we are trying to find a word d, such that the associated word vectors `ea,eb,ec,ed` are related in the following manner: `eb−ea≈ed−ec`. We will measure the similarity between `eb−ea` and `ed−ec` using cosine similarity. \n"
   ]
  },
  {
   "cell_type": "markdown",
   "metadata": {},
   "source": [
    "`man -> woman :: \tprince -> princess`  \n",
    "`italy -> italian :: \tspain -> spanish`  \n",
    "`india -> delhi :: \tjapan -> tokyo`  \n",
    "`man -> woman :: \tboy -> girl`  \n",
    "`small -> smaller :: \tlarge -> larger`  \n",
    "\n",
    "#### Try it out \n",
    "\n",
    "\n",
    "`man -> coder :: woman -> ______?`\n"
   ]
  },
  {
   "cell_type": "code",
   "execution_count": 62,
   "metadata": {},
   "outputs": [
    {
     "data": {
      "text/plain": [
       "3000000"
      ]
     },
     "execution_count": 62,
     "metadata": {},
     "output_type": "execute_result"
    }
   ],
   "source": [
    "len(word_vectors.index_to_key)"
   ]
  },
  {
   "cell_type": "code",
   "execution_count": 63,
   "metadata": {},
   "outputs": [
    {
     "data": {
      "text/plain": [
       "(300,)"
      ]
     },
     "execution_count": 63,
     "metadata": {},
     "output_type": "execute_result"
    }
   ],
   "source": [
    "word_vectors[\"man\"].shape"
   ]
  },
  {
   "cell_type": "code",
   "execution_count": 65,
   "metadata": {},
   "outputs": [],
   "source": [
    "def predict_word(a,b,c,word_vectors):\n",
    "    \"\"\"Accepts a triad of words, a,b,c and returns d such that a is to b : c is to d\"\"\"\n",
    "    a,b,c = a.lower(),b.lower(),c.lower()\n",
    "    \n",
    "    # similarity |b-a| = |d-c| should be max\n",
    "    max_similarity = -100 \n",
    "    \n",
    "    d = None\n",
    "    \n",
    "    words = list(word_vectors.index_to_key)\n",
    "    \n",
    "    wa,wb,wc = word_vectors[a],word_vectors[b],word_vectors[c]\n",
    "    \n",
    "    #to find d s.t similarity(|b-a|,|d-c|) should be max\n",
    "    \n",
    "    for w in words:\n",
    "        if w in [a,b,c]:\n",
    "            continue\n",
    "        \n",
    "        wv = word_vectors[w]\n",
    "        sim = cosine_similarity([wb-wa],[wv-wc])\n",
    "        \n",
    "        if sim > max_similarity:\n",
    "            max_similarity = sim\n",
    "            d = w\n",
    "            \n",
    "    return d    "
   ]
  },
  {
   "cell_type": "code",
   "execution_count": 66,
   "metadata": {
    "scrolled": true
   },
   "outputs": [
    {
     "ename": "KeyboardInterrupt",
     "evalue": "",
     "output_type": "error",
     "traceback": [
      "\u001b[31m---------------------------------------------------------------------------\u001b[39m",
      "\u001b[31mKeyboardInterrupt\u001b[39m                         Traceback (most recent call last)",
      "\u001b[36mCell\u001b[39m\u001b[36m \u001b[39m\u001b[32mIn[66]\u001b[39m\u001b[32m, line 2\u001b[39m\n\u001b[32m      1\u001b[39m triad_2 = (\u001b[33m\"\u001b[39m\u001b[33mman\u001b[39m\u001b[33m\"\u001b[39m,\u001b[33m\"\u001b[39m\u001b[33mwoman\u001b[39m\u001b[33m\"\u001b[39m,\u001b[33m\"\u001b[39m\u001b[33mprince\u001b[39m\u001b[33m\"\u001b[39m)\n\u001b[32m----> \u001b[39m\u001b[32m2\u001b[39m \u001b[43mpredict_word\u001b[49m\u001b[43m(\u001b[49m\u001b[43m*\u001b[49m\u001b[43mtriad_2\u001b[49m\u001b[43m,\u001b[49m\u001b[43mword_vectors\u001b[49m\u001b[43m)\u001b[49m\n",
      "\u001b[36mCell\u001b[39m\u001b[36m \u001b[39m\u001b[32mIn[65]\u001b[39m\u001b[32m, line 21\u001b[39m, in \u001b[36mpredict_word\u001b[39m\u001b[34m(a, b, c, word_vectors)\u001b[39m\n\u001b[32m     18\u001b[39m     \u001b[38;5;28;01mcontinue\u001b[39;00m\n\u001b[32m     20\u001b[39m wv = word_vectors[w]\n\u001b[32m---> \u001b[39m\u001b[32m21\u001b[39m sim = \u001b[43mcosine_similarity\u001b[49m\u001b[43m(\u001b[49m\u001b[43m[\u001b[49m\u001b[43mwb\u001b[49m\u001b[43m-\u001b[49m\u001b[43mwa\u001b[49m\u001b[43m]\u001b[49m\u001b[43m,\u001b[49m\u001b[43m[\u001b[49m\u001b[43mwv\u001b[49m\u001b[43m-\u001b[49m\u001b[43mwc\u001b[49m\u001b[43m]\u001b[49m\u001b[43m)\u001b[49m\n\u001b[32m     23\u001b[39m \u001b[38;5;28;01mif\u001b[39;00m sim > max_similarity:\n\u001b[32m     24\u001b[39m     max_similarity = sim\n",
      "\u001b[36mFile \u001b[39m\u001b[32m~\\miniconda3\\Lib\\site-packages\\sklearn\\utils\\_param_validation.py:216\u001b[39m, in \u001b[36mvalidate_params.<locals>.decorator.<locals>.wrapper\u001b[39m\u001b[34m(*args, **kwargs)\u001b[39m\n\u001b[32m    210\u001b[39m \u001b[38;5;28;01mtry\u001b[39;00m:\n\u001b[32m    211\u001b[39m     \u001b[38;5;28;01mwith\u001b[39;00m config_context(\n\u001b[32m    212\u001b[39m         skip_parameter_validation=(\n\u001b[32m    213\u001b[39m             prefer_skip_nested_validation \u001b[38;5;129;01mor\u001b[39;00m global_skip_validation\n\u001b[32m    214\u001b[39m         )\n\u001b[32m    215\u001b[39m     ):\n\u001b[32m--> \u001b[39m\u001b[32m216\u001b[39m         \u001b[38;5;28;01mreturn\u001b[39;00m \u001b[43mfunc\u001b[49m\u001b[43m(\u001b[49m\u001b[43m*\u001b[49m\u001b[43margs\u001b[49m\u001b[43m,\u001b[49m\u001b[43m \u001b[49m\u001b[43m*\u001b[49m\u001b[43m*\u001b[49m\u001b[43mkwargs\u001b[49m\u001b[43m)\u001b[49m\n\u001b[32m    217\u001b[39m \u001b[38;5;28;01mexcept\u001b[39;00m InvalidParameterError \u001b[38;5;28;01mas\u001b[39;00m e:\n\u001b[32m    218\u001b[39m     \u001b[38;5;66;03m# When the function is just a wrapper around an estimator, we allow\u001b[39;00m\n\u001b[32m    219\u001b[39m     \u001b[38;5;66;03m# the function to delegate validation to the estimator, but we replace\u001b[39;00m\n\u001b[32m    220\u001b[39m     \u001b[38;5;66;03m# the name of the estimator by the name of the function in the error\u001b[39;00m\n\u001b[32m    221\u001b[39m     \u001b[38;5;66;03m# message to avoid confusion.\u001b[39;00m\n\u001b[32m    222\u001b[39m     msg = re.sub(\n\u001b[32m    223\u001b[39m         \u001b[33mr\u001b[39m\u001b[33m\"\u001b[39m\u001b[33mparameter of \u001b[39m\u001b[33m\\\u001b[39m\u001b[33mw+ must be\u001b[39m\u001b[33m\"\u001b[39m,\n\u001b[32m    224\u001b[39m         \u001b[33mf\u001b[39m\u001b[33m\"\u001b[39m\u001b[33mparameter of \u001b[39m\u001b[38;5;132;01m{\u001b[39;00mfunc.\u001b[34m__qualname__\u001b[39m\u001b[38;5;132;01m}\u001b[39;00m\u001b[33m must be\u001b[39m\u001b[33m\"\u001b[39m,\n\u001b[32m    225\u001b[39m         \u001b[38;5;28mstr\u001b[39m(e),\n\u001b[32m    226\u001b[39m     )\n",
      "\u001b[36mFile \u001b[39m\u001b[32m~\\miniconda3\\Lib\\site-packages\\sklearn\\metrics\\pairwise.py:1747\u001b[39m, in \u001b[36mcosine_similarity\u001b[39m\u001b[34m(X, Y, dense_output)\u001b[39m\n\u001b[32m   1745\u001b[39m     Y_normalized = X_normalized\n\u001b[32m   1746\u001b[39m \u001b[38;5;28;01melse\u001b[39;00m:\n\u001b[32m-> \u001b[39m\u001b[32m1747\u001b[39m     Y_normalized = \u001b[43mnormalize\u001b[49m\u001b[43m(\u001b[49m\u001b[43mY\u001b[49m\u001b[43m,\u001b[49m\u001b[43m \u001b[49m\u001b[43mcopy\u001b[49m\u001b[43m=\u001b[49m\u001b[38;5;28;43;01mTrue\u001b[39;49;00m\u001b[43m)\u001b[49m\n\u001b[32m   1749\u001b[39m K = safe_sparse_dot(X_normalized, Y_normalized.T, dense_output=dense_output)\n\u001b[32m   1751\u001b[39m \u001b[38;5;28;01mreturn\u001b[39;00m K\n",
      "\u001b[36mFile \u001b[39m\u001b[32m~\\miniconda3\\Lib\\site-packages\\sklearn\\utils\\_param_validation.py:189\u001b[39m, in \u001b[36mvalidate_params.<locals>.decorator.<locals>.wrapper\u001b[39m\u001b[34m(*args, **kwargs)\u001b[39m\n\u001b[32m    187\u001b[39m global_skip_validation = get_config()[\u001b[33m\"\u001b[39m\u001b[33mskip_parameter_validation\u001b[39m\u001b[33m\"\u001b[39m]\n\u001b[32m    188\u001b[39m \u001b[38;5;28;01mif\u001b[39;00m global_skip_validation:\n\u001b[32m--> \u001b[39m\u001b[32m189\u001b[39m     \u001b[38;5;28;01mreturn\u001b[39;00m \u001b[43mfunc\u001b[49m\u001b[43m(\u001b[49m\u001b[43m*\u001b[49m\u001b[43margs\u001b[49m\u001b[43m,\u001b[49m\u001b[43m \u001b[49m\u001b[43m*\u001b[49m\u001b[43m*\u001b[49m\u001b[43mkwargs\u001b[49m\u001b[43m)\u001b[49m\n\u001b[32m    191\u001b[39m func_sig = signature(func)\n\u001b[32m    193\u001b[39m \u001b[38;5;66;03m# Map *args/**kwargs to the function signature\u001b[39;00m\n",
      "\u001b[36mFile \u001b[39m\u001b[32m~\\miniconda3\\Lib\\site-packages\\sklearn\\preprocessing\\_data.py:1965\u001b[39m, in \u001b[36mnormalize\u001b[39m\u001b[34m(X, norm, axis, copy, return_norm)\u001b[39m\n\u001b[32m   1961\u001b[39m     sparse_format = \u001b[33m\"\u001b[39m\u001b[33mcsr\u001b[39m\u001b[33m\"\u001b[39m\n\u001b[32m   1963\u001b[39m xp, _ = get_namespace(X)\n\u001b[32m-> \u001b[39m\u001b[32m1965\u001b[39m X = \u001b[43mcheck_array\u001b[49m\u001b[43m(\u001b[49m\n\u001b[32m   1966\u001b[39m \u001b[43m    \u001b[49m\u001b[43mX\u001b[49m\u001b[43m,\u001b[49m\n\u001b[32m   1967\u001b[39m \u001b[43m    \u001b[49m\u001b[43maccept_sparse\u001b[49m\u001b[43m=\u001b[49m\u001b[43msparse_format\u001b[49m\u001b[43m,\u001b[49m\n\u001b[32m   1968\u001b[39m \u001b[43m    \u001b[49m\u001b[43mcopy\u001b[49m\u001b[43m=\u001b[49m\u001b[43mcopy\u001b[49m\u001b[43m,\u001b[49m\n\u001b[32m   1969\u001b[39m \u001b[43m    \u001b[49m\u001b[43mestimator\u001b[49m\u001b[43m=\u001b[49m\u001b[33;43m\"\u001b[39;49m\u001b[33;43mthe normalize function\u001b[39;49m\u001b[33;43m\"\u001b[39;49m\u001b[43m,\u001b[49m\n\u001b[32m   1970\u001b[39m \u001b[43m    \u001b[49m\u001b[43mdtype\u001b[49m\u001b[43m=\u001b[49m\u001b[43m_array_api\u001b[49m\u001b[43m.\u001b[49m\u001b[43msupported_float_dtypes\u001b[49m\u001b[43m(\u001b[49m\u001b[43mxp\u001b[49m\u001b[43m)\u001b[49m\u001b[43m,\u001b[49m\n\u001b[32m   1971\u001b[39m \u001b[43m    \u001b[49m\u001b[43mforce_writeable\u001b[49m\u001b[43m=\u001b[49m\u001b[38;5;28;43;01mTrue\u001b[39;49;00m\u001b[43m,\u001b[49m\n\u001b[32m   1972\u001b[39m \u001b[43m\u001b[49m\u001b[43m)\u001b[49m\n\u001b[32m   1973\u001b[39m \u001b[38;5;28;01mif\u001b[39;00m axis == \u001b[32m0\u001b[39m:\n\u001b[32m   1974\u001b[39m     X = X.T\n",
      "\u001b[36mFile \u001b[39m\u001b[32m~\\miniconda3\\Lib\\site-packages\\sklearn\\utils\\validation.py:1117\u001b[39m, in \u001b[36mcheck_array\u001b[39m\u001b[34m(array, accept_sparse, accept_large_sparse, dtype, order, copy, force_writeable, force_all_finite, ensure_all_finite, ensure_non_negative, ensure_2d, allow_nd, ensure_min_samples, ensure_min_features, estimator, input_name)\u001b[39m\n\u001b[32m   1114\u001b[39m \u001b[38;5;28;01mif\u001b[39;00m copy:\n\u001b[32m   1115\u001b[39m     \u001b[38;5;28;01mif\u001b[39;00m _is_numpy_namespace(xp):\n\u001b[32m   1116\u001b[39m         \u001b[38;5;66;03m# only make a copy if `array` and `array_orig` may share memory`\u001b[39;00m\n\u001b[32m-> \u001b[39m\u001b[32m1117\u001b[39m         \u001b[38;5;28;01mif\u001b[39;00m \u001b[43mnp\u001b[49m\u001b[43m.\u001b[49m\u001b[43mmay_share_memory\u001b[49m\u001b[43m(\u001b[49m\u001b[43marray\u001b[49m\u001b[43m,\u001b[49m\u001b[43m \u001b[49m\u001b[43marray_orig\u001b[49m\u001b[43m)\u001b[49m:\n\u001b[32m   1118\u001b[39m             array = _asarray_with_order(\n\u001b[32m   1119\u001b[39m                 array, dtype=dtype, order=order, copy=\u001b[38;5;28;01mTrue\u001b[39;00m, xp=xp\n\u001b[32m   1120\u001b[39m             )\n\u001b[32m   1121\u001b[39m     \u001b[38;5;28;01melse\u001b[39;00m:\n\u001b[32m   1122\u001b[39m         \u001b[38;5;66;03m# always make a copy for non-numpy arrays\u001b[39;00m\n",
      "\u001b[31mKeyboardInterrupt\u001b[39m: "
     ]
    }
   ],
   "source": [
    "triad_2 = (\"man\",\"woman\",\"prince\")\n",
    "predict_word(*triad_2,word_vectors)\n"
   ]
  },
  {
   "cell_type": "markdown",
   "metadata": {},
   "source": [
    "## Using the Most Similar Method"
   ]
  },
  {
   "cell_type": "code",
   "execution_count": 71,
   "metadata": {},
   "outputs": [
    {
     "data": {
      "text/plain": [
       "[('Princess', 0.5782229900360107),\n",
       " ('prince', 0.4896881580352783),\n",
       " ('Queen_Elizabeth', 0.4773401618003845),\n",
       " ('Her_Majesty_Queen_Elizabeth', 0.4658620357513428),\n",
       " ('Empress', 0.46556320786476135),\n",
       " ('Princess_Charming', 0.46403855085372925),\n",
       " ('Princes', 0.4597792327404022),\n",
       " ('Beehive_Hairdo', 0.45905569195747375),\n",
       " ('Mrs_Parker_Bowles', 0.45887893438339233),\n",
       " ('Prince_Charles', 0.4587457478046417)]"
      ]
     },
     "execution_count": 71,
     "metadata": {},
     "output_type": "execute_result"
    }
   ],
   "source": [
    "word_vectors.most_similar(positive=['Queen', 'Prince'], negative=['King'], topn=10)"
   ]
  },
  {
   "cell_type": "markdown",
   "metadata": {},
   "source": [
    "## 3. Training Your Own Word2Vec Model"
   ]
  },
  {
   "cell_type": "markdown",
   "metadata": {},
   "source": [
    "Word2Vec model can learn embeddings from any text corpus!\n",
    "- Continuous Bag of Words Model\n",
    "- Skip Gram Model\n",
    "\n",
    "`Algorithm looks at window of target word(Y) to provide context word(X), the model is trained on (X,Y) pairs in a superwised manner.` The algorithm was developed by Tomas Mikolov."
   ]
  },
  {
   "cell_type": "markdown",
   "metadata": {},
   "source": [
    "#### Data Preparation\n"
   ]
  },
  {
   "cell_type": "markdown",
   "metadata": {},
   "source": [
    "\n",
    "- Each sentence must be tokenized, into a list of words.\n",
    "\n",
    "- The sentences can be text loaded into memory once,\n",
    "or we can build a data pipeline which iteratively feeds data to the model.\n"
   ]
  },
  {
   "cell_type": "code",
   "execution_count": 74,
   "metadata": {},
   "outputs": [],
   "source": [
    "import nltk\n",
    "from nltk.corpus import stopwords"
   ]
  },
  {
   "cell_type": "code",
   "execution_count": 75,
   "metadata": {},
   "outputs": [],
   "source": [
    "stopw  = set(stopwords.words('english'))"
   ]
  },
  {
   "cell_type": "code",
   "execution_count": 116,
   "metadata": {},
   "outputs": [],
   "source": [
    "## Read the file \n",
    "def readFile(file): \n",
    "    f = open(file,'r',encoding='utf-8')\n",
    "    text = f.read()\n",
    "    sentences = nltk.sent_tokenize(text)\n",
    "    \n",
    "    data = []\n",
    "    for sent in sentences:\n",
    "        words =  nltk.word_tokenize(sent)\n",
    "        words = [w.lower() for w in words if len(w)>2 and w not in stopw]\n",
    "        data.append(words)\n",
    "        \n",
    "    return data\n",
    "\n",
    "text = readFile('bollywood_news.txt')"
   ]
  },
  {
   "cell_type": "code",
   "execution_count": 117,
   "metadata": {},
   "outputs": [
    {
     "name": "stdout",
     "output_type": "stream",
     "text": [
      "[['deepika', 'padukone', 'ranveer', 'singh', 'wedding', 'one', 'biggest', 'bollywood', 'events', 'happened', '2018'], ['the', 'deepveer', 'celebrations', 'hooked', 'phones', 'waiting', 'come', 'also', 'gave', 'enough', 'reason', 'believe', 'stylish', 'two', 'couple'], ['from', 'airport', 'looks', 'reception', 'parties', 'everything', 'entire', 'timeline', 'ranveer', 'wedding', 'style', 'file'], ['not', 'ambanis', 'deepika', 'ranveer', 'priyanka', 'nick'], ['man', 'proves', 'wedding', 'the', 'year', 'this', 'year', 'year', 'big', 'fat', 'lavish', 'extravagant', 'weddings'], ['from', 'isha', 'ambani', 'anand', 'piramal', 'deepika', 'padukone', 'ranveer', 'singh', 'priyanka', 'chopra', 'nick', 'jonas', 'kapil', 'sharma', 'ginni', 'chatrath', '2018', 'saw', 'many', 'grand', 'weddings'], ['but', 'nothing', 'beats', 'man', 'wedding', 'the', 'year', 'award', 'social', 'media'], ['the', 'wedding', 'season', 'year', 'kicked', 'deepika', 'padukone', 'ranveer', 'singh', 'flew', 'lake', 'como', 'tie', 'knot', 'two', 'days', 'november'], ['they', 'several', 'lavish', 'wedding', 'reception', 'parties', 'bengaluru', 'mumbai'], ['even', 'deepika', 'ranveer', 'wedding', 'reception', 'parties', 'continued', 'priyanka', 'chopra', 'tied', 'knot', 'american', 'singer', 'nick', 'jonas', 'jodhpur', 'december', 'yet', 'another', 'grand', 'wedding', 'spread', 'week'], ['priyanka', 'nick', 'hosted', 'reception', 'parties', 'delhi', 'december', 'mumbai', 'december'], ['the', 'couple', 'yet', 'host', 'another', 'reception', 'party', 'los', 'angeles'], ['time', 'priyanka', 'chopra', 'nick', 'jonas', 'could', 'move', 'wedding', 'reception', 'parties', 'mukesh', 'nita', 'ambani', 'daughter', 'isha', 'ambani', 'ajay', 'swati', 'piramal', 'son', 'anand', 'piramal', 'pre-wedding', 'festivities', 'took', 'udaipur'], ['this', 'december'], ['the', 'two-day', 'events', 'udaipur', 'culminated', 'performance', 'american', 'pop', 'sensation', 'beyonce'], ['and', 'soon', 'december', 'isha', 'anand', 'tied', 'knot', 'antilia', 'mumbai', 'event', 'followed', 'three', 'reception', 'parties'], ['three', 'high-profile', 'weddings', 'several', 'stars', 'tied', 'knot'], ['star', 'kapil', 'sharma', 'married', 'ginni', 'chatrath', 'ace', 'badminton', 'player', 'saina', 'nehwal', 'parupalli', 'kashyap', 'tied', 'knot', 'cricketer', 'sanju', 'samson', 'married', 'college', 'sweetheart', 'charulatha'], ['but', 'wedding', 'rizwan', 'pehelwan', 'much', 'like', 'many', 'couples', 'close-knit', 'weddings', 'year', 'probably', 'took', 'wedding', 'cake'], ['deepika', 'ranveer', 'known', 'airport', 'twinning', 'appearances', 'surprise', 'see', 'twin', 'white', 'left', 'destination', 'wedding', 'italy'], ['deepika', 'ranveer', 'two', 'wedding', 'ceremonies', 'everyone', 'knows', 'one', 'sindhi', 'konkani'], ['for', 'sindhi', 'wedding', 'seen', 'wearing', 'custom-made', 'sabyasachi', 'ensembles', 'traditional', 'gorgeous', 'silk', 'saree', 'deepika', 'ranveer', 'white', 'silk', 'kurta', 'gorgeous', 'backdrop', 'lake', 'como', 'italy', 'perfect'], ['the', 'couple', 'seen', 'sabyasachi', 'yet', 'made', 'way', 'back', 'bay', 'celebrating', 'union', 'italy'], ['love', 'two', 'wore', 'neutral', 'colours', 'added', 'pop', 'dupatta', 'waistcoat'], ['the', 'celebrations', 'began', 'bangalore', 'reception', 'deepika', 'seen', 'stunning', 'sabyasachi', 'saree', 'ranveer', 'sherwani'], ['the', 'celebrations', 'began', 'bangalore', 'reception', 'deepika', 'dressed', 'stunning', 'sabyasachi', 'saree', 'ranveer', 'sherwani'], ['ranveer', 'handcrafted', 'anti-fit', 'long', 'silk', 'jacket', 'manish', 'arora', 'signature', 'heart', 'motif', 'complete', 'leopard', 'head', 'attached', 'right', 'shoulder'], ['deepika', 'flowed', 'vibe', 'fully', 'floral', 'sabyasachi', 'saree', 'wowed'], ['deepika', 'wearing', 'gorgeous', 'chikankari', 'creation', 'abu', 'jani', 'sandeep', 'khosla', 'ranveer', 'wore', 'custom-made', 'sherwani'], ['newlywed', 'power', 'couple', 'priyanka', 'chopra', 'nick', 'jonas', 'cloud', 'nine', 'fairytale', 'wedding', 'three', 'back-to-back', 'wedding', 'receptions'], ['the', 'couple', 'tied', 'knot', 'umaid', 'bhawan', 'palace', 'jodhpur', 'december', 'private', 'wedding', 'affair'], ['since', 'world', \"n't\", 'get', 'pictures', 'bollywood-hollywood', 'couple'], ['and', 'thought', 'got', 'wedding', 'galore', 'eyes', 'felt', 'beautiful', 'pictures', 'couple'], ['both', 'priyanka', 'nick', 'looking', 'extremely', 'gorgeous', 'pictures'], ['man', 'moment', 'nick', 'jonas', 'perfectly', 'complements', 'lady', 'love', 'priyanka', 'corners'], ['and', 'priyanka', 'smile', 'make', 'everybody', 'fall'], ['after', 'four', 'days', 'wedding', 'festivities', 'topped', 'three', 'receptions', 'party', 'still', 'newlyweds', 'priyanka', 'chopra', 'nick', 'jonas'], ['the', 'couple', 'tied', 'knot', 'december', 'elaborate', 'ceremonies', 'reportedly', 'host', 'big', 'bash', 'los', 'angeles', 'hollywood', 'friends'], ['according', 'reports', 'rounds', 'couple', 'allegedly', 'host', 'black-tie', 'event', 'priyanka', 'close', 'friends', 'like', 'kerry', 'washington', 'dwayne', 'johnson', 'ellen', 'degeneres', 'among', 'co-stars', 'many', 'films', 'show', 'quantico'], ['reports', 'even', 'suggest', 'pregnant', 'duchess', 'sussex-', 'meghan', 'markle', 'also', 'received', 'invite'], ['meanwhile', 'nick', 'friends', 'music', 'industry', 'also', 'expected', 'join', 'festivities'], ['priyanka', 'chopra', 'nick', 'jonas', 'got', 'married', 'month', 'jodhpur', 'umaid', 'bhawan', 'palace'], ['less', 'fairytale', 'wedding'], ['after', 'dating', 'months', 'duo', 'decided', 'take', 'relationship', 'next', 'level'], ['and', 'got', 'man', 'looking'], ['now', 'nick', 'took', 'instagram', 'story', 'express', 'amazing', 'year', 'posting', 'collage', 'pictures', 'best', 'moments', 'bollywood', 'diva', 'took', 'place', 'year'], ['and', 'adorable', 'would', 'understatement'], ['nick', 'jonas', 'priyanka', 'chopra', 'dominated', 'social', 'media', 'since', 'time', 'announced', 'relationship', 'since', 'giving', 'major', 'couple', 'goals'], ['the', 'couple', 'tied', 'knot', 'umaid', 'bhawan', 'palace', 'jodhpur', 'per', 'hindu', 'christian', 'traditions', 'raised', 'bar', 'next', 'level'], ['thought', 'seen', 'wedding', 'another', 'adorable', 'picture', 'nickyanka', 'fairytale', 'wedding', 'celebrations', 'wherein', 'see', 'nick', 'escorting', 'ladylove'], ['hours', 'ago', 'peecee', 'taken', 'instagram', 'share', 'picture', 'hubby', 'wherein', 'could', 'seen', 'posing', 'bollywood', 'style', 'nick', 'holding', 'wife', 'arms'], ['priyanka', 'chopra', 'nick', 'jonas', 'become', 'one', 'loved', 'couples', 'bollywood'], ['the', 'two', 'always', 'look', 'simply', 'adorable', 'together', 'latest', 'picture', 'couple', 'proof'], ['got', 'hands', 'picture', 'priyanka', 'nick', 'captured', 'candidly', 'flight', 'journey', 'together'], ['picture', 'peecee', 'seen', 'fidgeting', 'something', 'nick', 'looks'], ['the', 'dim', 'light', 'background', 'light', 'face', 'window', 'give', 'picture', 'vintage', 'look'], ['priyanka', 'nick', 'took', 'nuptial', 'vows', 'umaid', 'bhavan', 'palace', 'udaipur', 'presence', 'families', 'friends'], ['the', 'two', 'honoured', 'cultures', 'wedding'], ['after', 'lavish', 'wedding', 'also', 'threw', 'grand', 'wedding', 'reception', 'delhi', 'graced', 'narendra', 'modi'], ['bollywood', 'diva', 'priyanka', 'chopra', 'american', 'pop', 'singer', 'nick', 'jonas', 'got', 'married', 'jodhpur', 'umaid', 'bhawan', 'palace', 'december'], ['the', 'couple', 'sharing', 'pictures', 'socials', 'media', 'giving', 'major', 'couple', 'goals'], ['recently', 'took', 'instagram', 'post', 'picture', 'nick', 'photo', 'shoot', 'took', 'place', 'wedding'], ['she', 'captioned', 'image', 'look', 'wonder', 'lies', 'ahead', 'filled', 'joy', 'after', 'mesmerising', 'fans', 'followers', 'love', 'story', 'lavish', 'wedding', 'bollywood', 'actress', 'priyanka', 'chopra', 'nick', 'jonas', 'yesterday', 'flew', 'back', 'america'], ['recently', 'shared', 'picture', 'adorable', 'nieces', 'cute', 'words'], ['the', 'singer', 'actor', 'took', 'instagram', 'handle', 'share', 'picture', 'see', 'working', 'magic', 'keys', 'piano', 'along', 'two', 'beautiful', 'nieces', 'seem', 'teaching', 'play'], ['captioned', 'picture', 'beautiful', 'nieces', 'teaching', 'everything', 'know', 'keys'], ['the', 'couple', 'got', 'hitched', 'umaid', 'bhavan', 'palace', 'jodhpur', 'always', 'open', 'idea', 'kids', 'starting', 'family'], ['speaking', 'nick', 'reportedly', 'said', 'definitely', 'wants', 'father', 'someday'], ['even', 'rumours', 'nick', 'jonas', 'priyanka', 'chopra', 'relationship', 'two', 'gave', 'major', 'couple', 'goals'], ['and', 'lovebirds', 'actually', 'called', 'official', 'tying', 'knot', 'bar', 'set', 'higher'], ['giving', 'serious', 'couple', 'goals', 'nick', 'jonas', 'taken', 'social', 'media', 'handle', 'share', 'adorable', 'picture', 'priyanka', 'chopra', 'christian', 'wedding'], ['the', 'picture', 'features', 'newlyweds', 'cutting', 'huge', 'scrumptious', 'look', 'wedding', 'cake'], ['captioned', 'picture', 'one', 'week', 'ago', 'today'], ['the', 'beautiful', 'couple', 'recently', 'seen', 'pairing', 'ethnic', 'ensemble', 'isha', 'ambani', 'anand', 'piramal', 'pre-wedding', 'festivity', 'cricketer', 'virat', 'kohli', 'wife', 'actor', 'anushka', 'sharma', 'spending', 'new', 'year', 'holiday', 'sydney', 'australia', 'shared', 'new', 'photos', 'give', 'glimpse', 'fans', 'celebrations', 'like'], ['standing', 'street', 'looked', 'ready', 'party', 'couple', 'looks', 'directly', 'camera'], ['anushka', 'shared', 'another', 'photos', 'seen', 'posing', 'husband'], ['busy', 'year', 'virat', 'anushka'], ['while', 'actor', 'three', 'releases', 'year', 'production', 'pari', 'sui', 'dhaaga', 'co-starring', 'varun', 'dhawan', 'zero', 'played', 'scientist', 'cerebral', 'palsy', 'virat', 'maintained', 'pole', 'position', 'year-end', 'icc', 'test', 'player', 'rankings'], ['india', 'also', 'taken', '2-1', 'lead', 'four-match', 'series', 'australia', 'ongoing', 'test', 'series'], ['rajput/instagram', 'from', 'kareena', 'kapoor', 'khan', 'anushka', 'sharma', 'sonam', 'kapoor', 'arjun', 'kapoor', 'rajkummar', 'rao', 'among', 'others', 'b-town', 'celebrities', 'spent', 'new', 'year', 'loved', 'ones'], ['alia', 'bhatt', 'joined', 'ranbir', 'kapoor', 'family', 'celebrate', 'new', 'year'], ['ranbir', 'sister', 'riddhima', 'kapoor', 'sahni', 'shared', 'sneak', 'peek', 'celebrations'], ['also', 'saw', 'mira', 'rajput', 'posting', 'perfect', 'family', 'portrait', 'instagram', 'wishing', 'followers', 'shahid', 'kapoor', 'fans', 'happy', 'new', 'year'], ['neetu', 'kapoor', 'shared', 'photo', 'instagram', 'hoped', '2019', 'step', 'closer', 'times', 'cancer', 'zodiac', 'sign', 'happy', '2019', 'resolutions', 'wishes', 'year'], [], ['less', 'pollution', 'traffic'], ['hope', 'future', 'cancer', 'zodiac', 'sign'], [], ['hatred', 'less', 'poverty', 'loads', 'love', 'togetherness', 'happiness', 'imp'], ['good', 'health', 'anushka', 'sharma', 'sydney', 'virat', 'kohli', 'wrote', 'hope', 'wake', 'new', 'year', 'filled', 'hope', 'peace', 'compassion', 'may', 'strive', 'kinder', 'one', 'another', 'illuminate', 'light', 'beauty', 'resides', 'within', 'happy', 'new', 'year', 'another', 'photo', 'alia', 'looks', 'extremely', 'happy', 'company', 'ranbir', 'family'], ['source', 'riddhima', 'kapoor', 'sahni/', 'instagram', 'weird', 'news', '2019', 'dosa', 'named', 'deepika', 'padukone', 'texas'], ['the', 'actor', 'retweeted', 'fan', 'post', 'dosa', 'saying', 'great', 'way', 'begin', 'year', '...', 'happy', 'new', 'year', 'the', 'dosa', 'comes', 'potato', 'mix', 'topped', 'fiery', 'red', 'ghost', 'chillis'], ['deepika', 'padukone', 'deepikapadukone', 'great', 'way', 'begin', 'year', '...', 'happy', 'new', 'year', '😁❤️😁', 'deepika', 'padukone', 'deepikapfc', 'haha', 'deepikapadukone', 'gon', 'love', 'https', '//twitter.com/sailee_rk/status/1079964902268141568', 'ranveer', 'deepika', 'present', 'honeymoon', 'tying', 'knot', 'november', 'last', 'year', 'italy', 'lake', 'como'], ['the', 'couple', 'went', 'host', 'three', 'wedding', 'receptions', 'mumbai', 'bengaluru'], ['ranveer', 'occupied', 'promotion', 'film', 'simmba', 'already', 'made', '100', 'crore', 'box', 'office'], ['interview', 'actor', 'said', 'relationship', 'deepika', 'she', 'seeing', 'six', 'years'], ['period', 'time', 'grown', 'evolved', 'together'], ['deepika', 'person', 'used', 'six', 'years', 'back', 'neither'], ['our', 'growth', 'evolution', 'happened', 'stayed', 'connected'], ['evolution', 'human', 'beings', 'happened', 'together'], ['really', 'stronger', 'ever', 'before.', 'ranveer', 'singh', 'phenomenal', '2018'], ['terms', 'box', 'office', 'revenue', 'biggest', 'star', 'year', 'two', 'films', 'made', '400', 'crore', 'box', 'office', 'number', 'set', 'high', 'simmba', 'still', 'wreaking', 'havoc', 'box', 'office'], ['his', 'upcoming', 'february', 'release', 'gully', 'boy', 'selected', 'berlin', 'film', 'festival'], ['and', 'turned', 'new', 'leaf', 'life', 'married', 'india', 'top', 'superstar', 'deepika', 'padukone'], ['further', 'talking', 'much', 'talked', 'marriage', 'deepika', 'padukone', 'ranveer', 'added', 'despite', 'biggest', 'blockbuster', 'padmaavat', 'herogiri', 'simmba', 'appreciated', 'one', 'believes', 'marriage', 'deepika', 'padukone', 'life', 'biggest', 'achievement'], ['also', 'added', 'feels', 'superpower', 'feels', 'invincible', 'protected', 'knowing', 'deepika', 'side', 'cares'], ['deepika', 'padukone', 'reveals', 'relationship', 'ranveer', 'singh', 'evolved', 'years', 'deepika', 'padukone', 'ranveer', 'singh', 'currently', 'one', 'talked', 'couples', 'bollywood'], ['the', 'duo', 'lately', 'dodging', 'questions', 'related', 'marriage.in', 'recent', 'interview', 'femina', 'magazine', 'actress', 'asked', 'relationship', 'ranveer', 'singh', 'evolved', 'years', 'reportedly', 'replied', 'connect', 'people', 'lives', 'relationship', 'bound', 'evolve', 'ranveer', 'feel', 'connection'], ['she', 'said', 'feels', 'great', 'find', 'ranveer', 'someone', 'depended', 'upon', 'trusted', 'someone', 'puts', 'others'], ['adding', 'said', 'fun', 'honest'], ['she', 'considers', 'best', 'friend.meanwhile', 'work', 'front', 'actress', 'set', 'work', 'alongside', 'meghna', 'gulzar', 'untitled', 'next', 'ranveer', 'working', \"'simmba\", \"'gully\", 'boy', 'karan', 'johar', 'magnum', 'opus', \"'takht\"], ['when', 'ranveer', 'singh', 'said', 'working', 'towards', 'becoming', 'husband', 'millennium', 'joking'], ['after', 'letting', 'deepika', 'padukone', 'take', 'reins', 'intimate', 'wedding', 'italy', 'celebrations', 'followed', 'hunk', 'earning', 'major', 'husband', 'points', 'putting', 'wife', 'first', 'ways'], ['following', 'advice', 'say', 'yes', 'everything', 'says', 'star', 'recently', 'opened', 'embracing', 'fatherhood', 'near', 'future'], ['speaking', 'news', 'portal', 'spilled', 'beans', 'starting', 'family', 'superstar', 'wife', 'reportedly', 'said', 'partly', 'call', 'mostly', 'deepika', 'decision', 'respect'], ['meanwhile', 'deepika', 'recently', 'spoke', 'couple', 'honeymoon', 'plans', 'revealed', 'planned', 'anything', 'yet', 'currently', 'busy', 'ranveer', 'simmba', 'promotions'], ['one', 'spoken', 'weddings', 'last', 'year', 'ranve', 'deepika', 'padukone', 'ranveer', 'singh', 'wedding', 'become', 'one', 'most-talked-about', 'bollywood', 'parties', '2018'], [], ['every', 'day', 'two', 'film', 'industry', 'biggest', 'stars', 'tie', 'knot', 'together', 'picturesque', 'location', 'lake', 'como'], ['ranveer', 'deepika', 'decided', 'take', 'relationship', 'next', 'level', 'six', 'years', 'dating', 'fans', 'friends', 'ecstatic'], ['though', 'ranveer', 'earlier', 'revealed', 'within', 'six', 'months', 'dating', 'knew', 'deepika', 'one', 'piku', 'actress', 'took', 'sweet', 'time', 'say', 'yes', 'marriage'], ['recently', 'deepika', 'interview', 'magazine', 'revealed', 'first', 'time', 'thought', 'marrying', 'ranveer'], ['thought', 'marrying', 'ranveer', 'padmaavat'], ['knew', 'going', 'happen', 'matter', 'time'], ['when', 'film', 'released', 'felt', 'correct'], ['course', 'ready', 'already', 'committed', 'projects'], [\"n't\", 'sure', 'able', 'take', 'time'], ['but', 'made', 'work', 'said', 'deepika'], ['deepika', 'ranveer', 'tied', 'knot', 'lake', 'como', 'italy', 'november', 'presence', 'family', 'close', 'friends'], ['two', 'weddings', 'five', 'receptions', 'later', 'newlyweds', 'finally', 'taken', 'honeymoon'], ['eepika', 'padukone', 'ranveer', 'singh', 'made', 'fans', 'hearts', 'melt', 'happiness', 'tied', 'knot', 'november', 'six', 'years', 'dating'], ['their', 'romance', 'bloomed', 'sets', 'goliyon', 'rasleela', 'ram', 'leela', 'grew', 'stronger', 'day'], ['for', 'longest', 'time', 'two', 'preferred', 'dodge', 'questions', 'relationship'], ['however', 'public', 'appearances', 'hand-holding', 'public', 'confirmed', 'speculation', 'true'], ['beginning', '2018', 'much', 'talk', 'engagement', 'supposed', 'happened', 'sri', 'lanka'], ['after', 'marriage', 'details', 'first', 'meeting', 'dates', 'trickling'], ['deepika', 'revealed', 'entertainment', 'portal', 'gotten', 'engaged', 'four', 'years', 'ago'], ['asked', 'thought', 'ranveer', 'special', 'said', 'yash', 'raj', 'flirting', 'like', 'nobody', 'business', 'dating', 'somebody', 'else', 'point', 'smiling', 'told', 'you', 'flirting', 'me.', 'deepika', 'also', 'revealed', 'used', 'frequent', 'restaurants', 'dating', 'special', 'moments', 'ram', 'leela', 'director', 'sanjay', 'leela', 'bhansali', 'house'], ['sir', 'called', 'lunch', 'eating', 'apparently', 'piece', 'crab', 'stuck', 'tooth', 'wanted', 'make', 'awkward', 'said', 'crab', 'stuck', 'mouth', 'said', 'then', 'take'], ['that', 'moment', 'three', 'forget', 'said'], ['ranveer', 'deepika', 'open', 'social-media', 'pda'], ['recently', 'deepika', 'announced', 'title', 'new', 'film', 'chhapaak', 'plays', 'acid', 'attack', 'survivor', 'laxmi', 'aggarwal', 'ranveer', 'praise'], ['commented', 'photo', 'saying', 'proud', 'baby'], ['ranveer', 'deepika', 'got', 'married', 'two', 'days', 'picturesque', 'villa', 'del', 'balbianello', 'italy'], ['their', 'traditional', 'konkani-style', 'nuptials', 'november', 'followed', 'anand', 'karaj', 'ceremony', 'november'], ['ranveer', 'deepika', 'hosted', 'three', 'receptions', 'one', 'actress', 'hometown', 'bengaluru', 'followed', 'two', 'parties', 'mumbai'], ['soon', 'wedding', 'festivities', 'came', 'end', 'ranveer', 'threw', 'promotions', 'rohit', 'shetty', 'simmba'], ['recent', 'interview', 'ranveer', 'opened', 'deepika', 'decided', 'one'], ['six', 'months', 'relationship', 'knew', 'one'], ['nurtured', 'relationship', 'accordingly'], ['six', 'years'], ['she', 'good', 'lovely'], ['she', 'force', 'nature'], ['understood', 'almost', 'immediately.'], ['added', 'lucky'], ['knew', 'well', 'woman', 'going', 'marry'], ['this', 'woman', 'would', 'become', 'mother', 'children'], ['thinking', 'marriage', 'seriously', 'almost', 'three', 'years'], ['waiting', 'told', 'minute', 'say'], ['b-town', 'excited', 'fairytale', 'wedding', 'ranveer', 'singh', 'deepika', 'padukone', 'ever', 'since', 'couple', 'announced', 'wedding', 'dates'], ['know', 'started', 'met', 'got', 'know', 'sets', 'first', 'film', 'sanjay', 'leela', 'bhansali', 'goliyon', 'rasleela', 'ram-leela', 'gulshan', 'devaiah', 'also', 'part', 'film', 'opened', 'recently', 'started', 'blossomed'], ['talking', 'love-story', 'reportedly', 'said', 'romance', 'started', 'sets', 'goliyon', 'rasleela', 'ram-leela', 'saw', 'getting', 'close', 'first', 'day', 'shoot'], ['also', 'said', 'still', 'remembers', 'udaipur', 'schedule', 'saw', 'deepika', 'sitting', 'ranveer', 'lap', 'surprised', 'quite', 'bit'], ['said', 'romance', 'come', 'long', 'way'], ['and', 'romance', 'fondest', 'memory', 'right', 'saw', 'himself.meanwhile', 'deepika', 'padukone', 'ranveer', 'singh', 'tie', 'knot', '14th', '15th', 'november', 'year'], ['ranveer', 'singh', 'one', 'loving', 'boyfriend', 'deepika', 'padukone', 'never', 'thought', 'twice', 'displaying', 'affection', 'husband', 'even', 'doting', 'supportive'], ['and', 'latest', 'comment', 'deepika', 'padukone', 'next', 'film', 'announcement', 'instagram', 'proof'], ['taking', 'social', 'media', 'handles', 'deepika', 'announced', 'upcoming', 'film', 'chhapaak', 'picture', 'quotation', 'read', 'story', 'trauma', 'triumph', 'unquashable', 'human', 'spirit'], ['lauding', 'choice', 'film', 'ranveer', 'took', 'comments', 'section', 'wrote', 'proud', 'you', 'baby']]\n"
     ]
    }
   ],
   "source": [
    "print(text)"
   ]
  },
  {
   "cell_type": "code",
   "execution_count": 118,
   "metadata": {},
   "outputs": [],
   "source": [
    "from gensim.models import Word2Vec"
   ]
  },
  {
   "cell_type": "code",
   "execution_count": 119,
   "metadata": {},
   "outputs": [],
   "source": [
    "model = Word2Vec(text,vector_size=300,window=5,min_count=1,epochs = 100)"
   ]
  },
  {
   "cell_type": "code",
   "execution_count": 120,
   "metadata": {},
   "outputs": [
    {
     "name": "stdout",
     "output_type": "stream",
     "text": [
      "Word2Vec<vocab=915, vector_size=300, alpha=0.025>\n"
     ]
    }
   ],
   "source": [
    "print(model)"
   ]
  },
  {
   "cell_type": "code",
   "execution_count": 121,
   "metadata": {},
   "outputs": [],
   "source": [
    "words = list(model.wv.index_to_key)"
   ]
  },
  {
   "cell_type": "code",
   "execution_count": 122,
   "metadata": {},
   "outputs": [
    {
     "name": "stdout",
     "output_type": "stream",
     "text": [
      "['deepika', 'ranveer', 'wedding', 'year', 'nick', 'the', 'couple', 'priyanka', 'padukone', 'two', 'one', 'picture', 'knot', 'said', 'jonas', 'singh', 'chopra', 'relationship', 'new', 'also', 'reception', 'took', 'film', 'and', 'three', 'years', 'tied', 'december', 'time', 'recently', 'got', 'seen', 'kapoor', 'instagram', 'parties', 'bollywood', 'six', 'celebrations', 'november', 'italy', 'weddings', 'happy', 'jodhpur', 'she', 'married', 'thought', 'another', 'dating', 'family', 'palace', 'friends', 'after', 'umaid', 'revealed', 'first', 'sabyasachi', '2018', 'pictures', 'biggest', 'made', 'love', 'fans', 'shared', 'adorable', 'take', 'actor', 'receptions', 'together', 'actress', 'media', 'como', 'anushka', 'mumbai', 'sharma', 'reportedly', 'saw', 'next', 'lake', 'anand', 'marriage', 'simmba', 'gorgeous', 'leela', 'bhawan', 'taken', 'goals', 'social', 'major', 'since', 'saree', 'lavish', 'way', 'announced', 'piramal', 'added', 'ambani', 'fairytale', 'knew', 'wife', 'yet', 'udaipur', 'virat', 'beautiful', 'host', 'romance', 'looks', 'office', 'isha', 'festivities', 'interview', 'look', 'even', 'followed', 'man', 'photo', 'happened', 'husband', 'like', 'box', 'close', 'months', 'less', 'decided', 'newlyweds', 'working', 'level', 'story', 'evolved', 'honeymoon', 'great', 'dosa', 'feels', 'hope', '2019', 'ranbir', 'set', 'work', 'know', 'nieces', 'captioned', 'light', 'say', 'opened', 'become', 'share', 'ago', 'giving', 'day', 'still', 'rasleela', 'star', 'american', 'see', 'grand', 'many', 'couples', 'much', 'silk', 'back', 'tie', 'started', 'days', 'sherwani', 'bengaluru', 'this', 'but', 'sets', 'goliyon', 'singer', 'party', 'pop', 'from', 'everything', 'tying', 'open', 'others', 'flew', 'series', 'india', 'starting', 'hosted', 'busy', 'test', 'week', 'speaking', 'photos', 'australia', 'sydney', 'several', 'b-town', 'kohli', 'called', 'topped', 'cancer', 'alia', 'riddhima', 'human', 'evolution', 'used', 'events', 'waiting', 'come', 'gave', 'airport', 'crore', 'already', 'style', 'last', 'big', 'deepikapadukone', '...', 'begin', 'kapil', 'saying', 'ginni', 'news', 'within', 'wrote', 'good', 'happiness', 'future', 'chatrath', 'sign', 'zodiac', 'teaching', 'delhi', 'could', 'keys', 'handle', 'custom-made', 'traditional', 'perfect', 'would', 'wore', 'place', 'began', 'diva', 'moments', 'best', 'posting', 'bangalore', 'stunning', 'long', 'right', \"n't\", 'felt', 'looking', 'duo', 'extremely', 'moment', 'make', 'industry', 'meanwhile', 'films', 'among', 'four', 'reports', 'ever', 'christian', 'bar', 'wearing', 'give', 'los', 'angeles', 'pre-wedding', 'followers', 'filled', 'soon', 'event', 'shoot', 'stars', 'post', 'threw', 'presence', 'bhavan', 'player', 'wherein', 'cricketer', 'proof', 'latest', 'cake', 'appearances', 'always', 'loved', 'white', 'posing', 'ceremonies', 'sindhi', 'peecee', 'for', 'stronger', 'ready', 'currently', 'promotions', 'almost', 'flirting', 'asked', 'life', 'superstar', 'talking', 'woman', 'talked', 'special', 'public', 'recent', 'portal', 'their', 'dates', 'ram', 'ram-leela', 'yes', 'padmaavat', 'chhapaak', 'when', 'magazine', 'proud', 'told', 'going', 'marrying', 'someone', 'sanjay', 'upcoming', 'you', 'picturesque', 'questions', 'boy', 'baby', 'bhansali', 'crab', 'stuck', 'flowed', 'heart', 'wowed', 'newlywed', 'floral', 'khosla', 'sandeep', 'arora', 'signature', 'jani', 'complete', 'motif', 'vibe', 'leopard', 'head', 'abu', 'chikankari', 'attached', 'meeting', 'creation', 'shoulder', 'fully', 'his', 'manish', 'smiling', 'business', 'somebody', 'backdrop', 'kurta', 'else', 'point', 'ensembles', 'jacket', 'me.', 'frequent', 'restaurants', 'director', 'konkani', 'knows', 'nobody', 'bay', 'celebrating', 'union', 'raj', 'yash', 'neutral', 'colours', 'dupatta', 'waistcoat', 'engaged', 'gotten', 'entertainment', 'power', 'dressed', 'handcrafted', 'anti-fit', 'trickling', 'affair', 'cloud', 'show', 'co-stars', 'five', 'degeneres', 'ellen', 'johnson', 'dwayne', 'washington', 'kerry', 'later', 'black-tie', 'allegedly', 'rounds', 'finally', 'according', 'eepika', 'able', 'quantico', 'nine', 'suggest', 'course', 'committed', 'month', 'join', 'expected', 'projects', 'music', 'sure', 'invite', 'received', 'markle', 'meghan', 'sussex-', 'duchess', 'pregnant', 'hollywood', 'bash', 'hearts', 'elaborate', 'confirmed', 'speculation', 'bollywood-hollywood', 'true', 'get', 'beginning', 'world', 'talk', 'private', 'engagement', 'supposed', 'sri', 'lanka', 'back-to-back', 'details', 'galore', 'eyes', 'hand-holding', 'smile', 'melt', 'bloomed', 'grew', 'fall', 'everybody', 'longest', 'corners', 'both', 'lady', 'complements', 'perfectly', 'preferred', 'dodge', 'however', 'everyone', 'apparently', 'house', 'excited', 'gulshan', 'devaiah', 'part', 'blossomed', 'love-story', 'getting', 'extravagant', 'remembers', 'fat', 'schedule', 'sitting', 'lap', 'proves', 'surprised', 'quite', 'met', 'minute', 'ambanis', 'seriously', 'force', 'nature', 'understood', 'immediately.', 'lucky', 'kicked', 'season', 'well', 'award', 'beats', 'nothing', 'marry', 'mother', 'children', 'thinking', 'bit', 'not', 'destination', 'doting', 'phones', 'hooked', 'comment', 'deepveer', 'announcement', 'taking', 'handles', 'quotation', 'read', 'trauma', 'triumph', 'unquashable', 'spirit', 'lauding', 'choice', 'supportive', 'affection', 'file', 'displaying', 'fondest', 'timeline', 'entire', 'memory', 'himself.meanwhile', '14th', '15th', 'loving', 'boyfriend', 'never', 'twice', 'stylish', 'believe', 'reason', 'enough', 'lovely', 'they', 'accordingly', 'samson', 'tooth', 'kashyap', 'parupalli', 'nehwal', 'saina', 'wanted', 'badminton', 'ace', 'awkward', 'mouth', 'then', 'high-profile', 'that', 'forget', 'social-media', 'sanju', 'college', 'nurtured', 'sweetheart', 'left', 'sir', 'twin', 'lunch', 'surprise', 'eating', 'twinning', 'known', 'released', 'probably', 'close-knit', 'piece', 'pehelwan', 'rizwan', 'charulatha', 'antilia', 'pda', 'title', 'beyonce', 'commented', 'villa', 'del', 'balbianello', 'spread', 'konkani-style', 'nuptials', 'karaj', 'ceremony', 'hometown', 'came', 'end', 'continued', 'rohit', 'shetty', 'praise', 'aggarwal', 'laxmi', 'attack', 'sensation', 'performance', 'culminated', 'two-day', 'plays', 'acid', 'survivor', 'move', 'son', 'swati', 'ajay', 'daughter', 'nita', 'mukesh', 'correct', 'though', 'matter', 'hoped', 'related', 'shahid', 'wishing', 'portrait', 'rajput', 'mira', 'peek', 'sneak', 'sahni', 'marriage.in', 'sister', 'celebrate', 'joined', 'bhatt', 'femina', 'neetu', 'step', 'spent', 'closer', 'imp', 'side', 'togetherness', 'loads', 'poverty', 'hatred', 'cares', 'reveals', 'traffic', 'pollution', 'wishes', 'resolutions', 'lately', 'dodging', 'times', 'ones', 'celebrities', 'evolve', 'position', 'maintained', 'palsy', 'cerebral', 'scientist', 'played', 'zero', 'dhawan', 'varun', 'co-starring', 'dhaaga', 'sui', 'pari', 'production', 'releases', 'while', 'pole', 'year-end', 'rao', 'icc', 'rajkummar', 'arjun', 'sonam', 'khan', 'replied', 'kareena', 'rajput/instagram', 'ongoing', 'connect', 'four-match', 'lead', '2-1', 'people', 'rankings', 'lives', 'knowing', 'health', 'protected', 'neither', 'selected', 'grown', 'period', 'berlin', 'festival', 'seeing', 'turned', 'leaf', 'top', '100', 'further', 'promotion', 'occupied', 'went', 'despite', 'person', 'our', 'wake', 'growth', 'wreaking', 'high', 'number', '400', 'revenue', 'terms', 'phenomenal', 'before.', 'february', 'really', 'beings', 'release', 'connected', 'stayed', 'gully', 'present', '//twitter.com/sailee_rk/status/1079964902268141568', 'https', 'gon', 'achievement', 'superpower', 'weird', 'sahni/', 'source', 'company', 'invincible', 'resides', 'beauty', 'illuminate', 'kinder', 'strive', 'may', 'compassion', 'peace', 'named', 'texas', 'retweeted', 'red', 'haha', 'deepikapfc', '😁❤️😁', 'blockbuster', 'chillis', 'ghost', 'fiery', 'fan', 'mix', 'potato', 'comes', 'herogiri', 'appreciated', 'believes', 'bound', 'camera', 'happen', 'background', 'dim', 'something', 'fidgeting', 'journey', 'flight', 'candidly', 'captured', 'hands', 'following', 'advice', 'simply', 'says', 'embracing', 'fatherhood', 'near', 'ways', 'face', 'holding', 'window', 'socials', 'sharing', 'modi', 'narendra', 'graced', 'hunk', 'cultures', 'honoured', 'families', 'earning', 'points', 'vows', 'nuptial', 'vintage', 'putting', 'arms', 'spilled', 'directly', 'anything', 'dominated', 'understatement', 'ranve', 'most-talked-about', 'every', 'location', 'ecstatic', 'collage', 'havoc', 'amazing', 'express', 'earlier', 'piku', 'now', 'sweet', 'spoken', 'planned', 'hubby', 'per', 'beans', 'partly', 'call', 'mostly', 'hours', 'ladylove', 'escorting', 'decision', 'nickyanka', 'respect', 'spoke', 'raised', 'traditions', 'plans', 'hindu', 'intimate', 'reins', 'letting', 'today', 'huge', 'cutting', 'features', 'serious', 'higher', 'puts', 'adding', 'official', 'fun', 'actually', 'lovebirds', 'rumours', 'someday', 'father', 'wants', 'scrumptious', 'pairing', 'joking', 'ethnic', 'comments', 'looked', 'street', 'standing', 'glimpse', 'feel', 'connection', 'find', 'holiday', 'spending', 'depended', 'upon', 'trusted', 'festivity', 'ensemble', 'definitely', 'honest', 'considers', 'friend.meanwhile', 'johar', 'magnum', 'america', 'yesterday', 'opus', \"'takht\", 'mesmerising', 'joy', 'towards', 'ahead', 'lies', 'wonder', 'image', 'becoming', 'millennium', 'cute', 'words', 'karan', 'play', 'front', 'kids', 'idea', 'alongside', 'hitched', 'meghna', 'gulzar', \"'gully\", 'seem', 'along', 'piano', 'untitled', 'magic', \"'simmba\", 'section']\n"
     ]
    }
   ],
   "source": [
    "print(words)"
   ]
  },
  {
   "cell_type": "code",
   "execution_count": 123,
   "metadata": {},
   "outputs": [
    {
     "name": "stdout",
     "output_type": "stream",
     "text": [
      "[-6.12879582e-02  2.70050377e-01  3.17072086e-02  1.69730961e-01\n",
      "  2.03831065e-02 -2.75043428e-01  1.95270374e-01  5.58689952e-01\n",
      "  1.15144163e-01 -4.15589362e-02 -4.32059094e-02 -1.95617795e-01\n",
      "  6.19282797e-02 -1.64190866e-02 -1.88813373e-01 -2.06094712e-01\n",
      " -1.08050713e-02 -9.22069401e-02  8.66467878e-02 -4.06174175e-02\n",
      " -9.81033295e-02  4.33566496e-02  1.98051199e-01  9.21543166e-02\n",
      "  2.34930679e-01  4.14743796e-02 -3.20156306e-01  1.43022183e-03\n",
      " -7.20980987e-02 -2.31667027e-01  9.61692706e-02 -9.09650251e-02\n",
      "  5.04685305e-02 -2.08002105e-02 -5.57794347e-02  9.87718552e-02\n",
      "  3.00531257e-02 -2.42722556e-01 -1.82854068e-02  1.49142221e-02\n",
      " -1.65492892e-01  7.29498342e-02 -4.16694283e-02 -2.22287476e-01\n",
      "  1.66950151e-01  2.01031670e-01  7.19408393e-02  5.80389164e-02\n",
      " -4.11528014e-02  1.94888398e-01  1.24088064e-01  1.80923217e-03\n",
      " -1.52679563e-01  4.07377370e-02 -6.89502582e-02  2.46270865e-01\n",
      "  1.27471894e-01 -6.97507858e-02  2.82090697e-02 -5.01942970e-02\n",
      " -1.37677386e-01 -1.19304739e-01  8.89397785e-03  1.33722365e-01\n",
      " -5.00094555e-02  7.47824982e-02 -8.43134522e-02 -1.69058517e-02\n",
      " -8.51863548e-02 -6.64473474e-02 -1.89679284e-02  1.20319292e-01\n",
      "  2.99267858e-01 -2.66459197e-01 -2.09610127e-02  1.14984982e-01\n",
      " -2.36738682e-01  3.59571762e-02 -1.35054141e-01  2.30772257e-01\n",
      " -1.31296843e-01 -2.40833089e-01 -1.65225286e-02  4.06381935e-01\n",
      " -1.31756142e-02  3.68123166e-02 -1.35026500e-01  1.11186208e-04\n",
      "  2.34280646e-01  1.28833443e-01  1.68314248e-01 -1.46217436e-01\n",
      "  1.90930590e-01  5.57531649e-03  2.40211353e-01  1.37329116e-01\n",
      "  2.14503154e-01 -1.27705976e-01 -1.08320288e-01  1.52775720e-01\n",
      " -1.18485153e-01  1.41639868e-02  1.66438594e-01  9.22540261e-04\n",
      "  4.65115122e-02 -3.65931317e-02 -1.11265570e-01 -1.04888924e-03\n",
      " -1.38545528e-01  1.33435294e-01 -2.57952452e-01 -1.47211239e-01\n",
      " -1.85584475e-03  1.60540015e-01  1.52933389e-01  5.79446740e-02\n",
      " -4.00151350e-02 -2.32631676e-02  3.57401162e-01 -2.23645955e-01\n",
      "  1.79077402e-01  1.41288981e-01  8.47359672e-02 -4.43666708e-03\n",
      " -2.07043827e-01  1.13315620e-01  2.92099286e-02 -2.02932894e-01\n",
      " -1.06139489e-01  1.52925834e-01  1.75943971e-01  2.34565049e-01\n",
      "  1.06743409e-03 -1.90743998e-01  1.46942556e-01  6.71834201e-02\n",
      " -5.71551807e-02 -1.37950450e-01 -1.34309351e-01 -2.06647411e-01\n",
      "  3.09846159e-02 -2.90269434e-01  9.00693517e-03  1.53054461e-01\n",
      "  1.26818895e-01 -1.05200693e-01 -3.02964061e-01 -9.65258405e-02\n",
      "  1.05039917e-01 -1.65204942e-01 -2.98245270e-02 -3.18267703e-01\n",
      " -1.52061388e-01 -1.65149331e-01  8.35567154e-03  1.26929745e-01\n",
      " -2.54901379e-01 -1.16859578e-01 -5.78983985e-02  2.62474060e-01\n",
      "  2.17867433e-03  1.68787017e-01 -3.83111387e-01  1.98678270e-01\n",
      " -1.64321288e-01  5.95939234e-02  1.41738020e-02 -4.41024192e-02\n",
      " -8.42639804e-03  3.71955395e-01 -1.18127644e-01  3.31563279e-02\n",
      "  9.41090584e-02  1.27771437e-01 -4.10397463e-02  6.88659251e-02\n",
      "  1.65411234e-02 -2.45990485e-01  3.99766155e-02 -5.07721864e-02\n",
      " -1.80941746e-01  1.68928146e-01 -1.45326272e-01 -7.08663538e-02\n",
      " -3.30699086e-02  5.75419366e-02  2.60349751e-01  2.05124781e-01\n",
      "  1.14789307e-01 -2.37189740e-01  1.09283822e-02 -2.69645285e-02\n",
      " -2.23956451e-01 -1.25999404e-02  7.48235062e-02 -1.66397974e-01\n",
      " -1.79404784e-02 -1.23309158e-01  1.02730550e-01 -2.32467260e-02\n",
      " -2.42795452e-01  8.46129283e-02 -4.29312959e-02 -9.16026458e-02\n",
      " -4.63343747e-02 -4.63310480e-02 -3.92628871e-02  3.37045118e-02\n",
      " -6.21935651e-02 -1.03188649e-01  7.41672004e-04 -2.24088877e-01\n",
      " -9.25701484e-02 -5.62031418e-02  9.76842046e-02 -2.15868354e-01\n",
      " -2.24897135e-02 -4.72121924e-01 -2.60228366e-01 -1.91646993e-01\n",
      "  1.80882782e-01  4.70671151e-03 -8.23784843e-02 -6.68126494e-02\n",
      " -7.61935189e-02 -1.81138635e-01  6.70425743e-02  3.21604311e-02\n",
      " -2.22620696e-01  1.44109711e-01  1.47158861e-01 -4.18568514e-02\n",
      " -1.54430121e-01  1.94316253e-01 -5.64882420e-02  9.45036635e-02\n",
      "  4.07034829e-02  2.98467111e-02  3.89270112e-02 -3.97891700e-01\n",
      "  6.72829598e-02 -1.07562155e-01 -1.79044262e-01  1.91265240e-03\n",
      "  1.69561747e-02 -2.21602708e-01 -1.32211410e-02  5.76409884e-02\n",
      " -5.12966625e-02  2.74257660e-01  2.43970454e-02  4.10744213e-02\n",
      "  7.44335875e-02  7.47225340e-03 -3.49857748e-01 -1.90546140e-01\n",
      "  3.28583568e-01  6.53155595e-02 -4.01666105e-01 -1.51971474e-01\n",
      "  1.56172857e-01  2.10956320e-01  5.17262891e-02 -2.70973593e-01\n",
      " -1.88434526e-01 -4.56624757e-03  5.86227886e-02  1.77171398e-02\n",
      " -2.82877862e-01  2.08226275e-02 -8.41715038e-02  5.07180728e-02\n",
      "  2.93686346e-04 -8.96853283e-02  3.10629249e-01  2.45277602e-02\n",
      "  1.64597943e-01  3.44281048e-02 -1.99638262e-01  2.89487280e-02\n",
      "  1.93481818e-01  2.01696139e-02 -1.80479642e-02  1.32107362e-01\n",
      "  6.07879795e-02 -2.86643412e-02 -3.38163942e-01  1.27069265e-01\n",
      "  3.80855836e-02  2.41360635e-01 -5.90019636e-02  3.37194622e-01\n",
      "  1.66439623e-01  4.19545919e-02  2.82443404e-01  3.62694561e-01\n",
      "  6.01676218e-02 -1.46869987e-01  1.51223555e-01 -5.36212996e-02]\n"
     ]
    }
   ],
   "source": [
    "print(model.wv[\"deepika\"])"
   ]
  },
  {
   "cell_type": "code",
   "execution_count": 101,
   "metadata": {},
   "outputs": [],
   "source": [
    "#model.wv.vocab"
   ]
  },
  {
   "cell_type": "code",
   "execution_count": 102,
   "metadata": {},
   "outputs": [],
   "source": [
    "import numpy as np"
   ]
  },
  {
   "cell_type": "code",
   "execution_count": 103,
   "metadata": {},
   "outputs": [
    {
     "name": "stdout",
     "output_type": "stream",
     "text": [
      "(116, 100)\n",
      "<built-in function all>\n"
     ]
    }
   ],
   "source": [
    "all_vectors = [model.wv[w] for w in model.wv.index_to_key]\n",
    "all_vectors = np.array(all_vectors)\n",
    "print(all_vectors.shape)\n",
    "print(all)"
   ]
  },
  {
   "cell_type": "code",
   "execution_count": 104,
   "metadata": {},
   "outputs": [
    {
     "name": "stderr",
     "output_type": "stream",
     "text": [
      "C:\\Users\\abhis\\miniconda3\\Lib\\site-packages\\sklearn\\manifold\\_t_sne.py:1164: FutureWarning: 'n_iter' was renamed to 'max_iter' in version 1.5 and will be removed in 1.7.\n",
      "  warnings.warn(\n"
     ]
    },
    {
     "name": "stdout",
     "output_type": "stream",
     "text": [
      "[t-SNE] Computing 91 nearest neighbors...\n",
      "[t-SNE] Indexed 116 samples in 0.000s...\n",
      "[t-SNE] Computed neighbors for 116 samples in 0.010s...\n",
      "[t-SNE] Computed conditional probabilities for sample 116 / 116\n",
      "[t-SNE] Mean sigma: 0.020274\n",
      "[t-SNE] KL divergence after 250 iterations with early exaggeration: 60.057629\n",
      "[t-SNE] KL divergence after 1000 iterations: 0.900587\n"
     ]
    }
   ],
   "source": [
    "from sklearn.manifold import TSNE\n",
    "# tsne = TSNE(n_components=2, verbose=1, perplexity=40, n_iter=300,random_state=1)\n",
    "#tsne = TSNE(n_components=2, verbose=1, perplexity=40, n_iter=300,random_state=1)\n",
    "tsne = TSNE(n_components=2, verbose=1,n_iter=1000,random_state=1)\n",
    "\n",
    "tsne_results = tsne.fit_transform(all_vectors)"
   ]
  },
  {
   "cell_type": "code",
   "execution_count": 105,
   "metadata": {
    "scrolled": true
   },
   "outputs": [
    {
     "name": "stdout",
     "output_type": "stream",
     "text": [
      "[[ 4.5223413  -4.8537693 ]\n",
      " [ 6.476806   -2.6112418 ]\n",
      " [ 6.1402235  -0.45555595]\n",
      " [ 2.9328763   2.1453063 ]\n",
      " [ 5.129428   -1.5309873 ]\n",
      " [ 6.025901    0.6887328 ]\n",
      " [ 3.3908765  -0.03417462]\n",
      " [ 3.8302836  -1.380071  ]\n",
      " [ 1.8221025   1.6791146 ]\n",
      " [ 0.5666556   2.7973876 ]\n",
      " [ 1.7515911   3.371232  ]\n",
      " [ 6.172286   -0.65408427]\n",
      " [ 1.7105653  -3.338314  ]\n",
      " [ 5.1093225  -1.9048378 ]\n",
      " [ 3.6118026   2.8731182 ]\n",
      " [-0.976878   -3.2094033 ]\n",
      " [-3.1904745   2.8740158 ]\n",
      " [ 3.9528053   3.352587  ]\n",
      " [ 6.387823   -1.8478969 ]\n",
      " [ 3.6934438  -1.3250239 ]\n",
      " [-1.9128478   0.94848037]\n",
      " [ 3.0981443  -2.8450522 ]\n",
      " [ 6.2968993  -2.9678233 ]\n",
      " [-4.803847    0.07560354]\n",
      " [-0.24449612 -1.8225374 ]\n",
      " [ 1.8931739  -1.9357331 ]\n",
      " [ 2.6323304  -1.1067219 ]\n",
      " [-1.5231622   2.680981  ]\n",
      " [ 2.7877495   0.14641337]\n",
      " [-1.7609241  -0.35671777]\n",
      " [-1.9664798   0.94921964]\n",
      " [-3.656813   -3.223164  ]\n",
      " [ 1.1948484  -3.0798972 ]\n",
      " [ 2.2431269  -3.0862422 ]\n",
      " [ 0.6429741   0.4057398 ]\n",
      " [ 0.92953426 -4.815868  ]\n",
      " [ 3.5472476   1.9672505 ]\n",
      " [ 3.661111   -0.02352273]\n",
      " [-3.3591058  -1.7513491 ]\n",
      " [ 1.2824304  -0.79968745]\n",
      " [-4.1159487   0.69032896]\n",
      " [-0.80247015  1.2328479 ]\n",
      " [-0.08455783 -0.46720767]\n",
      " [ 1.6377316   3.5703409 ]\n",
      " [ 4.082312   -3.648226  ]\n",
      " [ 1.3656791   0.09233319]\n",
      " [-1.1785271   2.2297502 ]\n",
      " [-0.5339203   0.97116435]\n",
      " [ 1.4565601  -0.08620944]\n",
      " [ 2.5840728  -4.485345  ]\n",
      " [ 2.1350265  -5.9695096 ]\n",
      " [ 0.970291   -2.5840394 ]\n",
      " [ 1.7938935   1.6437136 ]\n",
      " [ 0.02191561  3.3496165 ]\n",
      " [-3.4443638   2.1668575 ]\n",
      " [-2.8355374  -0.1921539 ]\n",
      " [-4.9736266  -0.79627335]\n",
      " [-1.0393736  -2.2246556 ]\n",
      " [-1.1428908   2.843179  ]\n",
      " [-0.39912546  4.5095224 ]\n",
      " [ 2.727525   -1.9795773 ]\n",
      " [ 2.568649   -4.88039   ]\n",
      " [ 4.2056727   0.67719054]\n",
      " [ 0.75983435 -1.9091829 ]\n",
      " [ 3.7742743  -0.7728831 ]\n",
      " [ 4.012478   -3.6443913 ]\n",
      " [ 4.761265   -2.8573644 ]\n",
      " [-2.2738647  -3.8645155 ]\n",
      " [ 6.249556   -0.3008404 ]\n",
      " [ 4.239829   -1.99943   ]\n",
      " [-0.3381105   2.1234055 ]\n",
      " [ 2.7833931   1.276428  ]\n",
      " [ 0.4931091   1.0654709 ]\n",
      " [ 5.328508    0.7517146 ]\n",
      " [ 0.60065126 -3.897814  ]\n",
      " [ 0.36356413 -1.4256811 ]\n",
      " [-3.965947   -0.9910446 ]\n",
      " [ 0.7857103  -1.7291741 ]\n",
      " [ 4.8217907   0.14419478]\n",
      " [-2.0422595  -3.1129966 ]\n",
      " [-3.7719083  -1.1400987 ]\n",
      " [ 0.49279967  1.3245072 ]\n",
      " [-2.9266527  -1.6362932 ]\n",
      " [-1.7553236   1.5515505 ]\n",
      " [-1.6241391  -1.2805123 ]\n",
      " [-0.5328949  -0.0128709 ]\n",
      " [ 0.55663836 -0.49680337]\n",
      " [-1.5832537  -0.93597   ]\n",
      " [-0.63963413  1.1518406 ]\n",
      " [ 2.164228    0.88789356]\n",
      " [-2.1461918  -3.319026  ]\n",
      " [-0.7775984  -2.6414564 ]\n",
      " [-3.8808737   0.72007215]\n",
      " [-0.58122194  3.1259716 ]\n",
      " [-0.52929837 -0.73360723]\n",
      " [-0.70948005 -1.2431824 ]\n",
      " [ 0.7986864   2.721118  ]\n",
      " [-3.4474132   2.011976  ]\n",
      " [-2.0133772   3.6834316 ]\n",
      " [ 2.7362027  -2.7185287 ]\n",
      " [ 1.8976592  -1.0739374 ]\n",
      " [-3.5005274  -2.2991543 ]\n",
      " [-2.8148887   1.0604535 ]\n",
      " [-2.1688523  -4.375188  ]\n",
      " [-0.13275146 -3.0333407 ]\n",
      " [ 4.642418    1.9941945 ]\n",
      " [ 1.2004457  -0.71508   ]\n",
      " [-1.5069972  -0.23603748]\n",
      " [-0.12828669  0.32163468]\n",
      " [ 4.9255033  -3.3854764 ]\n",
      " [-1.1328101  -4.758282  ]\n",
      " [-0.92054194 -1.358234  ]\n",
      " [ 0.7607903  -4.2464547 ]\n",
      " [ 4.98955    -0.74570936]\n",
      " [ 4.0272236   1.4670146 ]\n",
      " [-0.6752258  -4.3237796 ]]\n"
     ]
    }
   ],
   "source": [
    "print(tsne_results)"
   ]
  },
  {
   "cell_type": "code",
   "execution_count": 107,
   "metadata": {},
   "outputs": [],
   "source": [
    "import matplotlib.pyplot as plt"
   ]
  },
  {
   "cell_type": "code",
   "execution_count": 108,
   "metadata": {},
   "outputs": [
    {
     "data": {
      "image/png": "[encoded data removed]",
      "text/plain": [
       "<Figure size 1000x1000 with 1 Axes>"
      ]
     },
     "metadata": {},
     "output_type": "display_data"
    }
   ],
   "source": [
    "data = tsne_results\n",
    "\n",
    "plt.figure(figsize=(10,10))\n",
    "# plt.style.use('seaborn')\n",
    "plt.scatter(data[:,0],data[:,1],marker='^')\n",
    "\n",
    "keys = model.wv.index_to_key\n",
    "for label, x, y in zip(keys, data[:,0], data[:,1]):\n",
    "    plt.annotate(label, xy=(x, y), xytext=(0, 0), textcoords='offset points')\n",
    "    \n",
    "plt.xlabel(\"Principal Component-1\")\n",
    "plt.ylabel(\"Principal Component-2\")\n",
    "plt.title(\"TSNE Colors Plot\")\n",
    "plt.show()"
   ]
  },
  {
   "cell_type": "code",
   "execution_count": 124,
   "metadata": {},
   "outputs": [],
   "source": [
    "actors = [\"ranveer\",\"deepika\",\"padukone\",\"singh\",\"nick\",\"jonas\",\"chopra\",\"priyanka\",\"virat\",\"anushka\",\"ginni\"]\n",
    "\n",
    "\n",
    "def predict_actor(a,b,c,word_vectors):\n",
    "    \"\"\"Accepts a triad of words, a,b,c and returns d such that a is to b : c is to d\"\"\"\n",
    "    a,b,c = a.lower(),b.lower(),c.lower()\n",
    "    max_similarity = -100 \n",
    "    \n",
    "    d = None\n",
    "    words = actors\n",
    "    \n",
    "    wa,wb,wc = word_vectors[a],word_vectors[b],word_vectors[c]\n",
    "    \n",
    "    #to find d s.t similarity(|b-a|,|d-c|) should be max\n",
    "    \n",
    "    for w in words:\n",
    "        if w in [a,b,c]:\n",
    "            continue\n",
    "        \n",
    "        wv = word_vectors[w]\n",
    "        sim = cosine_similarity([wb-wa],[wv-wc])\n",
    "        \n",
    "        if sim > max_similarity:\n",
    "            max_similarity = sim\n",
    "            d = w\n",
    "    return d    "
   ]
  },
  {
   "cell_type": "markdown",
   "metadata": {},
   "source": [
    "### 4. Test your Model"
   ]
  },
  {
   "cell_type": "code",
   "execution_count": 125,
   "metadata": {},
   "outputs": [
    {
     "data": {
      "text/plain": [
       "'ginni'"
      ]
     },
     "execution_count": 125,
     "metadata": {},
     "output_type": "execute_result"
    }
   ],
   "source": [
    "triad = (\"nick\",\"priyanka\",\"virat\")\n",
    "predict_actor(*triad,model.wv)"
   ]
  },
  {
   "cell_type": "code",
   "execution_count": 126,
   "metadata": {},
   "outputs": [
    {
     "data": {
      "text/plain": [
       "'chopra'"
      ]
     },
     "execution_count": 126,
     "metadata": {},
     "output_type": "execute_result"
    }
   ],
   "source": [
    "triad = (\"ranveer\",\"deepika\",\"priyanka\")\n",
    "predict_actor(*triad,model.wv)"
   ]
  },
  {
   "cell_type": "code",
   "execution_count": 127,
   "metadata": {},
   "outputs": [
    {
     "data": {
      "text/plain": [
       "'ginni'"
      ]
     },
     "execution_count": 127,
     "metadata": {},
     "output_type": "execute_result"
    }
   ],
   "source": [
    "triad = (\"ranveer\",\"singh\",\"deepika\")\n",
    "predict_actor(*triad,model.wv)"
   ]
  },
  {
   "cell_type": "code",
   "execution_count": 128,
   "metadata": {},
   "outputs": [
    {
     "data": {
      "text/plain": [
       "'chopra'"
      ]
     },
     "execution_count": 128,
     "metadata": {},
     "output_type": "execute_result"
    }
   ],
   "source": [
    "triad = (\"deepika\",\"padukone\",\"priyanka\")\n",
    "predict_actor(*triad,model.wv)"
   ]
  },
  {
   "cell_type": "code",
   "execution_count": 129,
   "metadata": {},
   "outputs": [
    {
     "data": {
      "text/plain": [
       "'chopra'"
      ]
     },
     "execution_count": 129,
     "metadata": {},
     "output_type": "execute_result"
    }
   ],
   "source": [
    "triad = (\"priyanka\",\"jonas\",\"nick\")\n",
    "predict_actor(*triad,model.wv)"
   ]
  },
  {
   "cell_type": "code",
   "execution_count": null,
   "metadata": {},
   "outputs": [],
   "source": []
  },
  {
   "cell_type": "code",
   "execution_count": null,
   "metadata": {},
   "outputs": [],
   "source": []
  },
  {
   "cell_type": "markdown",
   "metadata": {},
   "source": [
    "![Image](./images/p2.gif)\n"
   ]
  },
  {
   "cell_type": "code",
   "execution_count": 481,
   "metadata": {},
   "outputs": [],
   "source": [
    "model.wv.save_word2vec_format(\"bollywood.bin\")"
   ]
  },
  {
   "cell_type": "code",
   "execution_count": null,
   "metadata": {},
   "outputs": [],
   "source": []
  }
 ],
 "metadata": {
  "kernelspec": {
   "display_name": "Python 3 (ipykernel)",
   "language": "python",
   "name": "python3"
  },
  "language_info": {
   "codemirror_mode": {
    "name": "ipython",
    "version": 3
   },
   "file_extension": ".py",
   "mimetype": "text/x-python",
   "name": "python",
   "nbconvert_exporter": "python",
   "pygments_lexer": "ipython3",
   "version": "3.12.9"
  }
 },
 "nbformat": 4,
 "nbformat_minor": 4
}
