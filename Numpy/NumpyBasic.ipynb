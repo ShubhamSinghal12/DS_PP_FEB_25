{
 "cells": [
  {
   "cell_type": "markdown",
   "id": "88f68fe1-3ae3-4c5f-a677-acd41915118a",
   "metadata": {},
   "source": [
    "# Numpy\n",
    "```\n",
    "pip install numpy\n",
    "```\n",
    "\n",
    "- Mathematical Calculations\n",
    "- Numpy Array Creation\n",
    "- Shape\n",
    "- indexing\n",
    "- data types: b,i,u,f,c,m,M,O,S,u,V (https://numpy.org/doc/1.25/reference/arrays.dtypes.html#arrays-dtypes)\n",
    "- more creation methods: arange, linspace, ones, zeros, eye, diag\n",
    "- random numbers: Numpy Random Module\n",
    "    - rand: Random values in given shape\n",
    "    - randn: Return samples from the Standard normal distribution\n",
    "    - randint: Return random integer from low(inclusive) to high(exclusive)\n",
    "    - random: Return random floats in [0.0,1.0)\n",
    "    - choice: Generates a random sample from given 1D array\n",
    "    - Shuffle: Shuffle the contents of the sequence. Discuss np.random.seed()\n",
    "- reshape: -1 for unknown\n",
    "- slicing and assignment\n",
    "- copy and view: share_memory\n",
    "- operators(Element wise operations)\n",
    "- and: &, or: |, not: ~ (Bitwise works same as logical in case of boolean Values)\n",
    "- shape mismatch\n",
    "- fancy indexing also know as filter\n",
    "- search: where uses fancy indexing\n",
    "- Basic reductions: sum, min, max, any, all,argmax, argmin\n",
    "- Some More Numpy Functions - Statistics: mean, median, average, variance, standard deviation\n",
    "- iteration: nditer, ndenumerate\n",
    "- Join: concatenate, stack, hstack, vstack. Note: make a tuple of arays you want to join\n",
    "- split: array_split, hsplit\n",
    "- sort: np.sort\n",
    "- Broadcasting\n",
    "- Input from Text File\n",
    "- Questions"
   ]
  },
  {
   "cell_type": "code",
   "execution_count": 1,
   "id": "c2e132a5-77f0-43b8-b214-4e69ef7ac485",
   "metadata": {},
   "outputs": [
    {
     "name": "stdout",
     "output_type": "stream",
     "text": [
      "Requirement already satisfied: numpy in c:\\users\\abhis\\miniconda3\\lib\\site-packages (2.2.4)\n"
     ]
    }
   ],
   "source": [
    "!pip install numpy"
   ]
  },
  {
   "cell_type": "code",
   "execution_count": 2,
   "id": "42b41fb4-f6f6-4595-b8ea-54202834ee19",
   "metadata": {},
   "outputs": [
    {
     "name": "stdout",
     "output_type": "stream",
     "text": [
      "1.26.4\n"
     ]
    }
   ],
   "source": [
    "import numpy as np\n",
    "print(np.__version__)"
   ]
  },
  {
   "cell_type": "code",
   "execution_count": 26,
   "id": "17abceff-a568-4e51-947f-ee78a90ab75d",
   "metadata": {},
   "outputs": [],
   "source": [
    "l1 = [1,2,3,4]\n",
    "l2 = [[1,2],[3,4],[5,6]]\n",
    "l3 = [[[10,20],[30,40]],[[1,2],[3,4]],[[1,2],[3,4]]]"
   ]
  },
  {
   "cell_type": "code",
   "execution_count": 48,
   "id": "78e7f8b2-938a-4930-a484-343c28fdd1ec",
   "metadata": {},
   "outputs": [],
   "source": [
    "n1 = np.array(l1,dtype='f8')\n",
    "n2 = np.array(l2,dtype='i1')#1 2 4 8\n",
    "n3 = np.array(l3)"
   ]
  },
  {
   "cell_type": "code",
   "execution_count": 49,
   "id": "b63cf723-51f6-4efe-aa10-d0faf59fd19a",
   "metadata": {},
   "outputs": [
    {
     "data": {
      "text/plain": [
       "dtype('int8')"
      ]
     },
     "execution_count": 49,
     "metadata": {},
     "output_type": "execute_result"
    }
   ],
   "source": [
    "n2.dtype"
   ]
  },
  {
   "cell_type": "code",
   "execution_count": 29,
   "id": "731abf98-6f46-48d8-bd23-7bca5d785253",
   "metadata": {},
   "outputs": [
    {
     "data": {
      "text/plain": [
       "(3, 2)"
      ]
     },
     "execution_count": 29,
     "metadata": {},
     "output_type": "execute_result"
    }
   ],
   "source": [
    "n2.shape"
   ]
  },
  {
   "cell_type": "code",
   "execution_count": 30,
   "id": "e603365e-095f-4396-9ee1-07478084ac74",
   "metadata": {},
   "outputs": [
    {
     "data": {
      "text/plain": [
       "(3, 2, 2)"
      ]
     },
     "execution_count": 30,
     "metadata": {},
     "output_type": "execute_result"
    }
   ],
   "source": [
    "n3.shape"
   ]
  },
  {
   "cell_type": "code",
   "execution_count": 32,
   "id": "62792ea1-5a4c-45d6-9480-5bf9ad41cc16",
   "metadata": {},
   "outputs": [
    {
     "name": "stdout",
     "output_type": "stream",
     "text": [
      "3 3\n"
     ]
    }
   ],
   "source": [
    "print(l1[2],n1[2])"
   ]
  },
  {
   "cell_type": "code",
   "execution_count": 34,
   "id": "33c115f4-46c5-4f33-936f-9dc2218877b9",
   "metadata": {},
   "outputs": [
    {
     "name": "stdout",
     "output_type": "stream",
     "text": [
      "4 4\n"
     ]
    }
   ],
   "source": [
    "# print(l2[1][1], n2[1][1])\n",
    "print(l2[1][1], n2[1,1])"
   ]
  },
  {
   "cell_type": "code",
   "execution_count": 37,
   "id": "796f7e75-90ff-42b5-99d5-831005247f60",
   "metadata": {},
   "outputs": [
    {
     "name": "stdout",
     "output_type": "stream",
     "text": [
      "30 30\n"
     ]
    }
   ],
   "source": [
    "print(l3[0][1][0],n3[0,1,0])"
   ]
  },
  {
   "cell_type": "code",
   "execution_count": 38,
   "id": "304525cc-bfbb-4cfb-af5b-cad39b38834f",
   "metadata": {},
   "outputs": [
    {
     "data": {
      "text/plain": [
       "[3, 4]"
      ]
     },
     "execution_count": 38,
     "metadata": {},
     "output_type": "execute_result"
    }
   ],
   "source": [
    "l2[1]"
   ]
  },
  {
   "cell_type": "code",
   "execution_count": 41,
   "id": "b098e52c-b092-4e6e-b2e7-2c0125c784de",
   "metadata": {},
   "outputs": [
    {
     "data": {
      "text/plain": [
       "array([3, 4])"
      ]
     },
     "execution_count": 41,
     "metadata": {},
     "output_type": "execute_result"
    }
   ],
   "source": [
    "n2[1]"
   ]
  },
  {
   "cell_type": "code",
   "execution_count": 42,
   "id": "4c339046-d531-479d-9869-348582b4d1f3",
   "metadata": {},
   "outputs": [
    {
     "ename": "IndexError",
     "evalue": "too many indices for array: array is 2-dimensional, but 3 were indexed",
     "output_type": "error",
     "traceback": [
      "\u001b[1;31m---------------------------------------------------------------------------\u001b[0m",
      "\u001b[1;31mIndexError\u001b[0m                                Traceback (most recent call last)",
      "Cell \u001b[1;32mIn[42], line 1\u001b[0m\n\u001b[1;32m----> 1\u001b[0m \u001b[43mn2\u001b[49m\u001b[43m[\u001b[49m\u001b[38;5;241;43m1\u001b[39;49m\u001b[43m,\u001b[49m\u001b[38;5;241;43m2\u001b[39;49m\u001b[43m,\u001b[49m\u001b[38;5;241;43m1\u001b[39;49m\u001b[43m]\u001b[49m\n",
      "\u001b[1;31mIndexError\u001b[0m: too many indices for array: array is 2-dimensional, but 3 were indexed"
     ]
    }
   ],
   "source": [
    "n2[1,2,1]"
   ]
  },
  {
   "cell_type": "code",
   "execution_count": null,
   "id": "b6109428-e148-4dc4-85e1-8e8e8662f3d8",
   "metadata": {},
   "outputs": [],
   "source": []
  },
  {
   "cell_type": "markdown",
   "id": "c6aacd24-d43f-4657-a07d-0e169d656a08",
   "metadata": {},
   "source": [
    "more creation methods: arange, linspace, ones, zeros, eye, diag"
   ]
  },
  {
   "cell_type": "code",
   "execution_count": 51,
   "id": "52b7e252-925b-4746-8fb9-38371ddc2587",
   "metadata": {},
   "outputs": [],
   "source": [
    "narr = np.arange(1,11)"
   ]
  },
  {
   "cell_type": "code",
   "execution_count": 52,
   "id": "9c4ecb2b-db6a-42cd-87d2-8f3662db67b6",
   "metadata": {},
   "outputs": [
    {
     "data": {
      "text/plain": [
       "array([ 1,  2,  3,  4,  5,  6,  7,  8,  9, 10])"
      ]
     },
     "execution_count": 52,
     "metadata": {},
     "output_type": "execute_result"
    }
   ],
   "source": [
    "narr"
   ]
  },
  {
   "cell_type": "code",
   "execution_count": 56,
   "id": "825437fc-ba55-4f92-9407-ee7baff6ceb0",
   "metadata": {},
   "outputs": [
    {
     "data": {
      "text/plain": [
       "array([ 1.  ,  3.25,  5.5 ,  7.75, 10.  ])"
      ]
     },
     "execution_count": 56,
     "metadata": {},
     "output_type": "execute_result"
    }
   ],
   "source": [
    "np.linspace(1,10,5)"
   ]
  },
  {
   "cell_type": "code",
   "execution_count": 58,
   "id": "c30b7c13-e634-4465-b555-41be609e0e26",
   "metadata": {},
   "outputs": [
    {
     "data": {
      "text/plain": [
       "array([[1., 1.],\n",
       "       [1., 1.],\n",
       "       [1., 1.],\n",
       "       [1., 1.],\n",
       "       [1., 1.]])"
      ]
     },
     "execution_count": 58,
     "metadata": {},
     "output_type": "execute_result"
    }
   ],
   "source": [
    "np.ones(shape = (5,2))"
   ]
  },
  {
   "cell_type": "code",
   "execution_count": 59,
   "id": "8ea3def9-d99f-4982-9493-334d2f04fbc0",
   "metadata": {},
   "outputs": [
    {
     "data": {
      "text/plain": [
       "array([[0., 0.],\n",
       "       [0., 0.],\n",
       "       [0., 0.],\n",
       "       [0., 0.],\n",
       "       [0., 0.]])"
      ]
     },
     "execution_count": 59,
     "metadata": {},
     "output_type": "execute_result"
    }
   ],
   "source": [
    "np.zeros(shape=(5,2))"
   ]
  },
  {
   "cell_type": "code",
   "execution_count": 70,
   "id": "714dc562-fd05-4055-bcbe-e0b55178bc7f",
   "metadata": {},
   "outputs": [
    {
     "data": {
      "text/plain": [
       "array([[1., 0., 0., 0., 0.],\n",
       "       [0., 1., 0., 0., 0.]])"
      ]
     },
     "execution_count": 70,
     "metadata": {},
     "output_type": "execute_result"
    }
   ],
   "source": [
    "np.eye(2,5)"
   ]
  },
  {
   "cell_type": "code",
   "execution_count": 71,
   "id": "619ad240-c542-4146-9b61-bc1b6b06d8a1",
   "metadata": {},
   "outputs": [
    {
     "data": {
      "text/plain": [
       "array([[1, 0, 0, 0],\n",
       "       [0, 2, 0, 0],\n",
       "       [0, 0, 3, 0],\n",
       "       [0, 0, 0, 4]])"
      ]
     },
     "execution_count": 71,
     "metadata": {},
     "output_type": "execute_result"
    }
   ],
   "source": [
    "np.diag([1,2,3,4])"
   ]
  },
  {
   "cell_type": "code",
   "execution_count": 73,
   "id": "21235723-c125-4f8d-87f9-dd52f59067f0",
   "metadata": {},
   "outputs": [],
   "source": [
    "narr = np.arange(1,101)"
   ]
  },
  {
   "cell_type": "code",
   "execution_count": 75,
   "id": "08283886-c06e-487e-b74f-a7c033fe1da4",
   "metadata": {},
   "outputs": [],
   "source": [
    "narr = narr.reshape((10,10))"
   ]
  },
  {
   "cell_type": "code",
   "execution_count": 76,
   "id": "315cf792-46ba-40e6-89fc-4e2a3db5fb78",
   "metadata": {},
   "outputs": [
    {
     "data": {
      "text/plain": [
       "(10, 10)"
      ]
     },
     "execution_count": 76,
     "metadata": {},
     "output_type": "execute_result"
    }
   ],
   "source": [
    "narr.shape"
   ]
  },
  {
   "cell_type": "code",
   "execution_count": 77,
   "id": "9748a181-552c-4fcf-af8f-128e7decff68",
   "metadata": {},
   "outputs": [
    {
     "data": {
      "text/plain": [
       "array([[  1,   2,   3,   4,   5,   6,   7,   8,   9,  10],\n",
       "       [ 11,  12,  13,  14,  15,  16,  17,  18,  19,  20],\n",
       "       [ 21,  22,  23,  24,  25,  26,  27,  28,  29,  30],\n",
       "       [ 31,  32,  33,  34,  35,  36,  37,  38,  39,  40],\n",
       "       [ 41,  42,  43,  44,  45,  46,  47,  48,  49,  50],\n",
       "       [ 51,  52,  53,  54,  55,  56,  57,  58,  59,  60],\n",
       "       [ 61,  62,  63,  64,  65,  66,  67,  68,  69,  70],\n",
       "       [ 71,  72,  73,  74,  75,  76,  77,  78,  79,  80],\n",
       "       [ 81,  82,  83,  84,  85,  86,  87,  88,  89,  90],\n",
       "       [ 91,  92,  93,  94,  95,  96,  97,  98,  99, 100]])"
      ]
     },
     "execution_count": 77,
     "metadata": {},
     "output_type": "execute_result"
    }
   ],
   "source": [
    "narr"
   ]
  },
  {
   "cell_type": "markdown",
   "id": "c12aef9e-c71e-4322-bbe2-28505bcc8d86",
   "metadata": {},
   "source": [
    "random numbers: Numpy Random Module\n",
    "- rand: Random values in given shape\n",
    "- randn: Return samples from the Standard normal distribution\n",
    "- randint: Return random integer from low(inclusive) to high(exclusive)\n",
    "- random: Return random floats in [0.0,1.0)\n",
    "- choice: Generates a random sample from given 1D array\n",
    "- Shuffle: Shuffle the contents of the sequence. Discuss np.random.seed()"
   ]
  },
  {
   "cell_type": "code",
   "execution_count": 78,
   "id": "ea1867ce-062b-49a3-9e93-39c1eb625660",
   "metadata": {},
   "outputs": [
    {
     "data": {
      "text/plain": [
       "array([[[0.72016251, 0.2797445 ],\n",
       "        [0.58225106, 0.33101301]],\n",
       "\n",
       "       [[0.87272389, 0.96126775],\n",
       "        [0.30356076, 0.02311402]],\n",
       "\n",
       "       [[0.6448465 , 0.04280286],\n",
       "        [0.08959913, 0.68817352]]])"
      ]
     },
     "execution_count": 78,
     "metadata": {},
     "output_type": "execute_result"
    }
   ],
   "source": [
    "np.random.rand(3,2,2)"
   ]
  },
  {
   "cell_type": "code",
   "execution_count": 79,
   "id": "2cb9b256-1ddf-456f-a102-22c82bf8e7e8",
   "metadata": {},
   "outputs": [
    {
     "data": {
      "text/plain": [
       "array([[[ 1.7905566 , -0.30765327],\n",
       "        [ 0.2377005 ,  0.5311676 ]],\n",
       "\n",
       "       [[-1.00601621,  1.17516584],\n",
       "        [-0.18181411,  0.01083942]],\n",
       "\n",
       "       [[ 1.25232093,  0.46223587],\n",
       "        [-0.15167277,  0.50397596]]])"
      ]
     },
     "execution_count": 79,
     "metadata": {},
     "output_type": "execute_result"
    }
   ],
   "source": [
    "np.random.randn(3,2,2)"
   ]
  },
  {
   "cell_type": "code",
   "execution_count": 80,
   "id": "65f69977-7404-4f96-8a12-4de9551d450e",
   "metadata": {},
   "outputs": [
    {
     "data": {
      "text/plain": [
       "array([[61, 37],\n",
       "       [46, 67],\n",
       "       [82, 97],\n",
       "       [23, 94],\n",
       "       [35, 11]])"
      ]
     },
     "execution_count": 80,
     "metadata": {},
     "output_type": "execute_result"
    }
   ],
   "source": [
    "np.random.randint(1,101,size=(5,2))"
   ]
  },
  {
   "cell_type": "code",
   "execution_count": 81,
   "id": "2e6d60c8-3a10-4fe5-8fd4-eb64b9d56329",
   "metadata": {},
   "outputs": [
    {
     "data": {
      "text/plain": [
       "array([[0.34975688, 0.82344578],\n",
       "       [0.57413113, 0.9799406 ],\n",
       "       [0.43098886, 0.8674576 ],\n",
       "       [0.56836466, 0.88558562],\n",
       "       [0.72232498, 0.80616593]])"
      ]
     },
     "execution_count": 81,
     "metadata": {},
     "output_type": "execute_result"
    }
   ],
   "source": [
    "np.random.random(size=(5,2))"
   ]
  },
  {
   "cell_type": "code",
   "execution_count": 97,
   "id": "783f20c3-409f-4000-93dc-0516d556184b",
   "metadata": {},
   "outputs": [
    {
     "data": {
      "text/plain": [
       "array([6, 5, 8, 6, 6])"
      ]
     },
     "execution_count": 97,
     "metadata": {},
     "output_type": "execute_result"
    }
   ],
   "source": [
    "np.random.choice(np.array([1,2,3,4,5,6,7,8,9]),size=(5,),replace = True,p = [0,0,0,0,0.3,0.3,0.1,0.3,0])"
   ]
  },
  {
   "cell_type": "code",
   "execution_count": 101,
   "id": "743a2b90-e737-40bd-9101-14d1f4dabca3",
   "metadata": {},
   "outputs": [],
   "source": [
    "narr = np.arange(1,101).reshape((10,10))\n",
    "np.random.shuffle(narr)"
   ]
  },
  {
   "cell_type": "code",
   "execution_count": 102,
   "id": "d509f0f2-ff83-4afb-a860-3f0d5d547d93",
   "metadata": {},
   "outputs": [
    {
     "data": {
      "text/plain": [
       "array([[ 31,  32,  33,  34,  35,  36,  37,  38,  39,  40],\n",
       "       [ 11,  12,  13,  14,  15,  16,  17,  18,  19,  20],\n",
       "       [ 81,  82,  83,  84,  85,  86,  87,  88,  89,  90],\n",
       "       [ 21,  22,  23,  24,  25,  26,  27,  28,  29,  30],\n",
       "       [  1,   2,   3,   4,   5,   6,   7,   8,   9,  10],\n",
       "       [ 71,  72,  73,  74,  75,  76,  77,  78,  79,  80],\n",
       "       [ 91,  92,  93,  94,  95,  96,  97,  98,  99, 100],\n",
       "       [ 61,  62,  63,  64,  65,  66,  67,  68,  69,  70],\n",
       "       [ 51,  52,  53,  54,  55,  56,  57,  58,  59,  60],\n",
       "       [ 41,  42,  43,  44,  45,  46,  47,  48,  49,  50]])"
      ]
     },
     "execution_count": 102,
     "metadata": {},
     "output_type": "execute_result"
    }
   ],
   "source": [
    "narr"
   ]
  },
  {
   "cell_type": "code",
   "execution_count": 115,
   "id": "6ce8e61e-ab30-4ba9-9339-c9e3a67d6373",
   "metadata": {},
   "outputs": [],
   "source": [
    "narr = np.arange(1,101)"
   ]
  },
  {
   "cell_type": "code",
   "execution_count": 106,
   "id": "b6bbd985-bf90-441e-8614-90b7f9fa816d",
   "metadata": {},
   "outputs": [],
   "source": [
    "narr = narr.reshape((5,2,-1))"
   ]
  },
  {
   "cell_type": "code",
   "execution_count": 107,
   "id": "209a5cac-0196-4835-baf6-d1d612826919",
   "metadata": {},
   "outputs": [
    {
     "data": {
      "text/plain": [
       "array([[[  1,   2,   3,   4,   5,   6,   7,   8,   9,  10],\n",
       "        [ 11,  12,  13,  14,  15,  16,  17,  18,  19,  20]],\n",
       "\n",
       "       [[ 21,  22,  23,  24,  25,  26,  27,  28,  29,  30],\n",
       "        [ 31,  32,  33,  34,  35,  36,  37,  38,  39,  40]],\n",
       "\n",
       "       [[ 41,  42,  43,  44,  45,  46,  47,  48,  49,  50],\n",
       "        [ 51,  52,  53,  54,  55,  56,  57,  58,  59,  60]],\n",
       "\n",
       "       [[ 61,  62,  63,  64,  65,  66,  67,  68,  69,  70],\n",
       "        [ 71,  72,  73,  74,  75,  76,  77,  78,  79,  80]],\n",
       "\n",
       "       [[ 81,  82,  83,  84,  85,  86,  87,  88,  89,  90],\n",
       "        [ 91,  92,  93,  94,  95,  96,  97,  98,  99, 100]]])"
      ]
     },
     "execution_count": 107,
     "metadata": {},
     "output_type": "execute_result"
    }
   ],
   "source": [
    "narr"
   ]
  },
  {
   "cell_type": "code",
   "execution_count": 110,
   "id": "587ea34a-056d-4655-9a17-194bc276c00c",
   "metadata": {},
   "outputs": [
    {
     "data": {
      "text/plain": [
       "array([  1,   2,   3,   4,   5,   6,   7,   8,   9,  10,  11,  12,  13,\n",
       "        14,  15,  16,  17,  18,  19,  20,  21,  22,  23,  24,  25,  26,\n",
       "        27,  28,  29,  30,  31,  32,  33,  34,  35,  36,  37,  38,  39,\n",
       "        40,  41,  42,  43,  44,  45,  46,  47,  48,  49,  50,  51,  52,\n",
       "        53,  54,  55,  56,  57,  58,  59,  60,  61,  62,  63,  64,  65,\n",
       "        66,  67,  68,  69,  70,  71,  72,  73,  74,  75,  76,  77,  78,\n",
       "        79,  80,  81,  82,  83,  84,  85,  86,  87,  88,  89,  90,  91,\n",
       "        92,  93,  94,  95,  96,  97,  98,  99, 100])"
      ]
     },
     "execution_count": 110,
     "metadata": {},
     "output_type": "execute_result"
    }
   ],
   "source": [
    "narr.reshape((-1,))"
   ]
  },
  {
   "cell_type": "code",
   "execution_count": 113,
   "id": "925f9a74-5267-41d9-97fa-5cbe9f44a324",
   "metadata": {},
   "outputs": [],
   "source": [
    "narr[1,1,4] = 350"
   ]
  },
  {
   "cell_type": "code",
   "execution_count": 114,
   "id": "74694765-c3b2-408f-8064-cd4d15c5d097",
   "metadata": {},
   "outputs": [
    {
     "data": {
      "text/plain": [
       "array([[[  1,   2,   3,   4,   5,   6,   7,   8,   9,  10],\n",
       "        [ 11,  12,  13,  14,  15,  16,  17,  18,  19,  20]],\n",
       "\n",
       "       [[ 21,  22,  23,  24,  25,  26,  27,  28,  29,  30],\n",
       "        [ 31,  32,  33,  34, 350,  36,  37,  38,  39,  40]],\n",
       "\n",
       "       [[ 41,  42,  43,  44,  45,  46,  47,  48,  49,  50],\n",
       "        [ 51,  52,  53,  54,  55,  56,  57,  58,  59,  60]],\n",
       "\n",
       "       [[ 61,  62,  63,  64,  65,  66,  67,  68,  69,  70],\n",
       "        [ 71,  72,  73,  74,  75,  76,  77,  78,  79,  80]],\n",
       "\n",
       "       [[ 81,  82,  83,  84,  85,  86,  87,  88,  89,  90],\n",
       "        [ 91,  92,  93,  94,  95,  96,  97,  98,  99, 100]]])"
      ]
     },
     "execution_count": 114,
     "metadata": {},
     "output_type": "execute_result"
    }
   ],
   "source": [
    "narr"
   ]
  },
  {
   "cell_type": "code",
   "execution_count": 119,
   "id": "7a2dbb57-4865-499f-92e3-3079c571673f",
   "metadata": {},
   "outputs": [],
   "source": [
    "narr = narr.reshape((5,2,-1))"
   ]
  },
  {
   "cell_type": "code",
   "execution_count": 122,
   "id": "14e4685f-109a-4637-a874-0c2f89f268a5",
   "metadata": {},
   "outputs": [],
   "source": [
    "narr[1,1,4] = 350"
   ]
  },
  {
   "cell_type": "code",
   "execution_count": 137,
   "id": "ac874630-44d4-436f-9173-26ebcc554c1e",
   "metadata": {},
   "outputs": [
    {
     "data": {
      "text/plain": [
       "array([[[ 23,  24,  25,  26],\n",
       "        [ 33,  34, 350,  36]],\n",
       "\n",
       "       [[ 43,  44,  45,  46],\n",
       "        [ 53,  54,  55,  56]],\n",
       "\n",
       "       [[ 63,  64,  65,  66],\n",
       "        [ 73,  74,  75,  76]]])"
      ]
     },
     "execution_count": 137,
     "metadata": {},
     "output_type": "execute_result"
    }
   ],
   "source": [
    "narr[1:4,:,2:6]"
   ]
  },
  {
   "cell_type": "code",
   "execution_count": 155,
   "id": "639fa93d-9142-4334-a53f-5f156986a41f",
   "metadata": {},
   "outputs": [],
   "source": [
    "narr = np.arange(1,101).reshape((10,10))"
   ]
  },
  {
   "cell_type": "code",
   "execution_count": 156,
   "id": "48c64906-91d4-4efc-a293-d5ca7bafdc14",
   "metadata": {},
   "outputs": [],
   "source": [
    "narr[3:7,4:8] = np.eye(4)"
   ]
  },
  {
   "cell_type": "code",
   "execution_count": 157,
   "id": "c210780f-b3b1-4d2a-87f1-ba4f6bc49101",
   "metadata": {},
   "outputs": [
    {
     "data": {
      "text/plain": [
       "array([[  1,   2,   3,   4,   5,   6,   7,   8,   9,  10],\n",
       "       [ 11,  12,  13,  14,  15,  16,  17,  18,  19,  20],\n",
       "       [ 21,  22,  23,  24,  25,  26,  27,  28,  29,  30],\n",
       "       [ 31,  32,  33,  34,   1,   0,   0,   0,  39,  40],\n",
       "       [ 41,  42,  43,  44,   0,   1,   0,   0,  49,  50],\n",
       "       [ 51,  52,  53,  54,   0,   0,   1,   0,  59,  60],\n",
       "       [ 61,  62,  63,  64,   0,   0,   0,   1,  69,  70],\n",
       "       [ 71,  72,  73,  74,  75,  76,  77,  78,  79,  80],\n",
       "       [ 81,  82,  83,  84,  85,  86,  87,  88,  89,  90],\n",
       "       [ 91,  92,  93,  94,  95,  96,  97,  98,  99, 100]])"
      ]
     },
     "execution_count": 157,
     "metadata": {},
     "output_type": "execute_result"
    }
   ],
   "source": [
    "narr"
   ]
  },
  {
   "cell_type": "code",
   "execution_count": 158,
   "id": "bb3bfd76-5ffd-471a-affb-328d1e6fe37b",
   "metadata": {},
   "outputs": [],
   "source": [
    "brr = narr[3:7,4:8].copy()"
   ]
  },
  {
   "cell_type": "code",
   "execution_count": 159,
   "id": "2e6fa4e6-6b4b-49ef-90c0-0013a3967677",
   "metadata": {},
   "outputs": [],
   "source": [
    "brr[1:3,1:3] = np.ones(shape=(2,2))"
   ]
  },
  {
   "cell_type": "code",
   "execution_count": 160,
   "id": "b849ccb2-01b7-46da-990e-b25d2451b0c2",
   "metadata": {},
   "outputs": [
    {
     "data": {
      "text/plain": [
       "array([[1, 0, 0, 0],\n",
       "       [0, 1, 1, 0],\n",
       "       [0, 1, 1, 0],\n",
       "       [0, 0, 0, 1]])"
      ]
     },
     "execution_count": 160,
     "metadata": {},
     "output_type": "execute_result"
    }
   ],
   "source": [
    "brr"
   ]
  },
  {
   "cell_type": "code",
   "execution_count": 161,
   "id": "fd5de7cf-2485-4b3f-a583-6ed5ecaded91",
   "metadata": {},
   "outputs": [
    {
     "data": {
      "text/plain": [
       "array([[  1,   2,   3,   4,   5,   6,   7,   8,   9,  10],\n",
       "       [ 11,  12,  13,  14,  15,  16,  17,  18,  19,  20],\n",
       "       [ 21,  22,  23,  24,  25,  26,  27,  28,  29,  30],\n",
       "       [ 31,  32,  33,  34,   1,   0,   0,   0,  39,  40],\n",
       "       [ 41,  42,  43,  44,   0,   1,   0,   0,  49,  50],\n",
       "       [ 51,  52,  53,  54,   0,   0,   1,   0,  59,  60],\n",
       "       [ 61,  62,  63,  64,   0,   0,   0,   1,  69,  70],\n",
       "       [ 71,  72,  73,  74,  75,  76,  77,  78,  79,  80],\n",
       "       [ 81,  82,  83,  84,  85,  86,  87,  88,  89,  90],\n",
       "       [ 91,  92,  93,  94,  95,  96,  97,  98,  99, 100]])"
      ]
     },
     "execution_count": 161,
     "metadata": {},
     "output_type": "execute_result"
    }
   ],
   "source": [
    "narr"
   ]
  },
  {
   "cell_type": "code",
   "execution_count": 168,
   "id": "f279d451-b6ad-45e6-adbe-d3538dc8e38e",
   "metadata": {},
   "outputs": [],
   "source": [
    "n1 = np.array([1,2,3,4,5])\n",
    "n2 = np.array([10,20,30,40,50])"
   ]
  },
  {
   "cell_type": "code",
   "execution_count": 177,
   "id": "9ec1d865-784a-4e1b-a663-b607515f9577",
   "metadata": {},
   "outputs": [
    {
     "data": {
      "text/plain": [
       "array([False, False, False,  True,  True])"
      ]
     },
     "execution_count": 177,
     "metadata": {},
     "output_type": "execute_result"
    }
   ],
   "source": [
    "n1 > 3"
   ]
  },
  {
   "cell_type": "code",
   "execution_count": 170,
   "id": "b3ea76da-01a3-4122-8928-d3af7c4e5c47",
   "metadata": {},
   "outputs": [
    {
     "data": {
      "text/plain": [
       "array([11, 22, 33, 44, 55])"
      ]
     },
     "execution_count": 170,
     "metadata": {},
     "output_type": "execute_result"
    }
   ],
   "source": [
    "n1+n2"
   ]
  },
  {
   "cell_type": "code",
   "execution_count": null,
   "id": "4903c60b-1e9b-429c-9350-5d90284d4b93",
   "metadata": {},
   "outputs": [],
   "source": []
  },
  {
   "cell_type": "code",
   "execution_count": null,
   "id": "014daab6-6847-458e-9d75-460e00c530e4",
   "metadata": {},
   "outputs": [],
   "source": []
  },
  {
   "cell_type": "code",
   "execution_count": null,
   "id": "295c8952-7356-49be-83ad-6859fe49f321",
   "metadata": {},
   "outputs": [],
   "source": []
  }
 ],
 "metadata": {
  "kernelspec": {
   "display_name": "Python 3 (ipykernel)",
   "language": "python",
   "name": "python3"
  },
  "language_info": {
   "codemirror_mode": {
    "name": "ipython",
    "version": 3
   },
   "file_extension": ".py",
   "mimetype": "text/x-python",
   "name": "python",
   "nbconvert_exporter": "python",
   "pygments_lexer": "ipython3",
   "version": "3.12.8"
  }
 },
 "nbformat": 4,
 "nbformat_minor": 5
}
