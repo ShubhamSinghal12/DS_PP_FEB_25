{
 "cells": [
  {
   "cell_type": "markdown",
   "id": "88f68fe1-3ae3-4c5f-a677-acd41915118a",
   "metadata": {},
   "source": [
    "# Numpy\n",
    "```\n",
    "pip install numpy\n",
    "```\n",
    "\n",
    "- Mathematical Calculations\n",
    "- Numpy Array Creation\n",
    "- Shape\n",
    "- indexing\n",
    "- data types: b,i,u,f,c,m,M,O,S,u,V (https://numpy.org/doc/1.25/reference/arrays.dtypes.html#arrays-dtypes)\n",
    "- more creation methods: arange, linspace, ones, zeros, eye, diag\n",
    "- random numbers: Numpy Random Module\n",
    "    - rand: Random values in given shape\n",
    "    - randn: Return samples from the Standard normal distribution\n",
    "    - randint: Return random integer from low(inclusive) to high(exclusive)\n",
    "    - random: Return random floats in [0.0,1.0)\n",
    "    - choice: Generates a random sample from given 1D array\n",
    "    - Shuffle: Shuffle the contents of the sequence. Discuss np.random.seed()\n",
    "- reshape: -1 for unknown\n",
    "- slicing and assignment\n",
    "- copy and view: share_memory\n",
    "- operators(Element wise operations)\n",
    "- and: &, or: |, not: ~ (Bitwise works same as logical in case of boolean Values)\n",
    "- shape mismatch\n",
    "- fancy indexing also know as filter\n",
    "- search: where uses fancy indexing\n",
    "- Basic reductions: sum, min, max, any, all,argmax, argmin\n",
    "- Some More Numpy Functions - Statistics: mean, median, average, variance, standard deviation\n",
    "- iteration: nditer, ndenumerate\n",
    "- Join: concatenate, stack, hstack, vstack. Note: make a tuple of arays you want to join\n",
    "- split: array_split, hsplit\n",
    "- sort: np.sort\n",
    "- Broadcasting\n",
    "- Input from Text File\n",
    "- Questions"
   ]
  },
  {
   "cell_type": "code",
   "execution_count": 1,
   "id": "c2e132a5-77f0-43b8-b214-4e69ef7ac485",
   "metadata": {},
   "outputs": [
    {
     "name": "stdout",
     "output_type": "stream",
     "text": [
      "Requirement already satisfied: numpy in c:\\users\\abhis\\miniconda3\\lib\\site-packages (2.2.4)\n"
     ]
    }
   ],
   "source": [
    "!pip install numpy"
   ]
  },
  {
   "cell_type": "code",
   "execution_count": 1,
   "id": "42b41fb4-f6f6-4595-b8ea-54202834ee19",
   "metadata": {},
   "outputs": [
    {
     "name": "stdout",
     "output_type": "stream",
     "text": [
      "1.26.4\n"
     ]
    }
   ],
   "source": [
    "import numpy as np\n",
    "print(np.__version__)"
   ]
  },
  {
   "cell_type": "code",
   "execution_count": 26,
   "id": "17abceff-a568-4e51-947f-ee78a90ab75d",
   "metadata": {},
   "outputs": [],
   "source": [
    "l1 = [1,2,3,4]\n",
    "l2 = [[1,2],[3,4],[5,6]]\n",
    "l3 = [[[10,20],[30,40]],[[1,2],[3,4]],[[1,2],[3,4]]]"
   ]
  },
  {
   "cell_type": "code",
   "execution_count": 48,
   "id": "78e7f8b2-938a-4930-a484-343c28fdd1ec",
   "metadata": {},
   "outputs": [],
   "source": [
    "n1 = np.array(l1,dtype='f8')\n",
    "n2 = np.array(l2,dtype='i1')#1 2 4 8\n",
    "n3 = np.array(l3)"
   ]
  },
  {
   "cell_type": "code",
   "execution_count": 49,
   "id": "b63cf723-51f6-4efe-aa10-d0faf59fd19a",
   "metadata": {},
   "outputs": [
    {
     "data": {
      "text/plain": [
       "dtype('int8')"
      ]
     },
     "execution_count": 49,
     "metadata": {},
     "output_type": "execute_result"
    }
   ],
   "source": [
    "n2.dtype"
   ]
  },
  {
   "cell_type": "code",
   "execution_count": 29,
   "id": "731abf98-6f46-48d8-bd23-7bca5d785253",
   "metadata": {},
   "outputs": [
    {
     "data": {
      "text/plain": [
       "(3, 2)"
      ]
     },
     "execution_count": 29,
     "metadata": {},
     "output_type": "execute_result"
    }
   ],
   "source": [
    "n2.shape"
   ]
  },
  {
   "cell_type": "code",
   "execution_count": 30,
   "id": "e603365e-095f-4396-9ee1-07478084ac74",
   "metadata": {},
   "outputs": [
    {
     "data": {
      "text/plain": [
       "(3, 2, 2)"
      ]
     },
     "execution_count": 30,
     "metadata": {},
     "output_type": "execute_result"
    }
   ],
   "source": [
    "n3.shape"
   ]
  },
  {
   "cell_type": "code",
   "execution_count": 32,
   "id": "62792ea1-5a4c-45d6-9480-5bf9ad41cc16",
   "metadata": {},
   "outputs": [
    {
     "name": "stdout",
     "output_type": "stream",
     "text": [
      "3 3\n"
     ]
    }
   ],
   "source": [
    "print(l1[2],n1[2])"
   ]
  },
  {
   "cell_type": "code",
   "execution_count": 34,
   "id": "33c115f4-46c5-4f33-936f-9dc2218877b9",
   "metadata": {},
   "outputs": [
    {
     "name": "stdout",
     "output_type": "stream",
     "text": [
      "4 4\n"
     ]
    }
   ],
   "source": [
    "# print(l2[1][1], n2[1][1])\n",
    "print(l2[1][1], n2[1,1])"
   ]
  },
  {
   "cell_type": "code",
   "execution_count": 37,
   "id": "796f7e75-90ff-42b5-99d5-831005247f60",
   "metadata": {},
   "outputs": [
    {
     "name": "stdout",
     "output_type": "stream",
     "text": [
      "30 30\n"
     ]
    }
   ],
   "source": [
    "print(l3[0][1][0],n3[0,1,0])"
   ]
  },
  {
   "cell_type": "code",
   "execution_count": 38,
   "id": "304525cc-bfbb-4cfb-af5b-cad39b38834f",
   "metadata": {},
   "outputs": [
    {
     "data": {
      "text/plain": [
       "[3, 4]"
      ]
     },
     "execution_count": 38,
     "metadata": {},
     "output_type": "execute_result"
    }
   ],
   "source": [
    "l2[1]"
   ]
  },
  {
   "cell_type": "code",
   "execution_count": 41,
   "id": "b098e52c-b092-4e6e-b2e7-2c0125c784de",
   "metadata": {},
   "outputs": [
    {
     "data": {
      "text/plain": [
       "array([3, 4])"
      ]
     },
     "execution_count": 41,
     "metadata": {},
     "output_type": "execute_result"
    }
   ],
   "source": [
    "n2[1]"
   ]
  },
  {
   "cell_type": "code",
   "execution_count": 42,
   "id": "4c339046-d531-479d-9869-348582b4d1f3",
   "metadata": {},
   "outputs": [
    {
     "ename": "IndexError",
     "evalue": "too many indices for array: array is 2-dimensional, but 3 were indexed",
     "output_type": "error",
     "traceback": [
      "\u001b[1;31m---------------------------------------------------------------------------\u001b[0m",
      "\u001b[1;31mIndexError\u001b[0m                                Traceback (most recent call last)",
      "Cell \u001b[1;32mIn[42], line 1\u001b[0m\n\u001b[1;32m----> 1\u001b[0m \u001b[43mn2\u001b[49m\u001b[43m[\u001b[49m\u001b[38;5;241;43m1\u001b[39;49m\u001b[43m,\u001b[49m\u001b[38;5;241;43m2\u001b[39;49m\u001b[43m,\u001b[49m\u001b[38;5;241;43m1\u001b[39;49m\u001b[43m]\u001b[49m\n",
      "\u001b[1;31mIndexError\u001b[0m: too many indices for array: array is 2-dimensional, but 3 were indexed"
     ]
    }
   ],
   "source": [
    "n2[1,2,1]"
   ]
  },
  {
   "cell_type": "code",
   "execution_count": null,
   "id": "b6109428-e148-4dc4-85e1-8e8e8662f3d8",
   "metadata": {},
   "outputs": [],
   "source": []
  },
  {
   "cell_type": "markdown",
   "id": "c6aacd24-d43f-4657-a07d-0e169d656a08",
   "metadata": {},
   "source": [
    "more creation methods: arange, linspace, ones, zeros, eye, diag"
   ]
  },
  {
   "cell_type": "code",
   "execution_count": 51,
   "id": "52b7e252-925b-4746-8fb9-38371ddc2587",
   "metadata": {},
   "outputs": [],
   "source": [
    "narr = np.arange(1,11)"
   ]
  },
  {
   "cell_type": "code",
   "execution_count": 52,
   "id": "9c4ecb2b-db6a-42cd-87d2-8f3662db67b6",
   "metadata": {},
   "outputs": [
    {
     "data": {
      "text/plain": [
       "array([ 1,  2,  3,  4,  5,  6,  7,  8,  9, 10])"
      ]
     },
     "execution_count": 52,
     "metadata": {},
     "output_type": "execute_result"
    }
   ],
   "source": [
    "narr"
   ]
  },
  {
   "cell_type": "code",
   "execution_count": 56,
   "id": "825437fc-ba55-4f92-9407-ee7baff6ceb0",
   "metadata": {},
   "outputs": [
    {
     "data": {
      "text/plain": [
       "array([ 1.  ,  3.25,  5.5 ,  7.75, 10.  ])"
      ]
     },
     "execution_count": 56,
     "metadata": {},
     "output_type": "execute_result"
    }
   ],
   "source": [
    "np.linspace(1,10,5)"
   ]
  },
  {
   "cell_type": "code",
   "execution_count": 58,
   "id": "c30b7c13-e634-4465-b555-41be609e0e26",
   "metadata": {},
   "outputs": [
    {
     "data": {
      "text/plain": [
       "array([[1., 1.],\n",
       "       [1., 1.],\n",
       "       [1., 1.],\n",
       "       [1., 1.],\n",
       "       [1., 1.]])"
      ]
     },
     "execution_count": 58,
     "metadata": {},
     "output_type": "execute_result"
    }
   ],
   "source": [
    "np.ones(shape = (5,2))"
   ]
  },
  {
   "cell_type": "code",
   "execution_count": 59,
   "id": "8ea3def9-d99f-4982-9493-334d2f04fbc0",
   "metadata": {},
   "outputs": [
    {
     "data": {
      "text/plain": [
       "array([[0., 0.],\n",
       "       [0., 0.],\n",
       "       [0., 0.],\n",
       "       [0., 0.],\n",
       "       [0., 0.]])"
      ]
     },
     "execution_count": 59,
     "metadata": {},
     "output_type": "execute_result"
    }
   ],
   "source": [
    "np.zeros(shape=(5,2))"
   ]
  },
  {
   "cell_type": "code",
   "execution_count": 70,
   "id": "714dc562-fd05-4055-bcbe-e0b55178bc7f",
   "metadata": {},
   "outputs": [
    {
     "data": {
      "text/plain": [
       "array([[1., 0., 0., 0., 0.],\n",
       "       [0., 1., 0., 0., 0.]])"
      ]
     },
     "execution_count": 70,
     "metadata": {},
     "output_type": "execute_result"
    }
   ],
   "source": [
    "np.eye(2,5)"
   ]
  },
  {
   "cell_type": "code",
   "execution_count": 71,
   "id": "619ad240-c542-4146-9b61-bc1b6b06d8a1",
   "metadata": {},
   "outputs": [
    {
     "data": {
      "text/plain": [
       "array([[1, 0, 0, 0],\n",
       "       [0, 2, 0, 0],\n",
       "       [0, 0, 3, 0],\n",
       "       [0, 0, 0, 4]])"
      ]
     },
     "execution_count": 71,
     "metadata": {},
     "output_type": "execute_result"
    }
   ],
   "source": [
    "np.diag([1,2,3,4])"
   ]
  },
  {
   "cell_type": "code",
   "execution_count": 73,
   "id": "21235723-c125-4f8d-87f9-dd52f59067f0",
   "metadata": {},
   "outputs": [],
   "source": [
    "narr = np.arange(1,101)"
   ]
  },
  {
   "cell_type": "code",
   "execution_count": 75,
   "id": "08283886-c06e-487e-b74f-a7c033fe1da4",
   "metadata": {},
   "outputs": [],
   "source": [
    "narr = narr.reshape((10,10))"
   ]
  },
  {
   "cell_type": "code",
   "execution_count": 76,
   "id": "315cf792-46ba-40e6-89fc-4e2a3db5fb78",
   "metadata": {},
   "outputs": [
    {
     "data": {
      "text/plain": [
       "(10, 10)"
      ]
     },
     "execution_count": 76,
     "metadata": {},
     "output_type": "execute_result"
    }
   ],
   "source": [
    "narr.shape"
   ]
  },
  {
   "cell_type": "code",
   "execution_count": 77,
   "id": "9748a181-552c-4fcf-af8f-128e7decff68",
   "metadata": {},
   "outputs": [
    {
     "data": {
      "text/plain": [
       "array([[  1,   2,   3,   4,   5,   6,   7,   8,   9,  10],\n",
       "       [ 11,  12,  13,  14,  15,  16,  17,  18,  19,  20],\n",
       "       [ 21,  22,  23,  24,  25,  26,  27,  28,  29,  30],\n",
       "       [ 31,  32,  33,  34,  35,  36,  37,  38,  39,  40],\n",
       "       [ 41,  42,  43,  44,  45,  46,  47,  48,  49,  50],\n",
       "       [ 51,  52,  53,  54,  55,  56,  57,  58,  59,  60],\n",
       "       [ 61,  62,  63,  64,  65,  66,  67,  68,  69,  70],\n",
       "       [ 71,  72,  73,  74,  75,  76,  77,  78,  79,  80],\n",
       "       [ 81,  82,  83,  84,  85,  86,  87,  88,  89,  90],\n",
       "       [ 91,  92,  93,  94,  95,  96,  97,  98,  99, 100]])"
      ]
     },
     "execution_count": 77,
     "metadata": {},
     "output_type": "execute_result"
    }
   ],
   "source": [
    "narr"
   ]
  },
  {
   "cell_type": "markdown",
   "id": "c12aef9e-c71e-4322-bbe2-28505bcc8d86",
   "metadata": {},
   "source": [
    "random numbers: Numpy Random Module\n",
    "- rand: Random values in given shape\n",
    "- randn: Return samples from the Standard normal distribution\n",
    "- randint: Return random integer from low(inclusive) to high(exclusive)\n",
    "- random: Return random floats in [0.0,1.0)\n",
    "- choice: Generates a random sample from given 1D array\n",
    "- Shuffle: Shuffle the contents of the sequence. Discuss np.random.seed()"
   ]
  },
  {
   "cell_type": "code",
   "execution_count": 78,
   "id": "ea1867ce-062b-49a3-9e93-39c1eb625660",
   "metadata": {},
   "outputs": [
    {
     "data": {
      "text/plain": [
       "array([[[0.72016251, 0.2797445 ],\n",
       "        [0.58225106, 0.33101301]],\n",
       "\n",
       "       [[0.87272389, 0.96126775],\n",
       "        [0.30356076, 0.02311402]],\n",
       "\n",
       "       [[0.6448465 , 0.04280286],\n",
       "        [0.08959913, 0.68817352]]])"
      ]
     },
     "execution_count": 78,
     "metadata": {},
     "output_type": "execute_result"
    }
   ],
   "source": [
    "np.random.rand(3,2,2)"
   ]
  },
  {
   "cell_type": "code",
   "execution_count": 79,
   "id": "2cb9b256-1ddf-456f-a102-22c82bf8e7e8",
   "metadata": {},
   "outputs": [
    {
     "data": {
      "text/plain": [
       "array([[[ 1.7905566 , -0.30765327],\n",
       "        [ 0.2377005 ,  0.5311676 ]],\n",
       "\n",
       "       [[-1.00601621,  1.17516584],\n",
       "        [-0.18181411,  0.01083942]],\n",
       "\n",
       "       [[ 1.25232093,  0.46223587],\n",
       "        [-0.15167277,  0.50397596]]])"
      ]
     },
     "execution_count": 79,
     "metadata": {},
     "output_type": "execute_result"
    }
   ],
   "source": [
    "np.random.randn(3,2,2)"
   ]
  },
  {
   "cell_type": "code",
   "execution_count": 80,
   "id": "65f69977-7404-4f96-8a12-4de9551d450e",
   "metadata": {},
   "outputs": [
    {
     "data": {
      "text/plain": [
       "array([[61, 37],\n",
       "       [46, 67],\n",
       "       [82, 97],\n",
       "       [23, 94],\n",
       "       [35, 11]])"
      ]
     },
     "execution_count": 80,
     "metadata": {},
     "output_type": "execute_result"
    }
   ],
   "source": [
    "np.random.randint(1,101,size=(5,2))"
   ]
  },
  {
   "cell_type": "code",
   "execution_count": 81,
   "id": "2e6d60c8-3a10-4fe5-8fd4-eb64b9d56329",
   "metadata": {},
   "outputs": [
    {
     "data": {
      "text/plain": [
       "array([[0.34975688, 0.82344578],\n",
       "       [0.57413113, 0.9799406 ],\n",
       "       [0.43098886, 0.8674576 ],\n",
       "       [0.56836466, 0.88558562],\n",
       "       [0.72232498, 0.80616593]])"
      ]
     },
     "execution_count": 81,
     "metadata": {},
     "output_type": "execute_result"
    }
   ],
   "source": [
    "np.random.random(size=(5,2))"
   ]
  },
  {
   "cell_type": "code",
   "execution_count": 97,
   "id": "783f20c3-409f-4000-93dc-0516d556184b",
   "metadata": {},
   "outputs": [
    {
     "data": {
      "text/plain": [
       "array([6, 5, 8, 6, 6])"
      ]
     },
     "execution_count": 97,
     "metadata": {},
     "output_type": "execute_result"
    }
   ],
   "source": [
    "np.random.choice(np.array([1,2,3,4,5,6,7,8,9]),size=(5,),replace = True,p = [0,0,0,0,0.3,0.3,0.1,0.3,0])"
   ]
  },
  {
   "cell_type": "code",
   "execution_count": 101,
   "id": "743a2b90-e737-40bd-9101-14d1f4dabca3",
   "metadata": {},
   "outputs": [],
   "source": [
    "narr = np.arange(1,101).reshape((10,10))\n",
    "np.random.shuffle(narr)"
   ]
  },
  {
   "cell_type": "code",
   "execution_count": 102,
   "id": "d509f0f2-ff83-4afb-a860-3f0d5d547d93",
   "metadata": {},
   "outputs": [
    {
     "data": {
      "text/plain": [
       "array([[ 31,  32,  33,  34,  35,  36,  37,  38,  39,  40],\n",
       "       [ 11,  12,  13,  14,  15,  16,  17,  18,  19,  20],\n",
       "       [ 81,  82,  83,  84,  85,  86,  87,  88,  89,  90],\n",
       "       [ 21,  22,  23,  24,  25,  26,  27,  28,  29,  30],\n",
       "       [  1,   2,   3,   4,   5,   6,   7,   8,   9,  10],\n",
       "       [ 71,  72,  73,  74,  75,  76,  77,  78,  79,  80],\n",
       "       [ 91,  92,  93,  94,  95,  96,  97,  98,  99, 100],\n",
       "       [ 61,  62,  63,  64,  65,  66,  67,  68,  69,  70],\n",
       "       [ 51,  52,  53,  54,  55,  56,  57,  58,  59,  60],\n",
       "       [ 41,  42,  43,  44,  45,  46,  47,  48,  49,  50]])"
      ]
     },
     "execution_count": 102,
     "metadata": {},
     "output_type": "execute_result"
    }
   ],
   "source": [
    "narr"
   ]
  },
  {
   "cell_type": "code",
   "execution_count": 115,
   "id": "6ce8e61e-ab30-4ba9-9339-c9e3a67d6373",
   "metadata": {},
   "outputs": [],
   "source": [
    "narr = np.arange(1,101)"
   ]
  },
  {
   "cell_type": "code",
   "execution_count": 106,
   "id": "b6bbd985-bf90-441e-8614-90b7f9fa816d",
   "metadata": {},
   "outputs": [],
   "source": [
    "narr = narr.reshape((5,2,-1))"
   ]
  },
  {
   "cell_type": "code",
   "execution_count": 107,
   "id": "209a5cac-0196-4835-baf6-d1d612826919",
   "metadata": {},
   "outputs": [
    {
     "data": {
      "text/plain": [
       "array([[[  1,   2,   3,   4,   5,   6,   7,   8,   9,  10],\n",
       "        [ 11,  12,  13,  14,  15,  16,  17,  18,  19,  20]],\n",
       "\n",
       "       [[ 21,  22,  23,  24,  25,  26,  27,  28,  29,  30],\n",
       "        [ 31,  32,  33,  34,  35,  36,  37,  38,  39,  40]],\n",
       "\n",
       "       [[ 41,  42,  43,  44,  45,  46,  47,  48,  49,  50],\n",
       "        [ 51,  52,  53,  54,  55,  56,  57,  58,  59,  60]],\n",
       "\n",
       "       [[ 61,  62,  63,  64,  65,  66,  67,  68,  69,  70],\n",
       "        [ 71,  72,  73,  74,  75,  76,  77,  78,  79,  80]],\n",
       "\n",
       "       [[ 81,  82,  83,  84,  85,  86,  87,  88,  89,  90],\n",
       "        [ 91,  92,  93,  94,  95,  96,  97,  98,  99, 100]]])"
      ]
     },
     "execution_count": 107,
     "metadata": {},
     "output_type": "execute_result"
    }
   ],
   "source": [
    "narr"
   ]
  },
  {
   "cell_type": "code",
   "execution_count": 110,
   "id": "587ea34a-056d-4655-9a17-194bc276c00c",
   "metadata": {},
   "outputs": [
    {
     "data": {
      "text/plain": [
       "array([  1,   2,   3,   4,   5,   6,   7,   8,   9,  10,  11,  12,  13,\n",
       "        14,  15,  16,  17,  18,  19,  20,  21,  22,  23,  24,  25,  26,\n",
       "        27,  28,  29,  30,  31,  32,  33,  34,  35,  36,  37,  38,  39,\n",
       "        40,  41,  42,  43,  44,  45,  46,  47,  48,  49,  50,  51,  52,\n",
       "        53,  54,  55,  56,  57,  58,  59,  60,  61,  62,  63,  64,  65,\n",
       "        66,  67,  68,  69,  70,  71,  72,  73,  74,  75,  76,  77,  78,\n",
       "        79,  80,  81,  82,  83,  84,  85,  86,  87,  88,  89,  90,  91,\n",
       "        92,  93,  94,  95,  96,  97,  98,  99, 100])"
      ]
     },
     "execution_count": 110,
     "metadata": {},
     "output_type": "execute_result"
    }
   ],
   "source": [
    "narr.reshape((-1,))"
   ]
  },
  {
   "cell_type": "code",
   "execution_count": 113,
   "id": "925f9a74-5267-41d9-97fa-5cbe9f44a324",
   "metadata": {},
   "outputs": [],
   "source": [
    "narr[1,1,4] = 350"
   ]
  },
  {
   "cell_type": "code",
   "execution_count": 114,
   "id": "74694765-c3b2-408f-8064-cd4d15c5d097",
   "metadata": {},
   "outputs": [
    {
     "data": {
      "text/plain": [
       "array([[[  1,   2,   3,   4,   5,   6,   7,   8,   9,  10],\n",
       "        [ 11,  12,  13,  14,  15,  16,  17,  18,  19,  20]],\n",
       "\n",
       "       [[ 21,  22,  23,  24,  25,  26,  27,  28,  29,  30],\n",
       "        [ 31,  32,  33,  34, 350,  36,  37,  38,  39,  40]],\n",
       "\n",
       "       [[ 41,  42,  43,  44,  45,  46,  47,  48,  49,  50],\n",
       "        [ 51,  52,  53,  54,  55,  56,  57,  58,  59,  60]],\n",
       "\n",
       "       [[ 61,  62,  63,  64,  65,  66,  67,  68,  69,  70],\n",
       "        [ 71,  72,  73,  74,  75,  76,  77,  78,  79,  80]],\n",
       "\n",
       "       [[ 81,  82,  83,  84,  85,  86,  87,  88,  89,  90],\n",
       "        [ 91,  92,  93,  94,  95,  96,  97,  98,  99, 100]]])"
      ]
     },
     "execution_count": 114,
     "metadata": {},
     "output_type": "execute_result"
    }
   ],
   "source": [
    "narr"
   ]
  },
  {
   "cell_type": "code",
   "execution_count": 119,
   "id": "7a2dbb57-4865-499f-92e3-3079c571673f",
   "metadata": {},
   "outputs": [],
   "source": [
    "narr = narr.reshape((5,2,-1))"
   ]
  },
  {
   "cell_type": "code",
   "execution_count": 122,
   "id": "14e4685f-109a-4637-a874-0c2f89f268a5",
   "metadata": {},
   "outputs": [],
   "source": [
    "narr[1,1,4] = 350"
   ]
  },
  {
   "cell_type": "code",
   "execution_count": 137,
   "id": "ac874630-44d4-436f-9173-26ebcc554c1e",
   "metadata": {},
   "outputs": [
    {
     "data": {
      "text/plain": [
       "array([[[ 23,  24,  25,  26],\n",
       "        [ 33,  34, 350,  36]],\n",
       "\n",
       "       [[ 43,  44,  45,  46],\n",
       "        [ 53,  54,  55,  56]],\n",
       "\n",
       "       [[ 63,  64,  65,  66],\n",
       "        [ 73,  74,  75,  76]]])"
      ]
     },
     "execution_count": 137,
     "metadata": {},
     "output_type": "execute_result"
    }
   ],
   "source": [
    "narr[1:4,:,2:6]"
   ]
  },
  {
   "cell_type": "code",
   "execution_count": 155,
   "id": "639fa93d-9142-4334-a53f-5f156986a41f",
   "metadata": {},
   "outputs": [],
   "source": [
    "narr = np.arange(1,101).reshape((10,10))"
   ]
  },
  {
   "cell_type": "code",
   "execution_count": 156,
   "id": "48c64906-91d4-4efc-a293-d5ca7bafdc14",
   "metadata": {},
   "outputs": [],
   "source": [
    "narr[3:7,4:8] = np.eye(4)"
   ]
  },
  {
   "cell_type": "code",
   "execution_count": 157,
   "id": "c210780f-b3b1-4d2a-87f1-ba4f6bc49101",
   "metadata": {},
   "outputs": [
    {
     "data": {
      "text/plain": [
       "array([[  1,   2,   3,   4,   5,   6,   7,   8,   9,  10],\n",
       "       [ 11,  12,  13,  14,  15,  16,  17,  18,  19,  20],\n",
       "       [ 21,  22,  23,  24,  25,  26,  27,  28,  29,  30],\n",
       "       [ 31,  32,  33,  34,   1,   0,   0,   0,  39,  40],\n",
       "       [ 41,  42,  43,  44,   0,   1,   0,   0,  49,  50],\n",
       "       [ 51,  52,  53,  54,   0,   0,   1,   0,  59,  60],\n",
       "       [ 61,  62,  63,  64,   0,   0,   0,   1,  69,  70],\n",
       "       [ 71,  72,  73,  74,  75,  76,  77,  78,  79,  80],\n",
       "       [ 81,  82,  83,  84,  85,  86,  87,  88,  89,  90],\n",
       "       [ 91,  92,  93,  94,  95,  96,  97,  98,  99, 100]])"
      ]
     },
     "execution_count": 157,
     "metadata": {},
     "output_type": "execute_result"
    }
   ],
   "source": [
    "narr"
   ]
  },
  {
   "cell_type": "code",
   "execution_count": 158,
   "id": "bb3bfd76-5ffd-471a-affb-328d1e6fe37b",
   "metadata": {},
   "outputs": [],
   "source": [
    "brr = narr[3:7,4:8].copy()"
   ]
  },
  {
   "cell_type": "code",
   "execution_count": 159,
   "id": "2e6fa4e6-6b4b-49ef-90c0-0013a3967677",
   "metadata": {},
   "outputs": [],
   "source": [
    "brr[1:3,1:3] = np.ones(shape=(2,2))"
   ]
  },
  {
   "cell_type": "code",
   "execution_count": 160,
   "id": "b849ccb2-01b7-46da-990e-b25d2451b0c2",
   "metadata": {},
   "outputs": [
    {
     "data": {
      "text/plain": [
       "array([[1, 0, 0, 0],\n",
       "       [0, 1, 1, 0],\n",
       "       [0, 1, 1, 0],\n",
       "       [0, 0, 0, 1]])"
      ]
     },
     "execution_count": 160,
     "metadata": {},
     "output_type": "execute_result"
    }
   ],
   "source": [
    "brr"
   ]
  },
  {
   "cell_type": "code",
   "execution_count": 161,
   "id": "fd5de7cf-2485-4b3f-a583-6ed5ecaded91",
   "metadata": {},
   "outputs": [
    {
     "data": {
      "text/plain": [
       "array([[  1,   2,   3,   4,   5,   6,   7,   8,   9,  10],\n",
       "       [ 11,  12,  13,  14,  15,  16,  17,  18,  19,  20],\n",
       "       [ 21,  22,  23,  24,  25,  26,  27,  28,  29,  30],\n",
       "       [ 31,  32,  33,  34,   1,   0,   0,   0,  39,  40],\n",
       "       [ 41,  42,  43,  44,   0,   1,   0,   0,  49,  50],\n",
       "       [ 51,  52,  53,  54,   0,   0,   1,   0,  59,  60],\n",
       "       [ 61,  62,  63,  64,   0,   0,   0,   1,  69,  70],\n",
       "       [ 71,  72,  73,  74,  75,  76,  77,  78,  79,  80],\n",
       "       [ 81,  82,  83,  84,  85,  86,  87,  88,  89,  90],\n",
       "       [ 91,  92,  93,  94,  95,  96,  97,  98,  99, 100]])"
      ]
     },
     "execution_count": 161,
     "metadata": {},
     "output_type": "execute_result"
    }
   ],
   "source": [
    "narr"
   ]
  },
  {
   "cell_type": "code",
   "execution_count": 12,
   "id": "f279d451-b6ad-45e6-adbe-d3538dc8e38e",
   "metadata": {},
   "outputs": [],
   "source": [
    "n1 = np.array([[1,2,3],[4,5,6]])\n",
    "n2 = np.array([10,20,30,40,50])"
   ]
  },
  {
   "cell_type": "code",
   "execution_count": 13,
   "id": "9ec1d865-784a-4e1b-a663-b607515f9577",
   "metadata": {},
   "outputs": [
    {
     "data": {
      "text/plain": [
       "array([[4, 5, 6],\n",
       "       [7, 8, 9]])"
      ]
     },
     "execution_count": 13,
     "metadata": {},
     "output_type": "execute_result"
    }
   ],
   "source": [
    "n1+3"
   ]
  },
  {
   "cell_type": "code",
   "execution_count": 14,
   "id": "b3ea76da-01a3-4122-8928-d3af7c4e5c47",
   "metadata": {},
   "outputs": [
    {
     "data": {
      "text/plain": [
       "array([[-2, -1,  0],\n",
       "       [ 1,  2,  3]])"
      ]
     },
     "execution_count": 14,
     "metadata": {},
     "output_type": "execute_result"
    }
   ],
   "source": [
    "n1-3"
   ]
  },
  {
   "cell_type": "code",
   "execution_count": 15,
   "id": "4903c60b-1e9b-429c-9350-5d90284d4b93",
   "metadata": {},
   "outputs": [
    {
     "data": {
      "text/plain": [
       "array([[ 3,  6,  9],\n",
       "       [12, 15, 18]])"
      ]
     },
     "execution_count": 15,
     "metadata": {},
     "output_type": "execute_result"
    }
   ],
   "source": [
    "n1*3"
   ]
  },
  {
   "cell_type": "code",
   "execution_count": 16,
   "id": "014daab6-6847-458e-9d75-460e00c530e4",
   "metadata": {},
   "outputs": [
    {
     "data": {
      "text/plain": [
       "array([[0.33333333, 0.66666667, 1.        ],\n",
       "       [1.33333333, 1.66666667, 2.        ]])"
      ]
     },
     "execution_count": 16,
     "metadata": {},
     "output_type": "execute_result"
    }
   ],
   "source": [
    "n1/3"
   ]
  },
  {
   "cell_type": "code",
   "execution_count": 17,
   "id": "295c8952-7356-49be-83ad-6859fe49f321",
   "metadata": {},
   "outputs": [
    {
     "data": {
      "text/plain": [
       "array([[0, 0, 1],\n",
       "       [1, 1, 2]], dtype=int32)"
      ]
     },
     "execution_count": 17,
     "metadata": {},
     "output_type": "execute_result"
    }
   ],
   "source": [
    "n1//3"
   ]
  },
  {
   "cell_type": "code",
   "execution_count": 18,
   "id": "08ac788d-c32a-43c3-8454-37e66a79d1b1",
   "metadata": {},
   "outputs": [
    {
     "data": {
      "text/plain": [
       "array([[1, 2, 0],\n",
       "       [1, 2, 0]], dtype=int32)"
      ]
     },
     "execution_count": 18,
     "metadata": {},
     "output_type": "execute_result"
    }
   ],
   "source": [
    "n1%3"
   ]
  },
  {
   "cell_type": "code",
   "execution_count": 19,
   "id": "6c87bb6b-d3c4-4cae-8d32-384673578156",
   "metadata": {},
   "outputs": [
    {
     "data": {
      "text/plain": [
       "array([[  1,   8,  27],\n",
       "       [ 64, 125, 216]], dtype=int32)"
      ]
     },
     "execution_count": 19,
     "metadata": {},
     "output_type": "execute_result"
    }
   ],
   "source": [
    "n1**3"
   ]
  },
  {
   "cell_type": "code",
   "execution_count": 20,
   "id": "087aef00-e191-41cf-a880-ebf1cc399a55",
   "metadata": {},
   "outputs": [
    {
     "data": {
      "text/plain": [
       "array([[False, False, False],\n",
       "       [ True,  True,  True]])"
      ]
     },
     "execution_count": 20,
     "metadata": {},
     "output_type": "execute_result"
    }
   ],
   "source": [
    "n1 > 3"
   ]
  },
  {
   "cell_type": "code",
   "execution_count": null,
   "id": "f98aa93d-a7ed-482f-8a04-7ae2f1b3ef8e",
   "metadata": {},
   "outputs": [],
   "source": []
  },
  {
   "cell_type": "code",
   "execution_count": 53,
   "id": "8bd77df7-51d0-4361-bb2b-5b8f9748da34",
   "metadata": {},
   "outputs": [],
   "source": [
    "n1 = np.array([[1,2,3],[4,5,6],[7,8,9]])\n",
    "n2 = np.array([[10,20,30],[40,50,60]])"
   ]
  },
  {
   "cell_type": "code",
   "execution_count": 28,
   "id": "27066730-2703-4889-a33b-43ce6620f259",
   "metadata": {},
   "outputs": [
    {
     "ename": "ValueError",
     "evalue": "operands could not be broadcast together with shapes (3,3) (2,3) ",
     "output_type": "error",
     "traceback": [
      "\u001b[1;31m---------------------------------------------------------------------------\u001b[0m",
      "\u001b[1;31mValueError\u001b[0m                                Traceback (most recent call last)",
      "Cell \u001b[1;32mIn[28], line 1\u001b[0m\n\u001b[1;32m----> 1\u001b[0m \u001b[43mn1\u001b[49m\u001b[38;5;241;43m+\u001b[39;49m\u001b[43mn2\u001b[49m\n",
      "\u001b[1;31mValueError\u001b[0m: operands could not be broadcast together with shapes (3,3) (2,3) "
     ]
    }
   ],
   "source": [
    "n1+n2"
   ]
  },
  {
   "cell_type": "code",
   "execution_count": 23,
   "id": "cc1049d0-b9fa-4182-a2fa-f0353de1ce5a",
   "metadata": {},
   "outputs": [
    {
     "data": {
      "text/plain": [
       "array([[ -9, -18, -27],\n",
       "       [-36, -45, -54]])"
      ]
     },
     "execution_count": 23,
     "metadata": {},
     "output_type": "execute_result"
    }
   ],
   "source": [
    "n1-n2"
   ]
  },
  {
   "cell_type": "code",
   "execution_count": 24,
   "id": "01181d6f-5d3f-4020-9b98-51ab431117b8",
   "metadata": {},
   "outputs": [
    {
     "data": {
      "text/plain": [
       "array([[ 10,  40,  90],\n",
       "       [160, 250, 360]])"
      ]
     },
     "execution_count": 24,
     "metadata": {},
     "output_type": "execute_result"
    }
   ],
   "source": [
    "n1*n2"
   ]
  },
  {
   "cell_type": "code",
   "execution_count": 25,
   "id": "cd5a93e4-5541-48e4-92b7-8667efe753c1",
   "metadata": {},
   "outputs": [
    {
     "data": {
      "text/plain": [
       "array([[False, False, False],\n",
       "       [False, False, False]])"
      ]
     },
     "execution_count": 25,
     "metadata": {},
     "output_type": "execute_result"
    }
   ],
   "source": [
    "n1 > n2"
   ]
  },
  {
   "cell_type": "code",
   "execution_count": 26,
   "id": "de0be35f-4934-4190-a57e-71dd5288c996",
   "metadata": {},
   "outputs": [
    {
     "data": {
      "text/plain": [
       "array([[ 20,  40,  60],\n",
       "       [ 80, 100, 120]])"
      ]
     },
     "execution_count": 26,
     "metadata": {},
     "output_type": "execute_result"
    }
   ],
   "source": [
    "n1*10+n2"
   ]
  },
  {
   "cell_type": "code",
   "execution_count": null,
   "id": "c5fa4d1f-4c46-4a29-88fa-43ab1940985d",
   "metadata": {},
   "outputs": [],
   "source": []
  },
  {
   "cell_type": "code",
   "execution_count": 29,
   "id": "a68b3269-e095-424e-b433-a32db23d09b6",
   "metadata": {},
   "outputs": [],
   "source": [
    "n1 = np.arange(1,21)"
   ]
  },
  {
   "cell_type": "code",
   "execution_count": 30,
   "id": "c789aced-5b66-4593-be8c-72bf7e06843f",
   "metadata": {},
   "outputs": [
    {
     "data": {
      "text/plain": [
       "array([ 1,  2,  3,  4,  5,  6,  7,  8,  9, 10, 11, 12, 13, 14, 15, 16, 17,\n",
       "       18, 19, 20])"
      ]
     },
     "execution_count": 30,
     "metadata": {},
     "output_type": "execute_result"
    }
   ],
   "source": [
    "n1"
   ]
  },
  {
   "cell_type": "code",
   "execution_count": 31,
   "id": "159e4d5d-4929-4894-8335-867be73be4c7",
   "metadata": {},
   "outputs": [],
   "source": [
    "np.random.shuffle(n1)"
   ]
  },
  {
   "cell_type": "code",
   "execution_count": 32,
   "id": "fbf738dc-bb9d-4d34-ae57-d346f4019f49",
   "metadata": {},
   "outputs": [
    {
     "data": {
      "text/plain": [
       "array([19,  3,  1,  5, 11, 20,  7, 17, 12,  8, 16, 15,  2,  6, 10,  9,  4,\n",
       "       13, 18, 14])"
      ]
     },
     "execution_count": 32,
     "metadata": {},
     "output_type": "execute_result"
    }
   ],
   "source": [
    "n1"
   ]
  },
  {
   "cell_type": "code",
   "execution_count": 33,
   "id": "855bf728-177e-47f0-a904-d00d2f008634",
   "metadata": {},
   "outputs": [
    {
     "data": {
      "text/plain": [
       "array([ 3, 11, 16])"
      ]
     },
     "execution_count": 33,
     "metadata": {},
     "output_type": "execute_result"
    }
   ],
   "source": [
    "n1[[1,4,10]]"
   ]
  },
  {
   "cell_type": "code",
   "execution_count": 34,
   "id": "e168fd69-7c0b-4994-8077-ba51899c14b3",
   "metadata": {},
   "outputs": [],
   "source": [
    "narr = np.arange(1,101).reshape((10,10))"
   ]
  },
  {
   "cell_type": "code",
   "execution_count": 38,
   "id": "ca59d985-a6be-46f0-9959-f9ce0ebf4c45",
   "metadata": {},
   "outputs": [
    {
     "data": {
      "text/plain": [
       "array([11, 44, 88])"
      ]
     },
     "execution_count": 38,
     "metadata": {},
     "output_type": "execute_result"
    }
   ],
   "source": [
    "narr[[1,4,8],[0,3,7]]"
   ]
  },
  {
   "cell_type": "code",
   "execution_count": 39,
   "id": "e3bda293-42bc-40c4-8075-ef06ea0f4601",
   "metadata": {},
   "outputs": [],
   "source": [
    "a,b = [1,2]"
   ]
  },
  {
   "cell_type": "code",
   "execution_count": 43,
   "id": "e6f741e5-42c5-4c8c-b2e2-a14ee1c9cddc",
   "metadata": {},
   "outputs": [
    {
     "data": {
      "text/plain": [
       "array([[  1,   2,   3,   4,   5,   6,   7,   8,   9,  10],\n",
       "       [ 31,  32,  33,  34,  35,  36,  37,  38,  39,  40],\n",
       "       [ 71,  72,  73,  74,  75,  76,  77,  78,  79,  80],\n",
       "       [ 91,  92,  93,  94,  95,  96,  97,  98,  99, 100]])"
      ]
     },
     "execution_count": 43,
     "metadata": {},
     "output_type": "execute_result"
    }
   ],
   "source": [
    "narr[[True,False,False,True,False,False,False,True,False,True]]"
   ]
  },
  {
   "cell_type": "code",
   "execution_count": 49,
   "id": "d937b389-45a9-4f99-8793-d1b3518f1db2",
   "metadata": {},
   "outputs": [
    {
     "data": {
      "text/plain": [
       "array([19, 11, 20, 17, 12, 16, 15, 13, 18, 14])"
      ]
     },
     "execution_count": 49,
     "metadata": {},
     "output_type": "execute_result"
    }
   ],
   "source": [
    "n1[n1 > 10]"
   ]
  },
  {
   "cell_type": "code",
   "execution_count": 52,
   "id": "d6000504-d2c5-464b-b85a-0617a4193afe",
   "metadata": {},
   "outputs": [
    {
     "data": {
      "text/plain": [
       "array([ 36,  37,  38,  39,  40,  41,  42,  43,  44,  45,  46,  47,  48,\n",
       "        49,  50,  51,  52,  53,  54,  55,  56,  57,  58,  59,  60,  61,\n",
       "        62,  63,  64,  65,  66,  67,  68,  69,  70,  71,  72,  73,  74,\n",
       "        75,  76,  77,  78,  79,  80,  81,  82,  83,  84,  85,  86,  87,\n",
       "        88,  89,  90,  91,  92,  93,  94,  95,  96,  97,  98,  99, 100])"
      ]
     },
     "execution_count": 52,
     "metadata": {},
     "output_type": "execute_result"
    }
   ],
   "source": [
    "narr[narr > 35]"
   ]
  },
  {
   "cell_type": "code",
   "execution_count": 61,
   "id": "8ca116c7-3e6c-4a30-af0f-82d5984bcdf5",
   "metadata": {},
   "outputs": [],
   "source": [
    "n2 = np.array([[[1,2],[3,4],[5,6]],[[10,20],[30,40],[50,60]]])"
   ]
  },
  {
   "cell_type": "code",
   "execution_count": 58,
   "id": "6e9f2cda-8a71-4076-9e69-cd5ec9aa2169",
   "metadata": {},
   "outputs": [
    {
     "data": {
      "text/plain": [
       "[[[1, 2], [3, 4], [5, 6]], [[10, 20], [30, 40], [50, 60]]]"
      ]
     },
     "execution_count": 58,
     "metadata": {},
     "output_type": "execute_result"
    }
   ],
   "source": [
    "n2"
   ]
  },
  {
   "cell_type": "code",
   "execution_count": 64,
   "id": "64cd1a77-c4cd-4ec9-ac98-78390e245b8e",
   "metadata": {},
   "outputs": [
    {
     "data": {
      "text/plain": [
       "array([[  3,   7,  11],\n",
       "       [ 30,  70, 110]])"
      ]
     },
     "execution_count": 64,
     "metadata": {},
     "output_type": "execute_result"
    }
   ],
   "source": [
    "n2.sum(axis = 2)"
   ]
  },
  {
   "cell_type": "code",
   "execution_count": 65,
   "id": "97531d35-8ba9-44f0-a3fa-dc75f87ebb24",
   "metadata": {},
   "outputs": [
    {
     "data": {
      "text/plain": [
       "array([[1, 2, 3],\n",
       "       [4, 5, 6],\n",
       "       [7, 8, 9]])"
      ]
     },
     "execution_count": 65,
     "metadata": {},
     "output_type": "execute_result"
    }
   ],
   "source": [
    "n1"
   ]
  },
  {
   "cell_type": "code",
   "execution_count": 66,
   "id": "866cee58-50d7-40de-a067-f089a2f674b0",
   "metadata": {},
   "outputs": [
    {
     "data": {
      "text/plain": [
       "array([12, 15, 18])"
      ]
     },
     "execution_count": 66,
     "metadata": {},
     "output_type": "execute_result"
    }
   ],
   "source": [
    "n1.sum(axis = 0)"
   ]
  },
  {
   "cell_type": "code",
   "execution_count": 67,
   "id": "077c8dc4-055c-4e9c-9d14-b3769a521575",
   "metadata": {},
   "outputs": [
    {
     "data": {
      "text/plain": [
       "array([ 6, 15, 24])"
      ]
     },
     "execution_count": 67,
     "metadata": {},
     "output_type": "execute_result"
    }
   ],
   "source": [
    "n1.sum(axis = 1)"
   ]
  },
  {
   "cell_type": "code",
   "execution_count": 69,
   "id": "b64c90bb-b3e2-49c9-b792-753d2fed299f",
   "metadata": {},
   "outputs": [
    {
     "data": {
      "text/plain": [
       "array([7, 8, 9])"
      ]
     },
     "execution_count": 69,
     "metadata": {},
     "output_type": "execute_result"
    }
   ],
   "source": [
    "n1.max(axis = 0)"
   ]
  },
  {
   "cell_type": "code",
   "execution_count": 70,
   "id": "20c90a6f-bea3-4493-86b3-5132015563e9",
   "metadata": {},
   "outputs": [
    {
     "data": {
      "text/plain": [
       "array([1, 4, 7])"
      ]
     },
     "execution_count": 70,
     "metadata": {},
     "output_type": "execute_result"
    }
   ],
   "source": [
    "n1.min(axis = 1)"
   ]
  },
  {
   "cell_type": "code",
   "execution_count": null,
   "id": "c484642d-a11d-4b04-bf5f-7b7e6267fd8b",
   "metadata": {},
   "outputs": [],
   "source": []
  },
  {
   "cell_type": "code",
   "execution_count": 78,
   "id": "245a8d3d-30d2-491d-8745-377d0ac1487e",
   "metadata": {},
   "outputs": [],
   "source": [
    "nb = np.array([True,True,True])"
   ]
  },
  {
   "cell_type": "code",
   "execution_count": 79,
   "id": "26470d4a-f9b1-4a14-8c07-494b9e5da9e5",
   "metadata": {},
   "outputs": [
    {
     "data": {
      "text/plain": [
       "True"
      ]
     },
     "execution_count": 79,
     "metadata": {},
     "output_type": "execute_result"
    }
   ],
   "source": [
    "np.all(nb)"
   ]
  },
  {
   "cell_type": "code",
   "execution_count": null,
   "id": "afccc866-ba9b-42da-b7d1-1707af50cdf3",
   "metadata": {},
   "outputs": [],
   "source": []
  },
  {
   "cell_type": "code",
   "execution_count": 83,
   "id": "a2f7945c-af6d-4fb1-9306-43c70d1edef7",
   "metadata": {},
   "outputs": [
    {
     "data": {
      "text/plain": [
       "array([[1, 2, 3],\n",
       "       [4, 5, 6],\n",
       "       [7, 8, 9]])"
      ]
     },
     "execution_count": 83,
     "metadata": {},
     "output_type": "execute_result"
    }
   ],
   "source": [
    "n1"
   ]
  },
  {
   "cell_type": "code",
   "execution_count": 82,
   "id": "878c60e0-3dac-4596-8396-cbd78a8b6839",
   "metadata": {},
   "outputs": [
    {
     "name": "stdout",
     "output_type": "stream",
     "text": [
      "1\n",
      "2\n",
      "3\n",
      "4\n",
      "5\n",
      "6\n",
      "7\n",
      "8\n",
      "9\n"
     ]
    }
   ],
   "source": [
    "for t in np.nditer(n1):\n",
    "    print(t)"
   ]
  },
  {
   "cell_type": "code",
   "execution_count": 84,
   "id": "f579d783-e603-49f2-b985-efab1846f054",
   "metadata": {},
   "outputs": [
    {
     "name": "stdout",
     "output_type": "stream",
     "text": [
      "((0, 0), 1)\n",
      "((0, 1), 2)\n",
      "((0, 2), 3)\n",
      "((1, 0), 4)\n",
      "((1, 1), 5)\n",
      "((1, 2), 6)\n",
      "((2, 0), 7)\n",
      "((2, 1), 8)\n",
      "((2, 2), 9)\n"
     ]
    }
   ],
   "source": [
    "for t in np.ndenumerate(n1):\n",
    "    print(t)"
   ]
  },
  {
   "cell_type": "code",
   "execution_count": 85,
   "id": "33250a2c-3929-4580-ba07-53d89d670d35",
   "metadata": {},
   "outputs": [],
   "source": [
    "n1 = np.array([1,2,3])\n",
    "n2 = np.array([10,20,30])"
   ]
  },
  {
   "cell_type": "code",
   "execution_count": 86,
   "id": "6f5c2142-32fb-4b24-8478-d8b2b53d9667",
   "metadata": {},
   "outputs": [
    {
     "data": {
      "text/plain": [
       "array([[ 1,  2,  3],\n",
       "       [10, 20, 30]])"
      ]
     },
     "execution_count": 86,
     "metadata": {},
     "output_type": "execute_result"
    }
   ],
   "source": [
    "np.vstack((n1,n2))"
   ]
  },
  {
   "cell_type": "code",
   "execution_count": 87,
   "id": "b604b539-a42a-4f6e-b20f-73c8c9adb911",
   "metadata": {},
   "outputs": [
    {
     "data": {
      "text/plain": [
       "array([ 1,  2,  3, 10, 20, 30])"
      ]
     },
     "execution_count": 87,
     "metadata": {},
     "output_type": "execute_result"
    }
   ],
   "source": [
    "np.hstack((n1,n2))"
   ]
  },
  {
   "cell_type": "code",
   "execution_count": 90,
   "id": "50f818b0-44b6-4f33-be25-dcfe7b298f93",
   "metadata": {},
   "outputs": [
    {
     "data": {
      "text/plain": [
       "array([ 1,  2,  3, 10, 20, 30])"
      ]
     },
     "execution_count": 90,
     "metadata": {},
     "output_type": "execute_result"
    }
   ],
   "source": [
    "np.concatenate((n1,n2),axis = 0)"
   ]
  },
  {
   "cell_type": "code",
   "execution_count": 92,
   "id": "1e40c989-cc58-467f-b7ce-d585cfa25afa",
   "metadata": {},
   "outputs": [
    {
     "data": {
      "text/plain": [
       "array([[ 1, 10],\n",
       "       [ 2, 20],\n",
       "       [ 3, 30]])"
      ]
     },
     "execution_count": 92,
     "metadata": {},
     "output_type": "execute_result"
    }
   ],
   "source": [
    "np.stack((n1,n2),axis=1)"
   ]
  },
  {
   "cell_type": "code",
   "execution_count": 93,
   "id": "17c38488-39c5-46b8-855b-16cde3e6fd67",
   "metadata": {},
   "outputs": [
    {
     "data": {
      "text/plain": [
       "array([1, 2, 3])"
      ]
     },
     "execution_count": 93,
     "metadata": {},
     "output_type": "execute_result"
    }
   ],
   "source": [
    "n1"
   ]
  },
  {
   "cell_type": "code",
   "execution_count": 99,
   "id": "7b0badef-da8f-4920-9b66-438a68538839",
   "metadata": {},
   "outputs": [],
   "source": [
    "l = np.hsplit(n1,3)"
   ]
  },
  {
   "cell_type": "code",
   "execution_count": 101,
   "id": "4b73a7c6-74c5-44c9-9e23-6142c63ce406",
   "metadata": {},
   "outputs": [],
   "source": [
    "l[0][0] = 10"
   ]
  },
  {
   "cell_type": "code",
   "execution_count": 102,
   "id": "21fed3b1-05c0-4256-adf6-a8801b915406",
   "metadata": {},
   "outputs": [
    {
     "data": {
      "text/plain": [
       "[array([10]), array([2]), array([3])]"
      ]
     },
     "execution_count": 102,
     "metadata": {},
     "output_type": "execute_result"
    }
   ],
   "source": [
    "l"
   ]
  },
  {
   "cell_type": "code",
   "execution_count": 103,
   "id": "4ac8122d-c024-4a1f-a176-86cdfe05e23e",
   "metadata": {},
   "outputs": [
    {
     "data": {
      "text/plain": [
       "array([10,  2,  3])"
      ]
     },
     "execution_count": 103,
     "metadata": {},
     "output_type": "execute_result"
    }
   ],
   "source": [
    "n1"
   ]
  },
  {
   "cell_type": "code",
   "execution_count": null,
   "id": "11038cb9-16e8-454b-9df9-da4220888d92",
   "metadata": {},
   "outputs": [],
   "source": []
  },
  {
   "cell_type": "code",
   "execution_count": 104,
   "id": "8527ed95-c650-434e-b663-a234d53dd43c",
   "metadata": {},
   "outputs": [],
   "source": [
    "n1 = np.arange(1,13).reshape(4,3)"
   ]
  },
  {
   "cell_type": "code",
   "execution_count": 107,
   "id": "c4eceb31-6826-43c3-ba73-58206adebe5d",
   "metadata": {},
   "outputs": [
    {
     "data": {
      "text/plain": [
       "array([[ 1,  2,  3],\n",
       "       [ 4,  5,  6],\n",
       "       [ 7,  8,  9],\n",
       "       [10, 11, 12]])"
      ]
     },
     "execution_count": 107,
     "metadata": {},
     "output_type": "execute_result"
    }
   ],
   "source": [
    "n1"
   ]
  },
  {
   "cell_type": "code",
   "execution_count": 109,
   "id": "02c9fc43-0630-4280-bb19-9b2eac01ab44",
   "metadata": {},
   "outputs": [
    {
     "data": {
      "text/plain": [
       "array([[11, 22, 33],\n",
       "       [14, 25, 36],\n",
       "       [17, 28, 39],\n",
       "       [20, 31, 42]])"
      ]
     },
     "execution_count": 109,
     "metadata": {},
     "output_type": "execute_result"
    }
   ],
   "source": [
    "np.array([10,20,30]) + n1"
   ]
  },
  {
   "cell_type": "code",
   "execution_count": 110,
   "id": "f1a885df-5ba3-4416-a833-af3e207920e3",
   "metadata": {},
   "outputs": [
    {
     "data": {
      "text/plain": [
       "array([[10],\n",
       "       [20],\n",
       "       [30],\n",
       "       [40]])"
      ]
     },
     "execution_count": 110,
     "metadata": {},
     "output_type": "execute_result"
    }
   ],
   "source": [
    "np.array([[10],[20],[30],[40]])"
   ]
  },
  {
   "cell_type": "code",
   "execution_count": 111,
   "id": "87bce5b8-f417-481f-b86c-5537b05041cb",
   "metadata": {},
   "outputs": [
    {
     "data": {
      "text/plain": [
       "array([[11, 12, 13],\n",
       "       [24, 25, 26],\n",
       "       [37, 38, 39],\n",
       "       [50, 51, 52]])"
      ]
     },
     "execution_count": 111,
     "metadata": {},
     "output_type": "execute_result"
    }
   ],
   "source": [
    "np.array([[10],[20],[30],[40]]) + n1"
   ]
  },
  {
   "cell_type": "code",
   "execution_count": 112,
   "id": "e0883bc5-07f4-4aa1-84b4-9834bb4009fd",
   "metadata": {},
   "outputs": [
    {
     "data": {
      "text/plain": [
       "array([[20, 30, 40],\n",
       "       [30, 40, 50],\n",
       "       [40, 50, 60],\n",
       "       [50, 60, 70]])"
      ]
     },
     "execution_count": 112,
     "metadata": {},
     "output_type": "execute_result"
    }
   ],
   "source": [
    "np.array([10,20,30])+np.array([[10],[20],[30],[40]])"
   ]
  },
  {
   "cell_type": "code",
   "execution_count": 114,
   "id": "5f83602b-edc0-4b88-95e2-a06e825c3dd3",
   "metadata": {},
   "outputs": [],
   "source": [
    "pop = np.loadtxt('populations.txt')"
   ]
  },
  {
   "cell_type": "code",
   "execution_count": 116,
   "id": "6dd19965-4f37-49f6-b145-0ca5a66e91b7",
   "metadata": {},
   "outputs": [
    {
     "data": {
      "text/plain": [
       "array([ 1920., 77400., 59400., 48300.])"
      ]
     },
     "execution_count": 116,
     "metadata": {},
     "output_type": "execute_result"
    }
   ],
   "source": [
    "pop.max(axis = 0)"
   ]
  },
  {
   "cell_type": "code",
   "execution_count": 125,
   "id": "478d27f0-e542-4fdf-afb9-0197f69cacc1",
   "metadata": {},
   "outputs": [
    {
     "data": {
      "text/plain": [
       "array([1903., 1904., 1900.])"
      ]
     },
     "execution_count": 125,
     "metadata": {},
     "output_type": "execute_result"
    }
   ],
   "source": [
    "pop[:,0][pop.argmax(axis = 0)][1:]"
   ]
  },
  {
   "cell_type": "code",
   "execution_count": 128,
   "id": "3d1d7e06-325a-45be-925e-83faf99d821d",
   "metadata": {},
   "outputs": [],
   "source": [
    "n1 = np.arange(1,13).reshape(3,4)"
   ]
  },
  {
   "cell_type": "code",
   "execution_count": 129,
   "id": "ee8ac6d5-b249-4b4b-8550-619829adf593",
   "metadata": {},
   "outputs": [
    {
     "data": {
      "text/plain": [
       "array([[ 1,  2,  3,  4],\n",
       "       [ 5,  6,  7,  8],\n",
       "       [ 9, 10, 11, 12]])"
      ]
     },
     "execution_count": 129,
     "metadata": {},
     "output_type": "execute_result"
    }
   ],
   "source": [
    "n1"
   ]
  },
  {
   "cell_type": "code",
   "execution_count": 130,
   "id": "acd85ecf-85c1-4161-a185-2d93cd4f3fe8",
   "metadata": {},
   "outputs": [],
   "source": [
    "n2 = np.array([[1,2,3],[10,20,30]])"
   ]
  },
  {
   "cell_type": "code",
   "execution_count": 131,
   "id": "8466e3ef-b703-4d05-9f7b-c13817dd954e",
   "metadata": {},
   "outputs": [
    {
     "data": {
      "text/plain": [
       "array([[ 1,  2,  3],\n",
       "       [10, 20, 30]])"
      ]
     },
     "execution_count": 131,
     "metadata": {},
     "output_type": "execute_result"
    }
   ],
   "source": [
    "n2"
   ]
  },
  {
   "cell_type": "code",
   "execution_count": 132,
   "id": "fbe723f4-0fc4-4d4e-b172-021b2644b098",
   "metadata": {},
   "outputs": [
    {
     "data": {
      "text/plain": [
       "array([[ 38,  44,  50,  56],\n",
       "       [380, 440, 500, 560]])"
      ]
     },
     "execution_count": 132,
     "metadata": {},
     "output_type": "execute_result"
    }
   ],
   "source": [
    "n2.dot(n1)"
   ]
  },
  {
   "cell_type": "code",
   "execution_count": 133,
   "id": "7c9b60b6-1d4d-49b3-a081-4b4f6bd065c0",
   "metadata": {},
   "outputs": [
    {
     "data": {
      "text/plain": [
       "array([[ 38,  44,  50,  56],\n",
       "       [380, 440, 500, 560]])"
      ]
     },
     "execution_count": 133,
     "metadata": {},
     "output_type": "execute_result"
    }
   ],
   "source": [
    "n2@n1"
   ]
  },
  {
   "cell_type": "code",
   "execution_count": null,
   "id": "52edc3bb-8112-4385-a33c-766728258f4a",
   "metadata": {},
   "outputs": [],
   "source": []
  }
 ],
 "metadata": {
  "kernelspec": {
   "display_name": "Python 3 (ipykernel)",
   "language": "python",
   "name": "python3"
  },
  "language_info": {
   "codemirror_mode": {
    "name": "ipython",
    "version": 3
   },
   "file_extension": ".py",
   "mimetype": "text/x-python",
   "name": "python",
   "nbconvert_exporter": "python",
   "pygments_lexer": "ipython3",
   "version": "3.12.8"
  }
 },
 "nbformat": 4,
 "nbformat_minor": 5
}
