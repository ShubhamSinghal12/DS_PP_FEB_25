{
 "cells": [
  {
   "cell_type": "markdown",
   "metadata": {},
   "source": [
    "#### Simple Gen AI APP Using Langchain"
   ]
  },
  {
   "cell_type": "code",
   "execution_count": 1,
   "metadata": {},
   "outputs": [],
   "source": [
    "import os\n",
    "from dotenv import load_dotenv\n",
    "load_dotenv()\n",
    "\n",
    "## Langsmith Tracking\n",
    "os.environ[\"LANGCHAIN_API_KEY\"]=os.getenv(\"LANGCHAIN_API_KEY\")\n",
    "os.environ[\"LANGCHAIN_TRACING_V2\"]=\"true\"\n",
    "os.environ[\"LANGCHAIN_PROJECT\"]=os.getenv(\"LANGCHAIN_PROJECT\")"
   ]
  },
  {
   "cell_type": "code",
   "execution_count": 2,
   "metadata": {},
   "outputs": [
    {
     "name": "stderr",
     "output_type": "stream",
     "text": [
      "USER_AGENT environment variable not set, consider setting it to identify your requests.\n"
     ]
    }
   ],
   "source": [
    "## Data Ingestion--From the website we need to scrape the data\n",
    "from langchain_community.document_loaders import WebBaseLoader"
   ]
  },
  {
   "cell_type": "code",
   "execution_count": 3,
   "metadata": {},
   "outputs": [
    {
     "data": {
      "text/plain": [
       "<langchain_community.document_loaders.web_base.WebBaseLoader at 0x2d99862acb0>"
      ]
     },
     "execution_count": 3,
     "metadata": {},
     "output_type": "execute_result"
    }
   ],
   "source": [
    "loader=WebBaseLoader(\"https://docs.smith.langchain.com/pricing/faq\")\n",
    "loader"
   ]
  },
  {
   "cell_type": "code",
   "execution_count": 4,
   "metadata": {
    "scrolled": true
   },
   "outputs": [
    {
     "data": {
      "text/plain": [
       "[Document(metadata={'source': 'https://docs.smith.langchain.com/pricing/faq', 'title': 'Frequently Asked Questions | 🦜️🛠️ LangSmith', 'description': 'Questions and Answers', 'language': 'en'}, page_content=\"\\n\\n\\n\\n\\nFrequently Asked Questions | 🦜️🛠️ LangSmith\\n\\n\\n\\n\\n\\n\\n\\n\\nSkip to main contentOur Building Ambient Agents with LangGraph course is now available on LangChain Academy!API ReferenceRESTPythonJS/TSSearchRegionUSEUGo to AppGet StartedObservabilityEvaluationPrompt EngineeringDeployment (LangGraph Platform)AdministrationSelf-hostingPricingPlansFAQReferenceCloud architecture and scalabilityAuthz and AuthnAuthentication methodsdata_formatsEvaluationDataset transformationsRegions FAQsdk_referencePricingFAQOn this pageFrequently Asked Questions\\nQuestions and Answers\\u200b\\nI’ve been using LangSmith since before pricing took effect for new users. When will pricing go into effect for my account?\\u200b\\nIf you’ve been using LangSmith already, your usage will be billable starting in July 2024. At that point if you want to add seats or use more than the monthly allotment of free traces, you will need to add a credit card to LangSmith or contact sales. If you are interested in the Enterprise plan with higher rate limits and special deployment options, you can learn more or make a purchase by reaching out to sales@langchain.dev.\\nWhich plan is right for me?\\u200b\\nIf you’re an individual developer, the Developer plan is a great choice for small projects.\\nFor teams that want to collaborate in LangSmith, check out the Plus plan. If you are an early-stage startup building an AI application, you may be eligible for our Startup plan with discounted prices and a generous free monthly trace allotment. Please reach out via our Startup Contact Form for more details.\\nIf you need more advanced administration, authentication and authorization, deployment options, support, or annual invoicing, the Enterprise plan is right for you. Please reach out via our Sales Contact Form for more details.\\nWhat is a seat?\\u200b\\nA seat is a distinct user inside your organization. We consider the total number of users (including invited users) to determine the number of seats to bill.\\nWhat is a trace?\\u200b\\nA trace is one complete invocation of your application chain or agent, evaluator run, or playground run. Here is an example of a single trace.\\nWhat is an ingested event?\\u200b\\nAn ingested event is any distinct, trace-related data sent to LangSmith. This includes:\\n\\nInputs, outputs and metadata sent at the start of a run step within a trace\\nInputs, outputs and metadata sent at the end of a run step within a trace\\nFeedback on run steps or traces\\n\\nI’ve hit my rate or usage limits. What can I do?\\u200b\\nWhen you first sign up for a LangSmith account, you get a Personal organization that is limited to 5000 monthly traces. To continue sending traces after reaching this limit, upgrade to the Developer or Plus plans by adding a credit card. Head to Plans and Billing to upgrade.\\nSimialrly, if you’ve hit the rate limits on your currnt plan, you can upgrade to a higher plan to get higher limits, or reach out to support@langchain.dev with questions.\\nI have a developer account, can I upgrade my account to the Plus or Enterprise plan?\\u200b\\nYes, Developer plan users can easily upgrade to the Plus plan on the Plans and Billing page. For the Enterprise plan, please contact our sales team to discuss your needs.\\nHow does billing work?\\u200b\\nSeats\\n\\nSeats are billed monthly on the first of the month. Additional seats purchased\\nmid-month are pro-rated and billed within one day of the purchase. Seats removed\\nmid-month will not be credited.\\n\\nTraces\\n\\nAs long as you have a card on file in your account, we’ll service your traces\\nand bill you on the first of the month for traces that you submitted in the\\nprevious month. You will be able to set usage limits if you so choose to limit\\nthe maximum charges you could incur in any given month.\\nCan I limit how much I spend on tracing?\\u200b\\nYou can set limits on the number of traces that can be sent to LangSmith per month on\\nthe Usage configuration page.\\nnoteWhile we do show you the dollar value of your usage limit for convenience, this limit evaluated\\nin terms of number of traces instead of dollar amount. For example, if you are approved for our\\nstartup plan tier where you are given a generous allotment of free traces, your usage limit will\\nnot automatically change.You are not currently able to set a spend limit in the product.\\nHow can my track my usage so far this month?\\u200b\\nUnder the Settings section for your Organization you will see subsection for Usage. There, you will able to see a graph of the daily number of billable LangSmith traces from the last 30, 60, or 90 days. Note that this data is delayed by 1-2 hours and so may trail your actual number of runs slightly for the current day.\\nI have a question about my bill...\\u200b\\nCustomers on the Developer and Plus plan tiers should email support@langchain.dev. Customers on the Enterprise plan should contact their sales representative directly.\\nEnterprise plan customers are billed annually by invoice.\\nWhat can I expect from Support?\\u200b\\nOn the Developer plan, community-based support is available on LangChain community Slack.\\nOn the Plus plan, you will also receive preferential, email support at support@langchain.dev for LangSmith-related questions only and we'll do our best to respond within the next business day.\\nOn the Enterprise plan, you’ll get white-glove support with a Slack channel, a dedicated customer success manager, and monthly check-ins to go over LangSmith and LangChain questions. We can help with anything from debugging, agent and RAG techniques, evaluation approaches, and cognitive architecture reviews. If you purchase the add-on to run LangSmith in your environment, we’ll also support deployments and new releases with our infra engineering team on-call.\\nWhere is my data stored?\\u200b\\nYou may choose to sign up in either the US or EU region. See the cloud architecture reference for more details. If you’re on the Enterprise plan, we can deliver LangSmith to run on your kubernetes cluster in AWS, GCP, or Azure so that data never leaves your environment.\\nWhich security frameworks is LangSmith compliant with?\\u200b\\nWe are SOC 2 Type II, GDPR, and HIPAA compliant.\\nYou can request more information about our security policies and posture at trust.langchain.com. Please note we only enter into BAAs with customers on our Enterprise plan.\\nWill you train on the data that I send LangSmith?\\u200b\\nWe will not train on your data, and you own all rights to your data. See LangSmith Terms of Service for more information.Was this page helpful?You can leave detailed feedback on GitHub.PreviousPlansNextReferenceQuestions and AnswersI’ve been using LangSmith since before pricing took effect for new users. When will pricing go into effect for my account?Which plan is right for me?What is a seat?What is a trace?What is an ingested event?I’ve hit my rate or usage limits. What can I do?I have a developer account, can I upgrade my account to the Plus or Enterprise plan?How does billing work?Can I limit how much I spend on tracing?How can my track my usage so far this month?I have a question about my bill...What can I expect from Support?Where is my data stored?Which security frameworks is LangSmith compliant with?Will you train on the data that I send LangSmith?CommunityLangChain ForumTwitterGitHubDocs CodeLangSmith SDKPythonJS/TSMoreHomepageBlogLangChain Python DocsLangChain JS/TS DocsCopyright © 2025 LangChain, Inc.\\n\\n\")]"
      ]
     },
     "execution_count": 4,
     "metadata": {},
     "output_type": "execute_result"
    }
   ],
   "source": [
    "docs=loader.load()\n",
    "docs"
   ]
  },
  {
   "cell_type": "code",
   "execution_count": 16,
   "metadata": {},
   "outputs": [],
   "source": [
    "### Load Data--> Docs-->Divide our Docuemnts into chunks dcouments-->text-->vectors-->Vector Embeddings--->Vector Store DB\n",
    "from langchain_text_splitters import RecursiveCharacterTextSplitter\n",
    "\n",
    "text_splitter=RecursiveCharacterTextSplitter(chunk_size=500,chunk_overlap=50)\n",
    "documents = text_splitter.split_documents(docs)"
   ]
  },
  {
   "cell_type": "code",
   "execution_count": 23,
   "metadata": {},
   "outputs": [
    {
     "data": {
      "text/plain": [
       "langchain_core.documents.base.Document"
      ]
     },
     "execution_count": 23,
     "metadata": {},
     "output_type": "execute_result"
    }
   ],
   "source": [
    "type(documents[0])"
   ]
  },
  {
   "cell_type": "code",
   "execution_count": 11,
   "metadata": {},
   "outputs": [],
   "source": [
    "from langchain_ollama import OllamaEmbeddings\n",
    "embeddings = OllamaEmbeddings(model = 'mxbai-embed-large')"
   ]
  },
  {
   "cell_type": "code",
   "execution_count": 12,
   "metadata": {},
   "outputs": [],
   "source": [
    "from langchain_community.vectorstores import FAISS\n",
    "vectorstoredb=FAISS.from_documents(documents,embeddings)"
   ]
  },
  {
   "cell_type": "code",
   "execution_count": 13,
   "metadata": {},
   "outputs": [
    {
     "data": {
      "text/plain": [
       "<langchain_community.vectorstores.faiss.FAISS at 0x2d9f908b2e0>"
      ]
     },
     "execution_count": 13,
     "metadata": {},
     "output_type": "execute_result"
    }
   ],
   "source": [
    "vectorstoredb"
   ]
  },
  {
   "cell_type": "code",
   "execution_count": 15,
   "metadata": {},
   "outputs": [
    {
     "data": {
      "text/plain": [
       "'What is a trace?\\u200b\\nA trace is one complete invocation of your application chain or agent, evaluator run, or playground run. Here is an example of a single trace.\\nWhat is an ingested event?\\u200b\\nAn ingested event is any distinct, trace-related data sent to LangSmith. This includes:'"
      ]
     },
     "execution_count": 15,
     "metadata": {},
     "output_type": "execute_result"
    }
   ],
   "source": [
    "## Query From a vector db\n",
    "query=\"ingested event\"\n",
    "result=vectorstoredb.similarity_search(query)\n",
    "result[0].page_content"
   ]
  },
  {
   "cell_type": "code",
   "execution_count": 18,
   "metadata": {},
   "outputs": [
    {
     "name": "stdout",
     "output_type": "stream",
     "text": [
      "4\n"
     ]
    }
   ],
   "source": [
    "print(len(result))"
   ]
  },
  {
   "cell_type": "code",
   "execution_count": 25,
   "metadata": {},
   "outputs": [
    {
     "data": {
      "text/plain": [
       "\"Hi there! I'm doing well, thanks for asking. As an AI, I don't experience feelings in the same way humans do, but my systems are running smoothly and I'm ready to help. 😊 \\n\\nHow about you? How’s your day going so far?\""
      ]
     },
     "execution_count": 25,
     "metadata": {},
     "output_type": "execute_result"
    }
   ],
   "source": [
    "from langchain_ollama import OllamaLLM\n",
    "llm = OllamaLLM(model = 'gemma3:1b')\n",
    "llm.invoke('Hi How are you?')"
   ]
  },
  {
   "cell_type": "code",
   "execution_count": 22,
   "metadata": {},
   "outputs": [
    {
     "data": {
      "text/plain": [
       "RunnableBinding(bound=RunnableBinding(bound=RunnableAssign(mapper={\n",
       "  context: RunnableLambda(format_docs)\n",
       "}), kwargs={}, config={'run_name': 'format_inputs'}, config_factories=[])\n",
       "| ChatPromptTemplate(input_variables=['context'], input_types={}, partial_variables={}, messages=[HumanMessagePromptTemplate(prompt=PromptTemplate(input_variables=['context'], input_types={}, partial_variables={}, template='\\nAnswer the following question based only on the provided context:\\n<context>\\n{context}\\n</context>\\n\\n\\n'), additional_kwargs={})])\n",
       "| OllamaLLM(model='gemma3:1b')\n",
       "| StrOutputParser(), kwargs={}, config={'run_name': 'stuff_documents_chain'}, config_factories=[])"
      ]
     },
     "execution_count": 22,
     "metadata": {},
     "output_type": "execute_result"
    }
   ],
   "source": [
    "## Retrieval Chain, Document chain\n",
    "\n",
    "from langchain.chains.combine_documents import create_stuff_documents_chain\n",
    "from langchain_core.prompts import ChatPromptTemplate\n",
    "\n",
    "prompt = ChatPromptTemplate.from_template(\n",
    "    \"\"\"\n",
    "Answer the following question based only on the provided context:\n",
    "<context>\n",
    "{context}\n",
    "</context>\n",
    "\n",
    "\n",
    "\"\"\"\n",
    ")\n",
    "\n",
    "document_chain=create_stuff_documents_chain(llm,prompt)\n",
    "document_chain"
   ]
  },
  {
   "cell_type": "code",
   "execution_count": 24,
   "metadata": {},
   "outputs": [
    {
     "data": {
      "text/plain": [
       "'To continue sending traces after reaching the 5000 monthly trace limit, you need to upgrade to the Developer or Plus plans.'"
      ]
     },
     "execution_count": 24,
     "metadata": {},
     "output_type": "execute_result"
    }
   ],
   "source": [
    "from langchain_core.documents import Document\n",
    "document_chain.invoke({\n",
    "    \"input\":\"I’ve hit my rate or usage limits. What can I do?\",\n",
    "    \"context\":[Document(page_content=\"When you first sign up for a LangSmith account, you get a Personal organization that is limited to 5000 monthly traces. To continue sending traces after reaching this limit, upgrade to the Developer or Plus plans by adding a credit card. Head to Plans and Billing to upgrade.\")]\n",
    "})"
   ]
  },
  {
   "cell_type": "markdown",
   "metadata": {},
   "source": [
    "However, we want the documents to first come from the retriever we just set up. That way, we can use the retriever to dynamically select the most relevant documents and pass those in for a given question."
   ]
  },
  {
   "cell_type": "code",
   "execution_count": 26,
   "metadata": {},
   "outputs": [
    {
     "data": {
      "text/plain": [
       "<langchain_community.vectorstores.faiss.FAISS at 0x2d9f908b2e0>"
      ]
     },
     "execution_count": 26,
     "metadata": {},
     "output_type": "execute_result"
    }
   ],
   "source": [
    "### Input--->Retriever--->vectorstoredb\n",
    "\n",
    "vectorstoredb"
   ]
  },
  {
   "cell_type": "code",
   "execution_count": 27,
   "metadata": {},
   "outputs": [],
   "source": [
    "retriever=vectorstoredb.as_retriever()\n",
    "from langchain.chains import create_retrieval_chain\n",
    "retrieval_chain=create_retrieval_chain(retriever,document_chain)\n"
   ]
  },
  {
   "cell_type": "code",
   "execution_count": 28,
   "metadata": {},
   "outputs": [
    {
     "data": {
      "text/plain": [
       "RunnableBinding(bound=RunnableAssign(mapper={\n",
       "  context: RunnableBinding(bound=RunnableLambda(lambda x: x['input'])\n",
       "           | VectorStoreRetriever(tags=['FAISS', 'OllamaEmbeddings'], vectorstore=<langchain_community.vectorstores.faiss.FAISS object at 0x000002D9F908B2E0>, search_kwargs={}), kwargs={}, config={'run_name': 'retrieve_documents'}, config_factories=[])\n",
       "})\n",
       "| RunnableAssign(mapper={\n",
       "    answer: RunnableBinding(bound=RunnableBinding(bound=RunnableAssign(mapper={\n",
       "              context: RunnableLambda(format_docs)\n",
       "            }), kwargs={}, config={'run_name': 'format_inputs'}, config_factories=[])\n",
       "            | ChatPromptTemplate(input_variables=['context'], input_types={}, partial_variables={}, messages=[HumanMessagePromptTemplate(prompt=PromptTemplate(input_variables=['context'], input_types={}, partial_variables={}, template='\\nAnswer the following question based only on the provided context:\\n<context>\\n{context}\\n</context>\\n\\n\\n'), additional_kwargs={})])\n",
       "            | OllamaLLM(model='gemma3:1b')\n",
       "            | StrOutputParser(), kwargs={}, config={'run_name': 'stuff_documents_chain'}, config_factories=[])\n",
       "  }), kwargs={}, config={'run_name': 'retrieval_chain'}, config_factories=[])"
      ]
     },
     "execution_count": 28,
     "metadata": {},
     "output_type": "execute_result"
    }
   ],
   "source": [
    "retrieval_chain"
   ]
  },
  {
   "cell_type": "code",
   "execution_count": 29,
   "metadata": {
    "scrolled": true
   },
   "outputs": [
    {
     "data": {
      "text/plain": [
       "{'input': 'I’ve hit my rate or usage limits. What can I do?',\n",
       " 'context': [Document(id='0c974f4c-f8c3-4d40-87a0-ccb73d9c91eb', metadata={'source': 'https://docs.smith.langchain.com/pricing/faq', 'title': 'Frequently Asked Questions | 🦜️🛠️ LangSmith', 'description': 'Questions and Answers', 'language': 'en'}, page_content='I’ve hit my rate or usage limits. What can I do?\\u200b\\nWhen you first sign up for a LangSmith account, you get a Personal organization that is limited to 5000 monthly traces. To continue sending traces after reaching this limit, upgrade to the Developer or Plus plans by adding a credit card. Head to Plans and Billing to upgrade.\\nSimialrly, if you’ve hit the rate limits on your currnt plan, you can upgrade to a higher plan to get higher limits, or reach out to support@langchain.dev with questions.'),\n",
       "  Document(id='671b4f86-6e46-4596-8ca2-2407509060d1', metadata={'source': 'https://docs.smith.langchain.com/pricing/faq', 'title': 'Frequently Asked Questions | 🦜️🛠️ LangSmith', 'description': 'Questions and Answers', 'language': 'en'}, page_content='my rate or usage limits. What can I do?I have a developer account, can I upgrade my account to the Plus or Enterprise plan?How does billing work?Can I limit how much I spend on tracing?How can my track my usage so far this month?I have a question about my bill...What can I expect from Support?Where is my data stored?Which security frameworks is LangSmith compliant with?Will you train on the data that I send LangSmith?CommunityLangChain ForumTwitterGitHubDocs CodeLangSmith'),\n",
       "  Document(id='49fe0931-fe49-4e20-bbb5-49953a9b8cb8', metadata={'source': 'https://docs.smith.langchain.com/pricing/faq', 'title': 'Frequently Asked Questions | 🦜️🛠️ LangSmith', 'description': 'Questions and Answers', 'language': 'en'}, page_content='the Usage configuration page.\\nnoteWhile we do show you the dollar value of your usage limit for convenience, this limit evaluated\\nin terms of number of traces instead of dollar amount. For example, if you are approved for our\\nstartup plan tier where you are given a generous allotment of free traces, your usage limit will\\nnot automatically change.You are not currently able to set a spend limit in the product.\\nHow can my track my usage so far this month?\\u200b'),\n",
       "  Document(id='70b4dc8d-6067-43e3-86b6-33dbefbf50be', metadata={'source': 'https://docs.smith.langchain.com/pricing/faq', 'title': 'Frequently Asked Questions | 🦜️🛠️ LangSmith', 'description': 'Questions and Answers', 'language': 'en'}, page_content='As long as you have a card on file in your account, we’ll service your traces\\nand bill you on the first of the month for traces that you submitted in the\\nprevious month. You will be able to set usage limits if you so choose to limit\\nthe maximum charges you could incur in any given month.\\nCan I limit how much I spend on tracing?\\u200b\\nYou can set limits on the number of traces that can be sent to LangSmith per month on\\nthe Usage configuration page.')],\n",
       " 'answer': 'Here’s a breakdown of the information from the context regarding your usage limits:\\n\\n*   **Developer Account:** You can upgrade to the Plus or Enterprise plan.\\n*   **Billing:** You can set usage limits if you choose to limit the maximum charges you could incur in any given month.\\n*   **Tracking Usage:** You’ll be billed on the first of the month for traces submitted in the previous month.\\n*   **Spending Limits:** Yes, you can set limits on how much you spend on tracing.\\n*   **Data Storage:** Your data is stored.\\n*   **Security Frameworks:** LangSmith complies with various security frameworks.\\n*   **Training:** Yes, LangSmith can train on the data you send.\\n*   **Community Forum:** Available on the CommunityLangChain Forum.\\n*   **Twitter:** Available on Twitter.\\n*   **GitHub:** Available on GitHub.\\n*   **CodeLangSmith:** Available on CodeLangSmith.'}"
      ]
     },
     "execution_count": 29,
     "metadata": {},
     "output_type": "execute_result"
    }
   ],
   "source": [
    "## Get the response form the LLM\n",
    "response=retrieval_chain.invoke({\"input\":\"I’ve hit my rate or usage limits. What can I do?\"})\n",
    "response"
   ]
  },
  {
   "cell_type": "code",
   "execution_count": 32,
   "metadata": {},
   "outputs": [
    {
     "name": "stdout",
     "output_type": "stream",
     "text": [
      "Here’s a breakdown of the information from the context regarding your usage limits:\n",
      "\n",
      "*   **Developer Account:** You can upgrade to the Plus or Enterprise plan.\n",
      "*   **Billing:** You can set usage limits if you choose to limit the maximum charges you could incur in any given month.\n",
      "*   **Tracking Usage:** You’ll be billed on the first of the month for traces submitted in the previous month.\n",
      "*   **Spending Limits:** Yes, you can set limits on how much you spend on tracing.\n",
      "*   **Data Storage:** Your data is stored.\n",
      "*   **Security Frameworks:** LangSmith complies with various security frameworks.\n",
      "*   **Training:** Yes, LangSmith can train on the data you send.\n",
      "*   **Community Forum:** Available on the CommunityLangChain Forum.\n",
      "*   **Twitter:** Available on Twitter.\n",
      "*   **GitHub:** Available on GitHub.\n",
      "*   **CodeLangSmith:** Available on CodeLangSmith.\n"
     ]
    }
   ],
   "source": [
    "print(response['answer'])"
   ]
  },
  {
   "cell_type": "code",
   "execution_count": 33,
   "metadata": {},
   "outputs": [
    {
     "data": {
      "text/plain": [
       "[Document(id='0c974f4c-f8c3-4d40-87a0-ccb73d9c91eb', metadata={'source': 'https://docs.smith.langchain.com/pricing/faq', 'title': 'Frequently Asked Questions | 🦜️🛠️ LangSmith', 'description': 'Questions and Answers', 'language': 'en'}, page_content='I’ve hit my rate or usage limits. What can I do?\\u200b\\nWhen you first sign up for a LangSmith account, you get a Personal organization that is limited to 5000 monthly traces. To continue sending traces after reaching this limit, upgrade to the Developer or Plus plans by adding a credit card. Head to Plans and Billing to upgrade.\\nSimialrly, if you’ve hit the rate limits on your currnt plan, you can upgrade to a higher plan to get higher limits, or reach out to support@langchain.dev with questions.'),\n",
       " Document(id='671b4f86-6e46-4596-8ca2-2407509060d1', metadata={'source': 'https://docs.smith.langchain.com/pricing/faq', 'title': 'Frequently Asked Questions | 🦜️🛠️ LangSmith', 'description': 'Questions and Answers', 'language': 'en'}, page_content='my rate or usage limits. What can I do?I have a developer account, can I upgrade my account to the Plus or Enterprise plan?How does billing work?Can I limit how much I spend on tracing?How can my track my usage so far this month?I have a question about my bill...What can I expect from Support?Where is my data stored?Which security frameworks is LangSmith compliant with?Will you train on the data that I send LangSmith?CommunityLangChain ForumTwitterGitHubDocs CodeLangSmith'),\n",
       " Document(id='49fe0931-fe49-4e20-bbb5-49953a9b8cb8', metadata={'source': 'https://docs.smith.langchain.com/pricing/faq', 'title': 'Frequently Asked Questions | 🦜️🛠️ LangSmith', 'description': 'Questions and Answers', 'language': 'en'}, page_content='the Usage configuration page.\\nnoteWhile we do show you the dollar value of your usage limit for convenience, this limit evaluated\\nin terms of number of traces instead of dollar amount. For example, if you are approved for our\\nstartup plan tier where you are given a generous allotment of free traces, your usage limit will\\nnot automatically change.You are not currently able to set a spend limit in the product.\\nHow can my track my usage so far this month?\\u200b'),\n",
       " Document(id='70b4dc8d-6067-43e3-86b6-33dbefbf50be', metadata={'source': 'https://docs.smith.langchain.com/pricing/faq', 'title': 'Frequently Asked Questions | 🦜️🛠️ LangSmith', 'description': 'Questions and Answers', 'language': 'en'}, page_content='As long as you have a card on file in your account, we’ll service your traces\\nand bill you on the first of the month for traces that you submitted in the\\nprevious month. You will be able to set usage limits if you so choose to limit\\nthe maximum charges you could incur in any given month.\\nCan I limit how much I spend on tracing?\\u200b\\nYou can set limits on the number of traces that can be sent to LangSmith per month on\\nthe Usage configuration page.')]"
      ]
     },
     "execution_count": 33,
     "metadata": {},
     "output_type": "execute_result"
    }
   ],
   "source": [
    "response['context']"
   ]
  },
  {
   "cell_type": "code",
   "execution_count": null,
   "metadata": {},
   "outputs": [],
   "source": []
  }
 ],
 "metadata": {
  "kernelspec": {
   "display_name": "Python 3 (ipykernel)",
   "language": "python",
   "name": "python3"
  },
  "language_info": {
   "codemirror_mode": {
    "name": "ipython",
    "version": 3
   },
   "file_extension": ".py",
   "mimetype": "text/x-python",
   "name": "python",
   "nbconvert_exporter": "python",
   "pygments_lexer": "ipython3",
   "version": "3.10.18"
  }
 },
 "nbformat": 4,
 "nbformat_minor": 4
}
