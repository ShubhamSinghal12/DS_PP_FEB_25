{
 "cells": [
  {
   "cell_type": "markdown",
   "id": "3e7cd8b1-2df6-4897-9493-afbbb63d36c7",
   "metadata": {},
   "source": [
    "# Class\n",
    "- Class is a template/blueprint of the entity. It lays out all the attributes(characteristics) and behaviours(methods) the objects/instances of my class are going to have\n",
    "- Data Members and Functions\n",
    "- The init Method\n",
    "    - class constructor\n",
    "    - it is called implicitly whenever a class is called or a new object is created\n",
    "- No overloading\n",
    "- Everything in Python is an object\n",
    "    - Every data-type in python is an instance of object class.\n",
    "    - int, float, boolean, list, string, dictionary, functions\n",
    "    - isIntance()\n",
    "- Class Variables\n",
    "    - instance variables are for data unique for each instance\n",
    "    - class variables are for attributes and methods shared by all instances of the class\n",
    "    - Memory Management\n",
    "- Inheritance\n",
    "    - How\n",
    "    - super() in init()\n",
    "    - Method Overriding\n",
    "    - Memory Management\n",
    "- Dunders/Magic Methods\n",
    "    - Python provides us with special functions which are called implicitly while performing certain operations on an object. These are dunders\n",
    "    - They start and end with double underscore\n",
    "    - Commonly used for operator overloading\n",
    "    - A Few examples:\n",
    "        1. \\_\\_init__ is called when an object is created\n",
    "        2. \\_\\_len__ is called when calling len(obj)\n",
    "        3. \\_\\_str__ is called when we try to print an object\n",
    "        4. \\_\\_add__ is called when two objects are added together\n",
    "- Multiple Inheritance"
   ]
  },
  {
   "cell_type": "code",
   "execution_count": 40,
   "id": "c948f7ca-5845-48c1-aea6-1fc7912beea9",
   "metadata": {},
   "outputs": [],
   "source": [
    "class Person:\n",
    "    def __init__(self,name = 'xyz',age = 0):\n",
    "        self.name = name\n",
    "        self.age = age\n",
    "        \n",
    "    # def sayHello(self):\n",
    "    #     # print(self)\n",
    "    #     print(f\"{self.name} says Hello\")\n",
    "    def sayHello(self,oth):\n",
    "        print(f\"{self.name} says hello to {oth}\")"
   ]
  },
  {
   "cell_type": "code",
   "execution_count": null,
   "id": "f3be8a99-acbe-4c84-b0d6-84acc6a0a4a0",
   "metadata": {},
   "outputs": [],
   "source": []
  },
  {
   "cell_type": "code",
   "execution_count": 41,
   "id": "ea4df49a-b46c-4699-907c-f39113bcf031",
   "metadata": {},
   "outputs": [
    {
     "name": "stdout",
     "output_type": "stream",
     "text": [
      "Shubham 28\n"
     ]
    }
   ],
   "source": [
    "p1 = Person('Shubham',28)\n",
    "# p1.name = 'Shubham'\n",
    "# p1.age = 28\n",
    "print(p1.name,p1.age)"
   ]
  },
  {
   "cell_type": "code",
   "execution_count": 42,
   "id": "cbca3c98-6e8a-4bdc-bccf-15d68bf630f8",
   "metadata": {},
   "outputs": [
    {
     "name": "stdout",
     "output_type": "stream",
     "text": [
      "Shubham says hello to Vidhi\n",
      "Shubham says hello to Sanya\n"
     ]
    }
   ],
   "source": [
    "p1.sayHello('Vidhi')\n",
    "Person.sayHello(p1,'Sanya')"
   ]
  },
  {
   "cell_type": "code",
   "execution_count": 43,
   "id": "40587bf8-d03a-47f3-8a52-01762bc4a1a9",
   "metadata": {},
   "outputs": [
    {
     "name": "stdout",
     "output_type": "stream",
     "text": [
      "xyz says hello to abc\n"
     ]
    }
   ],
   "source": [
    "p2 = Person()\n",
    "p2.sayHello('abc')"
   ]
  },
  {
   "cell_type": "code",
   "execution_count": 38,
   "id": "c86ce87d-f899-41dc-b9b1-284cedde063e",
   "metadata": {},
   "outputs": [
    {
     "data": {
      "text/plain": [
       "<function __main__.Person.sayHello(self, oth)>"
      ]
     },
     "execution_count": 38,
     "metadata": {},
     "output_type": "execute_result"
    }
   ],
   "source": [
    "Person.sayHello"
   ]
  },
  {
   "cell_type": "code",
   "execution_count": 49,
   "id": "5e193ab1-3e9d-41bc-a1f9-cd764184e98a",
   "metadata": {},
   "outputs": [
    {
     "data": {
      "text/plain": [
       "False"
      ]
     },
     "execution_count": 49,
     "metadata": {},
     "output_type": "execute_result"
    }
   ],
   "source": [
    "isinstance(2.0,int)"
   ]
  },
  {
   "cell_type": "code",
   "execution_count": null,
   "id": "184206fb-13dc-4bfe-8acc-b4cd3c2f6d79",
   "metadata": {},
   "outputs": [],
   "source": []
  },
  {
   "cell_type": "code",
   "execution_count": 51,
   "id": "4ce22429-bd5e-47d0-9d3b-a09c77b81aac",
   "metadata": {},
   "outputs": [],
   "source": [
    "class Dog:\n",
    "    legs = 4\n",
    "    tail = 1\n",
    "    tricks = []\n",
    "\n",
    "    def __init__(self,name,breed):\n",
    "        self.name = name\n",
    "        self.breed = breed\n",
    "        \n",
    "\n",
    "    def bark(self,sound = \"bhow\"):\n",
    "        self.sound = sound\n",
    "        print(f\"{self.name} : {sound} {sound}\")\n",
    "    "
   ]
  },
  {
   "cell_type": "code",
   "execution_count": 52,
   "id": "f16c194e-95b8-4802-ac74-c07aaa35d760",
   "metadata": {},
   "outputs": [],
   "source": [
    "d1 = Dog(\"Brandy\",\"Shitzu\")\n",
    "d2 = Dog(\"Jackie\",\"German Shepherd\")"
   ]
  },
  {
   "cell_type": "code",
   "execution_count": 53,
   "id": "e0c33413-5ba5-4226-93fe-b34f6375786b",
   "metadata": {},
   "outputs": [
    {
     "name": "stdout",
     "output_type": "stream",
     "text": [
      "Brandy : bhow bhow\n"
     ]
    }
   ],
   "source": [
    "d1.bark()"
   ]
  },
  {
   "cell_type": "code",
   "execution_count": 54,
   "id": "f7e728d2-b185-46d8-9c5b-51eb6d18f658",
   "metadata": {},
   "outputs": [
    {
     "name": "stdout",
     "output_type": "stream",
     "text": [
      "Jackie : bhow bhow\n"
     ]
    }
   ],
   "source": [
    "d2.bark()"
   ]
  },
  {
   "cell_type": "code",
   "execution_count": 56,
   "id": "a3c94214-39e3-4d80-881e-9cd19cd4ecbe",
   "metadata": {},
   "outputs": [],
   "source": [
    "d1.tricks.append('Sit')\n",
    "d1.tricks.append('Stand')"
   ]
  },
  {
   "cell_type": "code",
   "execution_count": 58,
   "id": "6851b178-98a0-46ff-b0e6-41adf4ce83d2",
   "metadata": {},
   "outputs": [
    {
     "data": {
      "text/plain": [
       "['Sit', 'Stand']"
      ]
     },
     "execution_count": 58,
     "metadata": {},
     "output_type": "execute_result"
    }
   ],
   "source": [
    "d1.tricks"
   ]
  },
  {
   "cell_type": "code",
   "execution_count": 59,
   "id": "1a8c02d2-ac4a-448e-8ca9-45f136f3ea3a",
   "metadata": {},
   "outputs": [
    {
     "data": {
      "text/plain": [
       "['Sit', 'Stand']"
      ]
     },
     "execution_count": 59,
     "metadata": {},
     "output_type": "execute_result"
    }
   ],
   "source": [
    "d2.tricks"
   ]
  },
  {
   "cell_type": "code",
   "execution_count": 60,
   "id": "da606f27-8150-4918-b15d-5738a4b6d8ec",
   "metadata": {},
   "outputs": [],
   "source": [
    "d1.tail = 6"
   ]
  },
  {
   "cell_type": "code",
   "execution_count": 61,
   "id": "828472ce-701f-43e3-87da-37d55d59a415",
   "metadata": {},
   "outputs": [
    {
     "data": {
      "text/plain": [
       "1"
      ]
     },
     "execution_count": 61,
     "metadata": {},
     "output_type": "execute_result"
    }
   ],
   "source": [
    "d2.tail"
   ]
  },
  {
   "cell_type": "code",
   "execution_count": 63,
   "id": "2fa3147e-0f25-467c-bae2-ed1fc898f37a",
   "metadata": {},
   "outputs": [
    {
     "data": {
      "text/plain": [
       "['Sit', 'Stand']"
      ]
     },
     "execution_count": 63,
     "metadata": {},
     "output_type": "execute_result"
    }
   ],
   "source": [
    "Dog.tricks"
   ]
  },
  {
   "cell_type": "code",
   "execution_count": 64,
   "id": "8ca98f41-ecf5-4061-99cd-67cace2940e0",
   "metadata": {},
   "outputs": [
    {
     "name": "stdout",
     "output_type": "stream",
     "text": [
      "['Sit', 'Handshake']\n",
      "['Sit', 'Stand']\n"
     ]
    }
   ],
   "source": [
    "d1.tricks = [\"Sit\",\"Handshake\"]\n",
    "print(d1.tricks)\n",
    "print(d2.tricks)"
   ]
  },
  {
   "cell_type": "code",
   "execution_count": 67,
   "id": "09756de6-dad7-4c49-bb4a-14c73c25454d",
   "metadata": {},
   "outputs": [
    {
     "name": "stdout",
     "output_type": "stream",
     "text": [
      "['Sit', 'Handshake'] ['Jump'] ['Jump']\n"
     ]
    }
   ],
   "source": []
  },
  {
   "cell_type": "code",
   "execution_count": null,
   "id": "2c9ec88f-a4e9-4f95-bd6f-85adb21c2b7b",
   "metadata": {},
   "outputs": [],
   "source": []
  },
  {
   "cell_type": "code",
   "execution_count": null,
   "id": "8d3697c7-2880-463d-84ae-5c51958e585a",
   "metadata": {},
   "outputs": [],
   "source": []
  },
  {
   "cell_type": "code",
   "execution_count": 95,
   "id": "451fb2f5-c1c8-4e47-92e0-be204f17f6e0",
   "metadata": {},
   "outputs": [],
   "source": [
    "class Person:\n",
    "\n",
    "    def __init__(self,name = 'xyz',age = 0):\n",
    "        self.name = name\n",
    "        self.age = age\n",
    "\n",
    "    # def sayHi(s):\n",
    "    #     print(s)\n",
    "    #     print(f\"{s.name} says Hi!\")\n",
    "\n",
    "    def sayHello(s,oth):\n",
    "        print(f\"{s.name} says hi to {oth}\")"
   ]
  },
  {
   "cell_type": "code",
   "execution_count": 96,
   "id": "5f14c5bb-afbc-4818-b2c6-62a03453ae9a",
   "metadata": {},
   "outputs": [],
   "source": [
    "class Student(Person):\n",
    "\n",
    "    def __init__(self,name = 'xyz',age = 10,roll_no = 1):\n",
    "        # super().__init__(name,age)\n",
    "        Person.__init__(self,name,age)\n",
    "        self.roll_no = roll_no\n",
    "        \n",
    "    def sayHi(self):\n",
    "        # super().sayHi('Shivani')\n",
    "        print(f\"{self.name} says Hi\")"
   ]
  },
  {
   "cell_type": "code",
   "execution_count": 97,
   "id": "eefb8c38-c70e-4dc1-bc1c-5f0957b16efa",
   "metadata": {},
   "outputs": [],
   "source": [
    "s = Student(\"Shubham\",27,10)"
   ]
  },
  {
   "cell_type": "code",
   "execution_count": 98,
   "id": "3223a035-ff70-4585-a01b-039bf7e4f0ee",
   "metadata": {},
   "outputs": [
    {
     "name": "stdout",
     "output_type": "stream",
     "text": [
      "Shubham says Hi\n"
     ]
    }
   ],
   "source": [
    "s.sayHi()"
   ]
  },
  {
   "cell_type": "code",
   "execution_count": 99,
   "id": "17a4be2f-5023-4b25-abe4-5925e38ec02c",
   "metadata": {},
   "outputs": [
    {
     "data": {
      "text/plain": [
       "10"
      ]
     },
     "execution_count": 99,
     "metadata": {},
     "output_type": "execute_result"
    }
   ],
   "source": [
    "s.roll_no"
   ]
  },
  {
   "cell_type": "code",
   "execution_count": 100,
   "id": "9c9bca90-e6fc-42df-b087-f53c12996522",
   "metadata": {},
   "outputs": [
    {
     "name": "stdout",
     "output_type": "stream",
     "text": [
      "Shubham says hi to Shivani\n"
     ]
    }
   ],
   "source": [
    "s.sayHello(\"Shivani\")"
   ]
  },
  {
   "cell_type": "code",
   "execution_count": null,
   "id": "d98f8749-fa68-4ac1-af9d-4d88528ad996",
   "metadata": {},
   "outputs": [],
   "source": []
  },
  {
   "cell_type": "code",
   "execution_count": 125,
   "id": "c5d9e3d2-9400-4c1b-844b-471a5c3bef67",
   "metadata": {},
   "outputs": [],
   "source": [
    "class Car:\n",
    "    def __init__(self,model,color,speed):\n",
    "        self.model = model\n",
    "        self.color = color\n",
    "        self.speed = speed\n",
    "\n",
    "    def __len__(self):\n",
    "        return self.speed\n",
    "\n",
    "    def __add__(self,oth):\n",
    "        return Car(self.model,oth.color,self.speed+oth.speed)\n",
    "\n",
    "    def __str__(self):\n",
    "        return f\"model: {self.model}, color: {self.color}, speed: {self.speed}\"\n",
    "        "
   ]
  },
  {
   "cell_type": "code",
   "execution_count": 126,
   "id": "42a48e62-6060-457e-a609-c32222ed5170",
   "metadata": {},
   "outputs": [],
   "source": [
    "c1 = Car(\"Toyota\",\"White\",20)\n",
    "c2 = Car(\"Honda\",\"Black\",30)"
   ]
  },
  {
   "cell_type": "code",
   "execution_count": 127,
   "id": "ebf44f42-61f5-4716-845c-ef7fb7cab075",
   "metadata": {},
   "outputs": [
    {
     "data": {
      "text/plain": [
       "30"
      ]
     },
     "execution_count": 127,
     "metadata": {},
     "output_type": "execute_result"
    }
   ],
   "source": [
    "len(c2)"
   ]
  },
  {
   "cell_type": "code",
   "execution_count": 128,
   "id": "812ed857-4a45-421f-96dc-c19b6bd13019",
   "metadata": {},
   "outputs": [],
   "source": [
    "c3 = c1+c2"
   ]
  },
  {
   "cell_type": "code",
   "execution_count": 129,
   "id": "da3bccde-15bf-4499-b9a5-ffe7fab9f5f3",
   "metadata": {},
   "outputs": [
    {
     "name": "stdout",
     "output_type": "stream",
     "text": [
      "Toyota Black 50\n"
     ]
    }
   ],
   "source": [
    "print(c3.model,c3.color,c3.speed)"
   ]
  },
  {
   "cell_type": "code",
   "execution_count": 130,
   "id": "ace91725-e123-4f01-ab5d-1e8aabe6dbd0",
   "metadata": {},
   "outputs": [
    {
     "data": {
      "text/plain": [
       "[1, 2, 3, 4, 5, 6]"
      ]
     },
     "execution_count": 130,
     "metadata": {},
     "output_type": "execute_result"
    }
   ],
   "source": [
    "l1 = [1,2,3]\n",
    "l2 = [4,5,6]\n",
    "l1+l2"
   ]
  },
  {
   "cell_type": "code",
   "execution_count": 131,
   "id": "d293868d-00ee-4c79-afe4-7a91e5602826",
   "metadata": {},
   "outputs": [
    {
     "name": "stdout",
     "output_type": "stream",
     "text": [
      "model: Toyota, color: Black, speed: 50\n"
     ]
    }
   ],
   "source": [
    "print(c3)"
   ]
  },
  {
   "cell_type": "code",
   "execution_count": null,
   "id": "f5f916b4-a26a-45d2-9161-61c8867e3d00",
   "metadata": {},
   "outputs": [],
   "source": []
  },
  {
   "cell_type": "code",
   "execution_count": 132,
   "id": "5d881ec6-5a0a-4469-9bc2-d3df6a77e1ed",
   "metadata": {},
   "outputs": [
    {
     "data": {
      "text/plain": [
       "['__add__',\n",
       " '__class__',\n",
       " '__delattr__',\n",
       " '__dict__',\n",
       " '__dir__',\n",
       " '__doc__',\n",
       " '__eq__',\n",
       " '__format__',\n",
       " '__ge__',\n",
       " '__getattribute__',\n",
       " '__getstate__',\n",
       " '__gt__',\n",
       " '__hash__',\n",
       " '__init__',\n",
       " '__init_subclass__',\n",
       " '__le__',\n",
       " '__len__',\n",
       " '__lt__',\n",
       " '__module__',\n",
       " '__ne__',\n",
       " '__new__',\n",
       " '__reduce__',\n",
       " '__reduce_ex__',\n",
       " '__repr__',\n",
       " '__setattr__',\n",
       " '__sizeof__',\n",
       " '__str__',\n",
       " '__subclasshook__',\n",
       " '__weakref__']"
      ]
     },
     "execution_count": 132,
     "metadata": {},
     "output_type": "execute_result"
    }
   ],
   "source": [
    "dir(Car)"
   ]
  },
  {
   "cell_type": "code",
   "execution_count": null,
   "id": "3d916839-fa63-41fb-88e6-c3c7ecf751da",
   "metadata": {},
   "outputs": [],
   "source": []
  },
  {
   "cell_type": "code",
   "execution_count": null,
   "id": "11c1623d-9194-4c96-ae20-fe3677f4dfaa",
   "metadata": {},
   "outputs": [],
   "source": []
  },
  {
   "cell_type": "code",
   "execution_count": null,
   "id": "e128cba6-9888-4e76-9815-7001dbe036df",
   "metadata": {},
   "outputs": [],
   "source": []
  },
  {
   "cell_type": "code",
   "execution_count": null,
   "id": "9edb9d4a-2f0d-47fa-88c0-132751be398d",
   "metadata": {},
   "outputs": [],
   "source": []
  },
  {
   "cell_type": "code",
   "execution_count": 135,
   "id": "e745e810-efb4-4211-b96b-431e530e7d84",
   "metadata": {},
   "outputs": [],
   "source": [
    "class A:\n",
    "    pass\n",
    "class B(A):\n",
    "    pass\n",
    "class C:\n",
    "    pass\n",
    "class D:\n",
    "    pass"
   ]
  },
  {
   "cell_type": "code",
   "execution_count": 127,
   "id": "75a98a51-4a6d-4a14-891f-dd27866bf314",
   "metadata": {},
   "outputs": [],
   "source": [
    "class A:\n",
    "    pass\n",
    "class B(A):\n",
    "    pass\n",
    "class C(B):\n",
    "    pass\n",
    "class D(C):\n",
    "    pass"
   ]
  },
  {
   "cell_type": "code",
   "execution_count": 128,
   "id": "d683d15f-7048-463d-adea-c10f0f88912b",
   "metadata": {},
   "outputs": [],
   "source": [
    "class A:\n",
    "    pass\n",
    "class B(A):\n",
    "    pass\n",
    "class C(A):\n",
    "    pass\n",
    "class D:\n",
    "    pass"
   ]
  },
  {
   "cell_type": "code",
   "execution_count": 138,
   "id": "9d0ca7de-403f-4c05-8a89-f1f3d3f30078",
   "metadata": {},
   "outputs": [],
   "source": [
    "class A:\n",
    "    pass\n",
    "class B:\n",
    "    pass\n",
    "class C(A,B):\n",
    "    pass\n",
    "class D:\n",
    "    pass"
   ]
  },
  {
   "cell_type": "code",
   "execution_count": 136,
   "id": "32007573-e8e1-4320-a203-e1cf4fdd8873",
   "metadata": {},
   "outputs": [],
   "source": [
    "class A:\n",
    "    pass\n",
    "class B(A):\n",
    "    pass\n",
    "class C(A):\n",
    "    pass\n",
    "class D(B,C):\n",
    "    pass"
   ]
  },
  {
   "cell_type": "code",
   "execution_count": 139,
   "id": "2f0ebb98-0639-4f40-917c-43859903d924",
   "metadata": {},
   "outputs": [
    {
     "data": {
      "text/plain": [
       "(__main__.C, __main__.A, __main__.B, object)"
      ]
     },
     "execution_count": 139,
     "metadata": {},
     "output_type": "execute_result"
    }
   ],
   "source": [
    "C.__mro__"
   ]
  },
  {
   "cell_type": "code",
   "execution_count": null,
   "id": "26c94338-63e1-470e-9f12-626418ce2d5f",
   "metadata": {},
   "outputs": [],
   "source": []
  },
  {
   "cell_type": "code",
   "execution_count": null,
   "id": "92807de4-86b0-4840-b86e-f6cd4501bcd6",
   "metadata": {},
   "outputs": [],
   "source": []
  },
  {
   "cell_type": "code",
   "execution_count": null,
   "id": "d2059508-43cc-414b-a9ab-032a5d382438",
   "metadata": {},
   "outputs": [],
   "source": []
  },
  {
   "cell_type": "code",
   "execution_count": null,
   "id": "1e250ed5-b549-4036-9080-25998e45af18",
   "metadata": {},
   "outputs": [],
   "source": []
  },
  {
   "cell_type": "code",
   "execution_count": null,
   "id": "cb219ad0-68ce-491a-bee7-07b283c20c5e",
   "metadata": {},
   "outputs": [],
   "source": []
  },
  {
   "cell_type": "code",
   "execution_count": null,
   "id": "e8780a4a-77c5-4f82-ae92-4dbdf97ba2eb",
   "metadata": {},
   "outputs": [],
   "source": []
  },
  {
   "cell_type": "code",
   "execution_count": null,
   "id": "ccd7190f-7292-475f-ab7d-6b103239b908",
   "metadata": {},
   "outputs": [],
   "source": []
  },
  {
   "cell_type": "code",
   "execution_count": null,
   "id": "fb60560d-0ebc-4177-9c90-5f96ccc26d1b",
   "metadata": {},
   "outputs": [],
   "source": []
  },
  {
   "cell_type": "code",
   "execution_count": null,
   "id": "4aa63299-ab8c-4fac-a647-862729f4eb80",
   "metadata": {},
   "outputs": [],
   "source": []
  },
  {
   "cell_type": "code",
   "execution_count": null,
   "id": "c8bed909-44b8-4b2a-8b73-3b2d721144a5",
   "metadata": {},
   "outputs": [],
   "source": []
  }
 ],
 "metadata": {
  "kernelspec": {
   "display_name": "Python 3 (ipykernel)",
   "language": "python",
   "name": "python3"
  },
  "language_info": {
   "codemirror_mode": {
    "name": "ipython",
    "version": 3
   },
   "file_extension": ".py",
   "mimetype": "text/x-python",
   "name": "python",
   "nbconvert_exporter": "python",
   "pygments_lexer": "ipython3",
   "version": "3.12.8"
  }
 },
 "nbformat": 4,
 "nbformat_minor": 5
}
