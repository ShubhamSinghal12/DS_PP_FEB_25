{
 "cells": [
  {
   "cell_type": "markdown",
   "id": "17477b79-9748-4a21-b6f5-182366e9a0b9",
   "metadata": {},
   "source": [
    "# Sets\n",
    "- unordered collection of unique items\n",
    "- Using sets:\n",
    "  - we can test for membership\n",
    "  - whether a set is a subset of another set\n",
    "  - find intersection between two sets and so on\n",
    "- Can't be indexed"
   ]
  },
  {
   "cell_type": "code",
   "execution_count": 47,
   "id": "1e7578f7-d32a-49af-a9c7-511cac5e1391",
   "metadata": {},
   "outputs": [
    {
     "name": "stdout",
     "output_type": "stream",
     "text": [
      "{1, 2, 3, 4, 5, 'Hello', 10, 11, 12, 51, 'dOG', 31} <class 'set'>\n"
     ]
    }
   ],
   "source": [
    "s = {1,2,3,4,\"Hello\",1,5,\"dOG\",10,11,12,51,31}\n",
    "print(s,type(s))"
   ]
  },
  {
   "cell_type": "code",
   "execution_count": 2,
   "id": "04d7094f-b997-4fc5-b2c4-efd596045cef",
   "metadata": {},
   "outputs": [
    {
     "data": {
      "text/plain": [
       "True"
      ]
     },
     "execution_count": 2,
     "metadata": {},
     "output_type": "execute_result"
    }
   ],
   "source": [
    "3 in s"
   ]
  },
  {
   "cell_type": "code",
   "execution_count": 3,
   "id": "ea6dea22-fd65-4fbe-afd7-e3f6663a27d3",
   "metadata": {},
   "outputs": [
    {
     "data": {
      "text/plain": [
       "False"
      ]
     },
     "execution_count": 3,
     "metadata": {},
     "output_type": "execute_result"
    }
   ],
   "source": [
    "30 in s"
   ]
  },
  {
   "cell_type": "code",
   "execution_count": 4,
   "id": "80da9d80-5dd9-47d6-8abc-b102cee8d5e6",
   "metadata": {},
   "outputs": [],
   "source": [
    "l = [1,2,3,5,2,3,1,6,3,4,2,7,6]\n",
    "s = set(l)"
   ]
  },
  {
   "cell_type": "code",
   "execution_count": 5,
   "id": "6cb1eb31-bae9-4280-a418-23901d12fba2",
   "metadata": {},
   "outputs": [
    {
     "data": {
      "text/plain": [
       "{1, 2, 3, 4, 5, 6, 7}"
      ]
     },
     "execution_count": 5,
     "metadata": {},
     "output_type": "execute_result"
    }
   ],
   "source": [
    "s"
   ]
  },
  {
   "cell_type": "code",
   "execution_count": 9,
   "id": "9973a64a-c156-4945-b711-1933d4dec9cf",
   "metadata": {},
   "outputs": [
    {
     "name": "stdout",
     "output_type": "stream",
     "text": [
      "{1, 2, 3, 4}\n"
     ]
    }
   ],
   "source": [
    "s = set()\n",
    "s.add(1)\n",
    "s.add(2)\n",
    "s.add(3)\n",
    "s.add(4)\n",
    "s.add(1)\n",
    "s.add(4)\n",
    "print(s)"
   ]
  },
  {
   "cell_type": "code",
   "execution_count": 29,
   "id": "d38347ac-c7e3-47dc-b6ff-f1777d3a4dc7",
   "metadata": {},
   "outputs": [],
   "source": [
    "s1 = {1,2,3,4}\n",
    "s2 = {3,4,5,6}"
   ]
  },
  {
   "cell_type": "code",
   "execution_count": 11,
   "id": "c4c262af-0960-4b6c-94f0-e254b1bfa74b",
   "metadata": {},
   "outputs": [
    {
     "data": {
      "text/plain": [
       "{1, 2, 3, 4, 10}"
      ]
     },
     "execution_count": 11,
     "metadata": {},
     "output_type": "execute_result"
    }
   ],
   "source": [
    "s1.add(10)\n",
    "s1"
   ]
  },
  {
   "cell_type": "code",
   "execution_count": 16,
   "id": "60bd6062-37e1-4152-a2b5-6af0742f52b5",
   "metadata": {},
   "outputs": [
    {
     "name": "stdout",
     "output_type": "stream",
     "text": [
      "{1, 2, 3, 4, 5, 6, 10}\n",
      "{1, 2, 3, 4, 10}\n"
     ]
    }
   ],
   "source": [
    "print(s1.union(s2))\n",
    "# print(s1 + s2)\n",
    "print(s1)"
   ]
  },
  {
   "cell_type": "code",
   "execution_count": 11,
   "id": "a704491a-f495-49fd-bae4-c71d80b222f3",
   "metadata": {},
   "outputs": [
    {
     "data": {
      "text/plain": [
       "{3, 4}"
      ]
     },
     "execution_count": 11,
     "metadata": {},
     "output_type": "execute_result"
    }
   ],
   "source": [
    "s1.intersection(s2)"
   ]
  },
  {
   "cell_type": "code",
   "execution_count": 19,
   "id": "1d5f8323-b571-4093-a4df-aa421ea00b4b",
   "metadata": {},
   "outputs": [
    {
     "name": "stdout",
     "output_type": "stream",
     "text": [
      "3\n",
      "{4, 10}\n"
     ]
    }
   ],
   "source": [
    "print(s1.pop())\n",
    "print(s1)"
   ]
  },
  {
   "cell_type": "code",
   "execution_count": 22,
   "id": "75edd292-377d-44af-9156-9c5b589c5eb4",
   "metadata": {},
   "outputs": [
    {
     "ename": "KeyError",
     "evalue": "10",
     "output_type": "error",
     "traceback": [
      "\u001b[1;31m---------------------------------------------------------------------------\u001b[0m",
      "\u001b[1;31mKeyError\u001b[0m                                  Traceback (most recent call last)",
      "Cell \u001b[1;32mIn[22], line 1\u001b[0m\n\u001b[1;32m----> 1\u001b[0m \u001b[43ms1\u001b[49m\u001b[38;5;241;43m.\u001b[39;49m\u001b[43mremove\u001b[49m\u001b[43m(\u001b[49m\u001b[38;5;241;43m10\u001b[39;49m\u001b[43m)\u001b[49m\n",
      "\u001b[1;31mKeyError\u001b[0m: 10"
     ]
    }
   ],
   "source": [
    "s1.remove(10)"
   ]
  },
  {
   "cell_type": "code",
   "execution_count": 30,
   "id": "39c6b842-eaf8-4225-978c-4932df9e53f3",
   "metadata": {},
   "outputs": [
    {
     "data": {
      "text/plain": [
       "{1, 2, 3, 4}"
      ]
     },
     "execution_count": 30,
     "metadata": {},
     "output_type": "execute_result"
    }
   ],
   "source": [
    "s1"
   ]
  },
  {
   "cell_type": "code",
   "execution_count": 28,
   "id": "1e237d56-bee5-4782-b99a-0e9e77aee43d",
   "metadata": {},
   "outputs": [
    {
     "name": "stdout",
     "output_type": "stream",
     "text": [
      "None\n"
     ]
    },
    {
     "data": {
      "text/plain": [
       "{2, 3, 4}"
      ]
     },
     "execution_count": 28,
     "metadata": {},
     "output_type": "execute_result"
    }
   ],
   "source": [
    "print(s1.discard(1))\n",
    "s1"
   ]
  },
  {
   "cell_type": "code",
   "execution_count": 32,
   "id": "d215d10c-e3f7-4d69-ac1e-556af5ccd053",
   "metadata": {},
   "outputs": [
    {
     "data": {
      "text/plain": [
       "{5, 6}"
      ]
     },
     "execution_count": 32,
     "metadata": {},
     "output_type": "execute_result"
    }
   ],
   "source": [
    "s2.difference(s1)"
   ]
  },
  {
   "cell_type": "code",
   "execution_count": 33,
   "id": "24a628f9-c9c3-4768-82e2-c129a50d03b5",
   "metadata": {},
   "outputs": [
    {
     "data": {
      "text/plain": [
       "{1, 2, 5, 6}"
      ]
     },
     "execution_count": 33,
     "metadata": {},
     "output_type": "execute_result"
    }
   ],
   "source": [
    "s1.symmetric_difference(s2)"
   ]
  },
  {
   "cell_type": "code",
   "execution_count": 40,
   "id": "8946d33a-a264-4c20-9130-3c6c289482cf",
   "metadata": {},
   "outputs": [],
   "source": [
    "s1 = {1,2}\n",
    "s2 = {3,4,5,6}"
   ]
  },
  {
   "cell_type": "code",
   "execution_count": 37,
   "id": "390e5b2a-b159-49d1-9009-e73bfcd9c00c",
   "metadata": {},
   "outputs": [
    {
     "data": {
      "text/plain": [
       "True"
      ]
     },
     "execution_count": 37,
     "metadata": {},
     "output_type": "execute_result"
    }
   ],
   "source": [
    "s1.issubset(s2)"
   ]
  },
  {
   "cell_type": "code",
   "execution_count": 38,
   "id": "7491701e-3018-483b-9fc4-add0dccf2468",
   "metadata": {},
   "outputs": [
    {
     "data": {
      "text/plain": [
       "True"
      ]
     },
     "execution_count": 38,
     "metadata": {},
     "output_type": "execute_result"
    }
   ],
   "source": [
    "s2.issuperset(s1)"
   ]
  },
  {
   "cell_type": "code",
   "execution_count": 41,
   "id": "45da3cf3-07b1-4b24-9a3d-7520f20facf3",
   "metadata": {},
   "outputs": [
    {
     "data": {
      "text/plain": [
       "True"
      ]
     },
     "execution_count": 41,
     "metadata": {},
     "output_type": "execute_result"
    }
   ],
   "source": [
    "s1.isdisjoint(s2)"
   ]
  },
  {
   "cell_type": "code",
   "execution_count": 42,
   "id": "e0797bca-f250-4832-afe5-4b1c65d01f49",
   "metadata": {},
   "outputs": [
    {
     "data": {
      "text/plain": [
       "4"
      ]
     },
     "execution_count": 42,
     "metadata": {},
     "output_type": "execute_result"
    }
   ],
   "source": [
    "len(s2)"
   ]
  },
  {
   "cell_type": "code",
   "execution_count": 43,
   "id": "ea208fae-90f6-43e8-b0ad-b7e9d0a14584",
   "metadata": {},
   "outputs": [
    {
     "name": "stdout",
     "output_type": "stream",
     "text": [
      "1\n",
      "2\n",
      "3\n",
      "4\n"
     ]
    }
   ],
   "source": [
    "for ele in s:\n",
    "    print(ele)"
   ]
  },
  {
   "cell_type": "code",
   "execution_count": 44,
   "id": "1766732c-5c5a-47a0-afde-ffb9e7b84fdf",
   "metadata": {},
   "outputs": [
    {
     "ename": "TypeError",
     "evalue": "'set' object is not subscriptable",
     "output_type": "error",
     "traceback": [
      "\u001b[1;31m---------------------------------------------------------------------------\u001b[0m",
      "\u001b[1;31mTypeError\u001b[0m                                 Traceback (most recent call last)",
      "Cell \u001b[1;32mIn[44], line 1\u001b[0m\n\u001b[1;32m----> 1\u001b[0m \u001b[43ms\u001b[49m\u001b[43m[\u001b[49m\u001b[38;5;241;43m0\u001b[39;49m\u001b[43m]\u001b[49m \u001b[38;5;66;03m#No Indexing\u001b[39;00m\n",
      "\u001b[1;31mTypeError\u001b[0m: 'set' object is not subscriptable"
     ]
    }
   ],
   "source": [
    "s[0] #No Indexing"
   ]
  },
  {
   "cell_type": "code",
   "execution_count": null,
   "id": "073150a3-7482-4f0c-a408-45df74042284",
   "metadata": {},
   "outputs": [],
   "source": []
  },
  {
   "cell_type": "code",
   "execution_count": null,
   "id": "eac6a868-dc06-42ca-ae74-63fb2678639d",
   "metadata": {},
   "outputs": [],
   "source": []
  },
  {
   "cell_type": "code",
   "execution_count": null,
   "id": "75834c81-d248-4233-82ed-18b62f955800",
   "metadata": {},
   "outputs": [],
   "source": []
  },
  {
   "cell_type": "code",
   "execution_count": null,
   "id": "9504dede-f272-436f-b46d-1dce136ed243",
   "metadata": {},
   "outputs": [],
   "source": []
  },
  {
   "cell_type": "markdown",
   "id": "2becfc9e-1689-4515-81d0-36a404f0b0aa",
   "metadata": {},
   "source": [
    "# Dictionary\n",
    "- unordered collection of key:value pairs\n",
    "- mutable data structure\n",
    "- Heterogeneous\n",
    "- Immutable Keys\n",
    "- dict functions\n",
    "- traversal\n",
    "- Comprehension"
   ]
  },
  {
   "cell_type": "code",
   "execution_count": 77,
   "id": "c0d106bc-6e36-4d11-9f40-dfc67eec69f5",
   "metadata": {},
   "outputs": [],
   "source": [
    "d = {\n",
    "    \"India\" : 1000,\n",
    "    \"USSR\" : 150,\n",
    "    \"USA\" : 100,\n",
    "    (1,2,3): [4,5,6],\n",
    "    12 : 'Hello'\n",
    "    # [1,2,3] : \"Hello\"\n",
    "}"
   ]
  },
  {
   "cell_type": "code",
   "execution_count": 78,
   "id": "1bca4ece-68aa-44d4-a740-ebb6b4b3be81",
   "metadata": {},
   "outputs": [
    {
     "name": "stdout",
     "output_type": "stream",
     "text": [
      "{'India': 1000, 'USSR': 150, 'USA': 100, (1, 2, 3): [4, 5, 6], 12: 'Hello'} <class 'dict'>\n"
     ]
    }
   ],
   "source": [
    "print(d,type(d))"
   ]
  },
  {
   "cell_type": "code",
   "execution_count": 52,
   "id": "e579977f-b530-4278-bbd4-1bf39a979f36",
   "metadata": {},
   "outputs": [
    {
     "data": {
      "text/plain": [
       "{'India': 1000, 'USSR': 150, 'USA': 100, 'China': 10000}"
      ]
     },
     "execution_count": 52,
     "metadata": {},
     "output_type": "execute_result"
    }
   ],
   "source": [
    "d[\"China\"] = 10000 #New key value pair\n",
    "d"
   ]
  },
  {
   "cell_type": "code",
   "execution_count": 53,
   "id": "d501f776-f588-47ba-9a62-f01b526955f9",
   "metadata": {},
   "outputs": [
    {
     "data": {
      "text/plain": [
       "10000"
      ]
     },
     "execution_count": 53,
     "metadata": {},
     "output_type": "execute_result"
    }
   ],
   "source": [
    "d[\"China\"] "
   ]
  },
  {
   "cell_type": "code",
   "execution_count": 54,
   "id": "b3aa04d4-ecb6-4c5c-8c62-3242a482276c",
   "metadata": {},
   "outputs": [
    {
     "ename": "KeyError",
     "evalue": "100",
     "output_type": "error",
     "traceback": [
      "\u001b[1;31m---------------------------------------------------------------------------\u001b[0m",
      "\u001b[1;31mKeyError\u001b[0m                                  Traceback (most recent call last)",
      "Cell \u001b[1;32mIn[54], line 1\u001b[0m\n\u001b[1;32m----> 1\u001b[0m \u001b[43md\u001b[49m\u001b[43m[\u001b[49m\u001b[38;5;241;43m100\u001b[39;49m\u001b[43m]\u001b[49m\n",
      "\u001b[1;31mKeyError\u001b[0m: 100"
     ]
    }
   ],
   "source": [
    "d[100]"
   ]
  },
  {
   "cell_type": "code",
   "execution_count": 56,
   "id": "0867dd25-aec1-428a-81a9-413457818ef5",
   "metadata": {},
   "outputs": [
    {
     "data": {
      "text/plain": [
       "0"
      ]
     },
     "execution_count": 56,
     "metadata": {},
     "output_type": "execute_result"
    }
   ],
   "source": [
    "d.get(100,0)"
   ]
  },
  {
   "cell_type": "code",
   "execution_count": 62,
   "id": "691f9818-3ec4-4ac8-ad84-1f07289108d5",
   "metadata": {},
   "outputs": [
    {
     "name": "stdout",
     "output_type": "stream",
     "text": [
      "None\n"
     ]
    }
   ],
   "source": [
    "print(d.pop(\"China\",None))"
   ]
  },
  {
   "cell_type": "code",
   "execution_count": 58,
   "id": "8ebaf87e-d0b0-4ad5-a396-2797aab4e960",
   "metadata": {},
   "outputs": [
    {
     "data": {
      "text/plain": [
       "{'India': 1000, 'USSR': 150, 'USA': 100}"
      ]
     },
     "execution_count": 58,
     "metadata": {},
     "output_type": "execute_result"
    }
   ],
   "source": [
    "d"
   ]
  },
  {
   "cell_type": "code",
   "execution_count": 63,
   "id": "3867a43e-36e5-475c-a213-90e3fd415c74",
   "metadata": {},
   "outputs": [
    {
     "data": {
      "text/plain": [
       "dict_items([('India', 1000), ('USSR', 150), ('USA', 100)])"
      ]
     },
     "execution_count": 63,
     "metadata": {},
     "output_type": "execute_result"
    }
   ],
   "source": [
    "d.items()"
   ]
  },
  {
   "cell_type": "code",
   "execution_count": 64,
   "id": "e54935a7-ba75-4244-a3e5-bcc1e5efa873",
   "metadata": {},
   "outputs": [
    {
     "data": {
      "text/plain": [
       "dict_keys(['India', 'USSR', 'USA'])"
      ]
     },
     "execution_count": 64,
     "metadata": {},
     "output_type": "execute_result"
    }
   ],
   "source": [
    "d.keys()"
   ]
  },
  {
   "cell_type": "code",
   "execution_count": 65,
   "id": "80d7a64e-d22c-4b65-8f71-af1bf1b7f32b",
   "metadata": {},
   "outputs": [
    {
     "data": {
      "text/plain": [
       "dict_values([1000, 150, 100])"
      ]
     },
     "execution_count": 65,
     "metadata": {},
     "output_type": "execute_result"
    }
   ],
   "source": [
    "d.values()"
   ]
  },
  {
   "cell_type": "code",
   "execution_count": 66,
   "id": "3cc90cf3-a15c-4c48-95a7-77896893f318",
   "metadata": {},
   "outputs": [
    {
     "data": {
      "text/plain": [
       "{'India': 1000, 'USSR': 150, 'USA': 100}"
      ]
     },
     "execution_count": 66,
     "metadata": {},
     "output_type": "execute_result"
    }
   ],
   "source": [
    "d"
   ]
  },
  {
   "cell_type": "code",
   "execution_count": 67,
   "id": "397d08a1-6d21-4d04-9048-a3b6065c7036",
   "metadata": {},
   "outputs": [
    {
     "data": {
      "text/plain": [
       "('USA', 100)"
      ]
     },
     "execution_count": 67,
     "metadata": {},
     "output_type": "execute_result"
    }
   ],
   "source": [
    "d.popitem()"
   ]
  },
  {
   "cell_type": "code",
   "execution_count": 68,
   "id": "12c409a9-d4b7-4cb2-bb63-ee2cd20635e0",
   "metadata": {},
   "outputs": [
    {
     "data": {
      "text/plain": [
       "{'India': 1000, 'USSR': 150}"
      ]
     },
     "execution_count": 68,
     "metadata": {},
     "output_type": "execute_result"
    }
   ],
   "source": [
    "d"
   ]
  },
  {
   "cell_type": "code",
   "execution_count": 69,
   "id": "ac8315e7-c15c-41e4-8eb2-f01c990e68b7",
   "metadata": {},
   "outputs": [
    {
     "data": {
      "text/plain": [
       "('USSR', 150)"
      ]
     },
     "execution_count": 69,
     "metadata": {},
     "output_type": "execute_result"
    }
   ],
   "source": [
    "d.popitem()"
   ]
  },
  {
   "cell_type": "code",
   "execution_count": 73,
   "id": "dcf55c1e-29af-4871-9ecc-8e19c05b3e0f",
   "metadata": {},
   "outputs": [
    {
     "ename": "KeyError",
     "evalue": "'India'",
     "output_type": "error",
     "traceback": [
      "\u001b[1;31m---------------------------------------------------------------------------\u001b[0m",
      "\u001b[1;31mKeyError\u001b[0m                                  Traceback (most recent call last)",
      "Cell \u001b[1;32mIn[73], line 1\u001b[0m\n\u001b[1;32m----> 1\u001b[0m \u001b[38;5;28;01mdel\u001b[39;00m \u001b[43md\u001b[49m\u001b[43m[\u001b[49m\u001b[38;5;124;43m'\u001b[39;49m\u001b[38;5;124;43mIndia\u001b[39;49m\u001b[38;5;124;43m'\u001b[39;49m\u001b[43m]\u001b[49m\n",
      "\u001b[1;31mKeyError\u001b[0m: 'India'"
     ]
    }
   ],
   "source": [
    "del d['India']"
   ]
  },
  {
   "cell_type": "code",
   "execution_count": 72,
   "id": "4b19fa2f-1838-4965-9366-eca8bd1ffc76",
   "metadata": {},
   "outputs": [
    {
     "data": {
      "text/plain": [
       "{}"
      ]
     },
     "execution_count": 72,
     "metadata": {},
     "output_type": "execute_result"
    }
   ],
   "source": [
    "d"
   ]
  },
  {
   "cell_type": "code",
   "execution_count": 79,
   "id": "b6732f09-b93d-4366-9fd4-45a8f724600a",
   "metadata": {},
   "outputs": [
    {
     "data": {
      "text/plain": [
       "dict_keys(['India', 'USSR', 'USA', (1, 2, 3), 12])"
      ]
     },
     "execution_count": 79,
     "metadata": {},
     "output_type": "execute_result"
    }
   ],
   "source": [
    "d.keys()"
   ]
  },
  {
   "cell_type": "code",
   "execution_count": 80,
   "id": "bfb5427a-59c6-48a9-906c-315108bb71d0",
   "metadata": {},
   "outputs": [
    {
     "data": {
      "text/plain": [
       "dict_values([1000, 150, 100, [4, 5, 6], 'Hello'])"
      ]
     },
     "execution_count": 80,
     "metadata": {},
     "output_type": "execute_result"
    }
   ],
   "source": [
    "d.values()"
   ]
  },
  {
   "cell_type": "code",
   "execution_count": 81,
   "id": "b573bef4-ab46-4a2b-83ea-70aa67e60b3a",
   "metadata": {},
   "outputs": [
    {
     "data": {
      "text/plain": [
       "dict_items([('India', 1000), ('USSR', 150), ('USA', 100), ((1, 2, 3), [4, 5, 6]), (12, 'Hello')])"
      ]
     },
     "execution_count": 81,
     "metadata": {},
     "output_type": "execute_result"
    }
   ],
   "source": [
    "d.items()"
   ]
  },
  {
   "cell_type": "code",
   "execution_count": 97,
   "id": "4aeab46a-1aad-4418-a946-36d937dfc409",
   "metadata": {},
   "outputs": [],
   "source": [
    "d1 = d.fromkeys([1,2,3,4],\"Number\")"
   ]
  },
  {
   "cell_type": "code",
   "execution_count": 98,
   "id": "6c3a68da-1948-4681-8f20-555125f7b9aa",
   "metadata": {},
   "outputs": [
    {
     "data": {
      "text/plain": [
       "{1: 'Number', 2: 'Number', 3: 'Number', 4: 'Number'}"
      ]
     },
     "execution_count": 98,
     "metadata": {},
     "output_type": "execute_result"
    }
   ],
   "source": [
    "d1"
   ]
  },
  {
   "cell_type": "code",
   "execution_count": 100,
   "id": "d7a0e1e7-ea3a-46f8-87ff-6af36ee3aa41",
   "metadata": {},
   "outputs": [],
   "source": [
    "d.update(d1)"
   ]
  },
  {
   "cell_type": "code",
   "execution_count": 101,
   "id": "1a0d596e-b1fb-41ac-a79d-b8b2010a4336",
   "metadata": {},
   "outputs": [
    {
     "data": {
      "text/plain": [
       "{'India': 1000,\n",
       " 'USSR': 150,\n",
       " 'USA': 100,\n",
       " (1, 2, 3): [4, 5, 6],\n",
       " 12: 'Hello',\n",
       " 1: 'Number',\n",
       " 2: 'Number',\n",
       " 3: 'Number',\n",
       " 4: 'Number'}"
      ]
     },
     "execution_count": 101,
     "metadata": {},
     "output_type": "execute_result"
    }
   ],
   "source": [
    "d"
   ]
  },
  {
   "cell_type": "code",
   "execution_count": 103,
   "id": "775a76b5-e96a-4959-9e45-a22598d8d6c4",
   "metadata": {},
   "outputs": [
    {
     "data": {
      "text/plain": [
       "False"
      ]
     },
     "execution_count": 103,
     "metadata": {},
     "output_type": "execute_result"
    }
   ],
   "source": [
    "10 in d"
   ]
  },
  {
   "cell_type": "code",
   "execution_count": 104,
   "id": "602795f7-7060-4053-9b25-10c89476ae14",
   "metadata": {},
   "outputs": [
    {
     "data": {
      "text/plain": [
       "True"
      ]
     },
     "execution_count": 104,
     "metadata": {},
     "output_type": "execute_result"
    }
   ],
   "source": [
    "1 in d"
   ]
  },
  {
   "cell_type": "code",
   "execution_count": 105,
   "id": "966d00b7-0db0-445d-83b1-044c6ce2faa1",
   "metadata": {},
   "outputs": [
    {
     "name": "stdout",
     "output_type": "stream",
     "text": [
      "India 1000\n",
      "USSR 150\n",
      "USA 100\n",
      "(1, 2, 3) [4, 5, 6]\n",
      "12 Hello\n",
      "1 Number\n",
      "2 Number\n",
      "3 Number\n",
      "4 Number\n"
     ]
    }
   ],
   "source": [
    "for k in d:\n",
    "    print(k,d[k])"
   ]
  },
  {
   "cell_type": "code",
   "execution_count": 108,
   "id": "f989e7de-f696-422b-a2f2-e8abe431c209",
   "metadata": {},
   "outputs": [
    {
     "name": "stdout",
     "output_type": "stream",
     "text": [
      "India 1000\n",
      "USSR 150\n",
      "USA 100\n",
      "(1, 2, 3) [4, 5, 6]\n",
      "12 Hello\n",
      "1 Number\n",
      "2 Number\n",
      "3 Number\n",
      "4 Number\n"
     ]
    }
   ],
   "source": [
    "# for t in d.items():\n",
    "#     print(t[0],t[1])\n",
    "\n",
    "for k,v in d.items():\n",
    "    print(k,v)"
   ]
  },
  {
   "cell_type": "code",
   "execution_count": null,
   "id": "1c7e5ea3-b28f-4a4a-916c-109d4846a609",
   "metadata": {},
   "outputs": [],
   "source": []
  },
  {
   "cell_type": "code",
   "execution_count": 109,
   "id": "17d4e638-c5ed-4373-881d-835bbd539aea",
   "metadata": {},
   "outputs": [],
   "source": [
    "s = set()\n",
    "for i in range(10):\n",
    "    s.add(i)"
   ]
  },
  {
   "cell_type": "code",
   "execution_count": 110,
   "id": "e01c4d1c-3ab3-4c53-824e-f65180eb85d7",
   "metadata": {},
   "outputs": [
    {
     "data": {
      "text/plain": [
       "{0, 1, 2, 3, 4, 5, 6, 7, 8, 9}"
      ]
     },
     "execution_count": 110,
     "metadata": {},
     "output_type": "execute_result"
    }
   ],
   "source": [
    "s"
   ]
  },
  {
   "cell_type": "code",
   "execution_count": 113,
   "id": "bb15535d-5de4-482c-8ec2-fb924767f626",
   "metadata": {},
   "outputs": [],
   "source": [
    "s = {2*i+3 for i in range(10)}"
   ]
  },
  {
   "cell_type": "code",
   "execution_count": 114,
   "id": "850186a2-2ce0-477e-ad2d-e5314a79d811",
   "metadata": {},
   "outputs": [
    {
     "data": {
      "text/plain": [
       "{3, 5, 7, 9, 11, 13, 15, 17, 19, 21}"
      ]
     },
     "execution_count": 114,
     "metadata": {},
     "output_type": "execute_result"
    }
   ],
   "source": [
    "s"
   ]
  },
  {
   "cell_type": "code",
   "execution_count": 115,
   "id": "6384d949-a04f-42e2-9d04-fad01e8cc947",
   "metadata": {},
   "outputs": [],
   "source": [
    "d = {}\n",
    "for i in range(10):\n",
    "    d[i] = i**2"
   ]
  },
  {
   "cell_type": "code",
   "execution_count": 116,
   "id": "8e83fa2c-5ed9-4cdb-a1bc-bf7e1a546572",
   "metadata": {},
   "outputs": [
    {
     "data": {
      "text/plain": [
       "{0: 0, 1: 1, 2: 4, 3: 9, 4: 16, 5: 25, 6: 36, 7: 49, 8: 64, 9: 81}"
      ]
     },
     "execution_count": 116,
     "metadata": {},
     "output_type": "execute_result"
    }
   ],
   "source": [
    "d"
   ]
  },
  {
   "cell_type": "code",
   "execution_count": 117,
   "id": "caf5bc18-b95b-4e87-b6ba-c059c8c7ae47",
   "metadata": {},
   "outputs": [
    {
     "data": {
      "text/plain": [
       "{0: 0, 1: 1, 2: 4, 3: 9, 4: 16, 5: 25, 6: 36, 7: 49, 8: 64, 9: 81}"
      ]
     },
     "execution_count": 117,
     "metadata": {},
     "output_type": "execute_result"
    }
   ],
   "source": [
    "d = {i : i**2 for i in range(10)}\n",
    "d"
   ]
  },
  {
   "cell_type": "code",
   "execution_count": null,
   "id": "6ed01b88-1c08-46c0-9f51-becab8ff2eef",
   "metadata": {},
   "outputs": [],
   "source": []
  },
  {
   "cell_type": "code",
   "execution_count": null,
   "id": "32795742-b096-4f67-b786-6cf573507c68",
   "metadata": {},
   "outputs": [],
   "source": []
  },
  {
   "cell_type": "code",
   "execution_count": null,
   "id": "b907d453-2847-46f3-9160-a4d3f8eaa78a",
   "metadata": {},
   "outputs": [],
   "source": []
  },
  {
   "cell_type": "code",
   "execution_count": 91,
   "id": "e253cfd1-f5ca-43d7-85c6-e0c13e72f4d1",
   "metadata": {},
   "outputs": [],
   "source": [
    "t = (1,2,3,4,5,6)"
   ]
  },
  {
   "cell_type": "code",
   "execution_count": 82,
   "id": "ff79ed1b-7ff6-42e8-8607-d00a2cf4f592",
   "metadata": {},
   "outputs": [],
   "source": [
    "def add(a,b):\n",
    "    return a+b"
   ]
  },
  {
   "cell_type": "code",
   "execution_count": 83,
   "id": "21f1e73d-a6a9-4424-9ec7-83377afd337e",
   "metadata": {},
   "outputs": [
    {
     "data": {
      "text/plain": [
       "<function __main__.add(a, b)>"
      ]
     },
     "execution_count": 83,
     "metadata": {},
     "output_type": "execute_result"
    }
   ],
   "source": [
    "add"
   ]
  },
  {
   "cell_type": "code",
   "execution_count": 95,
   "id": "504d02e2-6fe5-4b0e-b2ce-80ee8efdc739",
   "metadata": {},
   "outputs": [],
   "source": [
    "dnew = {'fn':add,add(10,20):'Add Fun',t:'tuple'}"
   ]
  },
  {
   "cell_type": "code",
   "execution_count": 119,
   "id": "d16c1550-2943-45e6-bd1c-ac35c2a6fa4d",
   "metadata": {},
   "outputs": [
    {
     "data": {
      "text/plain": [
       "30"
      ]
     },
     "execution_count": 119,
     "metadata": {},
     "output_type": "execute_result"
    }
   ],
   "source": [
    "dnew['fn'](10,20)"
   ]
  },
  {
   "cell_type": "code",
   "execution_count": 96,
   "id": "a7f8fbc6-5763-4bdb-8189-98cb835880b3",
   "metadata": {},
   "outputs": [
    {
     "data": {
      "text/plain": [
       "'Add Fun'"
      ]
     },
     "execution_count": 96,
     "metadata": {},
     "output_type": "execute_result"
    }
   ],
   "source": [
    "dnew[30]"
   ]
  },
  {
   "cell_type": "code",
   "execution_count": 94,
   "id": "ad842a78-0f5c-467c-8479-8ed1cbd22a85",
   "metadata": {},
   "outputs": [
    {
     "data": {
      "text/plain": [
       "'tuple'"
      ]
     },
     "execution_count": 94,
     "metadata": {},
     "output_type": "execute_result"
    }
   ],
   "source": [
    "dnew[t]"
   ]
  },
  {
   "cell_type": "code",
   "execution_count": null,
   "id": "3f5a23bc-386f-4bc0-9d8e-20fed6549a0f",
   "metadata": {},
   "outputs": [],
   "source": []
  }
 ],
 "metadata": {
  "kernelspec": {
   "display_name": "Python 3 (ipykernel)",
   "language": "python",
   "name": "python3"
  },
  "language_info": {
   "codemirror_mode": {
    "name": "ipython",
    "version": 3
   },
   "file_extension": ".py",
   "mimetype": "text/x-python",
   "name": "python",
   "nbconvert_exporter": "python",
   "pygments_lexer": "ipython3",
   "version": "3.12.8"
  }
 },
 "nbformat": 4,
 "nbformat_minor": 5
}
