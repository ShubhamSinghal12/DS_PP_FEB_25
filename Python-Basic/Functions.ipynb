{
 "cells": [
  {
   "cell_type": "markdown",
   "id": "257c4755-f3b0-487c-875e-33742170c1f8",
   "metadata": {},
   "source": [
    "## functions\n",
    "- defination\n",
    "- Memory management\n",
    "- parameters (Pass by Value)\n",
    "- return / Multiple Return\n",
    "- default arguments\n",
    "- keyword arguments\n",
    "- DocString (__doc__)\n",
    "- Type Hints \n",
    "- function as arguments\n",
    "- Anonymous Function\n",
    "- Recursion\n",
    "- Function within function\n",
    "- Arbitrary arguments (*args and **kwargs) (After Built-in)\n",
    "- Function Decorators\n",
    "- iterators"
   ]
  },
  {
   "cell_type": "code",
   "execution_count": 61,
   "id": "c5347ef7-df99-4381-9798-a5d7958aaf0c",
   "metadata": {},
   "outputs": [],
   "source": [
    "def add(a: int,b: int) -> int:\n",
    "    c = a+b\n",
    "    return c\n",
    "\n",
    "def add_sub(a,b,/,*,p,q:int = 100):\n",
    "    c = a+b\n",
    "    d = p-q\n",
    "    return c,d"
   ]
  },
  {
   "cell_type": "code",
   "execution_count": 62,
   "id": "4a4b8d05-e768-41f3-af68-f65a4db52d9e",
   "metadata": {},
   "outputs": [
    {
     "name": "stdout",
     "output_type": "stream",
     "text": [
      "120 -800\n"
     ]
    }
   ],
   "source": [
    "# c = add(1000,2000)\n",
    "# print(c)\n",
    "\n",
    "c,d = add_sub(20,100,p = 200,q=1000)\n",
    "print(c,d)\n",
    "# add_sub(10,20,100,200)"
   ]
  },
  {
   "cell_type": "code",
   "execution_count": 59,
   "id": "8e702f84-be8e-426a-ad3d-6df7cebc313e",
   "metadata": {},
   "outputs": [
    {
     "data": {
      "text/plain": [
       "'ab'"
      ]
     },
     "execution_count": 59,
     "metadata": {},
     "output_type": "execute_result"
    }
   ],
   "source": [
    "add('a','b')"
   ]
  },
  {
   "cell_type": "code",
   "execution_count": 6,
   "id": "46ae1cd6-a331-4e0a-9afd-b7272b5d39ca",
   "metadata": {},
   "outputs": [
    {
     "name": "stdout",
     "output_type": "stream",
     "text": [
      "<function add at 0x00000215402A2020> <class 'function'>\n"
     ]
    }
   ],
   "source": [
    "print(add,type(add))"
   ]
  },
  {
   "cell_type": "code",
   "execution_count": 19,
   "id": "dbe7c525-390a-4ead-95f0-82287c00819a",
   "metadata": {},
   "outputs": [],
   "source": [
    "a,b = 10,20"
   ]
  },
  {
   "cell_type": "code",
   "execution_count": null,
   "id": "28f9de93-e817-453d-bed6-6f18f91fe58e",
   "metadata": {},
   "outputs": [],
   "source": []
  },
  {
   "cell_type": "code",
   "execution_count": 26,
   "id": "7d1916b0-408f-4cd9-9614-3c5c5528173b",
   "metadata": {},
   "outputs": [],
   "source": [
    "def add(a,b):\n",
    "    a = 100\n",
    "    return a+b"
   ]
  },
  {
   "cell_type": "code",
   "execution_count": 27,
   "id": "c659453f-8899-4563-995c-3c0365e80296",
   "metadata": {},
   "outputs": [
    {
     "name": "stdout",
     "output_type": "stream",
     "text": [
      "20 30 130\n"
     ]
    }
   ],
   "source": [
    "a = 20\n",
    "b = 30\n",
    "c = add(a,b)\n",
    "print(a,b,c)"
   ]
  },
  {
   "cell_type": "code",
   "execution_count": 36,
   "id": "64088806-7170-4782-acf5-edfdede13cb1",
   "metadata": {},
   "outputs": [],
   "source": [
    "def fn():\n",
    "    global a\n",
    "    a = 100\n",
    "    print(a)"
   ]
  },
  {
   "cell_type": "code",
   "execution_count": 34,
   "id": "02908acd-7828-4124-b78b-2fc73c2873f4",
   "metadata": {},
   "outputs": [
    {
     "name": "stdout",
     "output_type": "stream",
     "text": [
      "100\n",
      "100\n"
     ]
    }
   ],
   "source": [
    "fn()\n",
    "print(a)"
   ]
  },
  {
   "cell_type": "code",
   "execution_count": null,
   "id": "d2158fd0-901e-4601-b777-2b75a5214e52",
   "metadata": {},
   "outputs": [],
   "source": []
  },
  {
   "cell_type": "code",
   "execution_count": 37,
   "id": "fbf99c54-103a-4709-a5ee-6781f1a01266",
   "metadata": {},
   "outputs": [],
   "source": [
    "def fn():\n",
    "    \"This is a function Doc\""
   ]
  },
  {
   "cell_type": "code",
   "execution_count": 38,
   "id": "4fb95b24-a47a-4c72-bae0-81787b01f272",
   "metadata": {},
   "outputs": [
    {
     "data": {
      "text/plain": [
       "'This is a function Doc'"
      ]
     },
     "execution_count": 38,
     "metadata": {},
     "output_type": "execute_result"
    }
   ],
   "source": [
    "fn.__doc__"
   ]
  },
  {
   "cell_type": "code",
   "execution_count": 39,
   "id": "15e8f7b2-b9b0-4a51-b3cc-d080b97f1ff7",
   "metadata": {},
   "outputs": [
    {
     "data": {
      "text/plain": [
       "'Prints the values to a stream, or to sys.stdout by default.\\n\\n  sep\\n    string inserted between values, default a space.\\n  end\\n    string appended after the last value, default a newline.\\n  file\\n    a file-like object (stream); defaults to the current sys.stdout.\\n  flush\\n    whether to forcibly flush the stream.'"
      ]
     },
     "execution_count": 39,
     "metadata": {},
     "output_type": "execute_result"
    }
   ],
   "source": [
    "print.__doc__"
   ]
  },
  {
   "cell_type": "code",
   "execution_count": 40,
   "id": "1f79500a-67b3-4eaa-a07b-aa877bd36afb",
   "metadata": {},
   "outputs": [
    {
     "data": {
      "text/plain": [
       "\u001b[1;31mSignature:\u001b[0m \u001b[0mprint\u001b[0m\u001b[1;33m(\u001b[0m\u001b[1;33m*\u001b[0m\u001b[0margs\u001b[0m\u001b[1;33m,\u001b[0m \u001b[0msep\u001b[0m\u001b[1;33m=\u001b[0m\u001b[1;34m' '\u001b[0m\u001b[1;33m,\u001b[0m \u001b[0mend\u001b[0m\u001b[1;33m=\u001b[0m\u001b[1;34m'\\n'\u001b[0m\u001b[1;33m,\u001b[0m \u001b[0mfile\u001b[0m\u001b[1;33m=\u001b[0m\u001b[1;32mNone\u001b[0m\u001b[1;33m,\u001b[0m \u001b[0mflush\u001b[0m\u001b[1;33m=\u001b[0m\u001b[1;32mFalse\u001b[0m\u001b[1;33m)\u001b[0m\u001b[1;33m\u001b[0m\u001b[1;33m\u001b[0m\u001b[0m\n",
       "\u001b[1;31mDocstring:\u001b[0m\n",
       "Prints the values to a stream, or to sys.stdout by default.\n",
       "\n",
       "sep\n",
       "  string inserted between values, default a space.\n",
       "end\n",
       "  string appended after the last value, default a newline.\n",
       "file\n",
       "  a file-like object (stream); defaults to the current sys.stdout.\n",
       "flush\n",
       "  whether to forcibly flush the stream.\n",
       "\u001b[1;31mType:\u001b[0m      builtin_function_or_method"
      ]
     },
     "metadata": {},
     "output_type": "display_data"
    }
   ],
   "source": [
    "print?"
   ]
  },
  {
   "cell_type": "code",
   "execution_count": 60,
   "id": "a5d2629f-c1bc-48e0-bc27-987dbe3aa91c",
   "metadata": {},
   "outputs": [],
   "source": [
    "fn()"
   ]
  },
  {
   "cell_type": "code",
   "execution_count": null,
   "id": "7ba2ba59-7836-4969-aa0f-f50c4ddc81bf",
   "metadata": {},
   "outputs": [],
   "source": []
  },
  {
   "cell_type": "code",
   "execution_count": 64,
   "id": "7f2fe900-b08d-4f87-b498-aa9182f8357e",
   "metadata": {},
   "outputs": [],
   "source": [
    "xyz = lambda a,b:a+b"
   ]
  },
  {
   "cell_type": "code",
   "execution_count": 65,
   "id": "2d7186e6-604f-41f9-92a1-3182e486f5c9",
   "metadata": {},
   "outputs": [
    {
     "data": {
      "text/plain": [
       "30"
      ]
     },
     "execution_count": 65,
     "metadata": {},
     "output_type": "execute_result"
    }
   ],
   "source": [
    "xyz(10,20)"
   ]
  },
  {
   "cell_type": "code",
   "execution_count": 66,
   "id": "9dbce5c6-a3be-4990-b2bd-11837eb11274",
   "metadata": {},
   "outputs": [],
   "source": [
    "def cal(a,b,op):\n",
    "    return op(a,b)"
   ]
  },
  {
   "cell_type": "code",
   "execution_count": 69,
   "id": "ea3b16f5-7f89-40df-b314-6b7420caad44",
   "metadata": {},
   "outputs": [],
   "source": [
    "def add(a,b):\n",
    "    return a+b\n",
    "def sub(a,b):\n",
    "    return a-b"
   ]
  },
  {
   "cell_type": "code",
   "execution_count": 71,
   "id": "d265fb23-2c70-4b04-94c4-6899d72491eb",
   "metadata": {},
   "outputs": [
    {
     "data": {
      "text/plain": [
       "20"
      ]
     },
     "execution_count": 71,
     "metadata": {},
     "output_type": "execute_result"
    }
   ],
   "source": [
    "cal(10,20,max)"
   ]
  },
  {
   "cell_type": "code",
   "execution_count": 74,
   "id": "a7522be6-aaa1-49e6-bb36-9bed59d6e782",
   "metadata": {},
   "outputs": [
    {
     "data": {
      "text/plain": [
       "(200, 0.5)"
      ]
     },
     "execution_count": 74,
     "metadata": {},
     "output_type": "execute_result"
    }
   ],
   "source": [
    "cal(10,20,lambda x,y: (x*y,x/y))"
   ]
  },
  {
   "cell_type": "code",
   "execution_count": null,
   "id": "486c1413-77de-432f-8c73-340bcf3efed8",
   "metadata": {},
   "outputs": [],
   "source": []
  },
  {
   "cell_type": "code",
   "execution_count": 75,
   "id": "3692e97c-d309-4b98-8bfb-33e871e7b435",
   "metadata": {},
   "outputs": [],
   "source": [
    "def fact(x):\n",
    "    if x == 0:\n",
    "        return 1\n",
    "    else:\n",
    "        return x*fact(x-1)"
   ]
  },
  {
   "cell_type": "code",
   "execution_count": 79,
   "id": "df54caaf-f5f4-437b-9caa-69df21101413",
   "metadata": {},
   "outputs": [
    {
     "data": {
      "text/plain": [
       "479001600"
      ]
     },
     "execution_count": 79,
     "metadata": {},
     "output_type": "execute_result"
    }
   ],
   "source": [
    "fact(12)"
   ]
  },
  {
   "cell_type": "code",
   "execution_count": null,
   "id": "2ce95ed3-e8d0-41d5-a32b-d1d252d12aaa",
   "metadata": {},
   "outputs": [],
   "source": []
  },
  {
   "cell_type": "code",
   "execution_count": 87,
   "id": "1e1abfc4-1143-45e5-8446-31c48b99db18",
   "metadata": {},
   "outputs": [],
   "source": [
    "x = 100\n",
    "def f1():\n",
    "    x = 10\n",
    "    y = 20\n",
    "    def f2():\n",
    "        nonlocal x\n",
    "        x = 1000\n",
    "        print(x,y)\n",
    "    f2()\n",
    "    print(x,y)"
   ]
  },
  {
   "cell_type": "code",
   "execution_count": 88,
   "id": "3b58429f-fe5e-4f4a-8b18-cd5b8e55a7b9",
   "metadata": {},
   "outputs": [
    {
     "name": "stdout",
     "output_type": "stream",
     "text": [
      "1000 20\n",
      "1000 20\n"
     ]
    }
   ],
   "source": [
    "f1()"
   ]
  },
  {
   "cell_type": "code",
   "execution_count": null,
   "id": "d6583f54-620a-434c-ba5c-05cb4149c2b6",
   "metadata": {},
   "outputs": [],
   "source": []
  },
  {
   "cell_type": "code",
   "execution_count": null,
   "id": "acce91b2-3292-4dc5-9970-013a3de34563",
   "metadata": {},
   "outputs": [],
   "source": []
  },
  {
   "cell_type": "code",
   "execution_count": 95,
   "id": "7140145a-fa72-458d-87ca-cfd20a19dd37",
   "metadata": {},
   "outputs": [],
   "source": [
    "import math\n",
    "def nod(n:int) -> int:\n",
    "    return int(math.log10(n))+1\n",
    "    \n",
    "def isArmstrong(n:int)->bool:\n",
    "    nd = nod(n)\n",
    "    t = n\n",
    "    s = 0\n",
    "    while t!= 0:\n",
    "        digit = t%10\n",
    "        s += digit**nd\n",
    "\n",
    "        t //= 10\n",
    "    return s == n\n",
    "def printAllArmstrong(a,b):\n",
    "    i = a\n",
    "    while i <= b:\n",
    "        if isArmstrong(i):\n",
    "            print(i)\n",
    "        i += 1"
   ]
  },
  {
   "cell_type": "code",
   "execution_count": 96,
   "id": "bd281493-fa9c-44f4-bc16-bb5c3ef338da",
   "metadata": {},
   "outputs": [
    {
     "name": "stdout",
     "output_type": "stream",
     "text": [
      "1\n",
      "2\n",
      "3\n",
      "4\n",
      "5\n",
      "6\n",
      "7\n",
      "8\n",
      "9\n",
      "153\n",
      "370\n",
      "371\n",
      "407\n"
     ]
    }
   ],
   "source": [
    "printAllArmstrong(1,1000)"
   ]
  },
  {
   "cell_type": "code",
   "execution_count": null,
   "id": "ff3b8f80-4465-47e3-ab64-a7ac34261940",
   "metadata": {},
   "outputs": [],
   "source": []
  },
  {
   "cell_type": "code",
   "execution_count": null,
   "id": "553616af-bee9-4f91-98e6-1f7250a48a76",
   "metadata": {},
   "outputs": [],
   "source": []
  },
  {
   "cell_type": "code",
   "execution_count": 1,
   "id": "f1cf39fc-5ac7-419d-b0d9-563a90846304",
   "metadata": {},
   "outputs": [],
   "source": [
    "def add(a,b):\n",
    "    print(a+b)"
   ]
  },
  {
   "cell_type": "code",
   "execution_count": 3,
   "id": "d0b14569-0cc9-4bc7-aa57-4aef811b4573",
   "metadata": {},
   "outputs": [
    {
     "name": "stdout",
     "output_type": "stream",
     "text": [
      "30\n"
     ]
    }
   ],
   "source": [
    "c = add(10,20)"
   ]
  },
  {
   "cell_type": "code",
   "execution_count": 5,
   "id": "92fbd005-cb7a-4923-afdc-9b8b40dce29a",
   "metadata": {},
   "outputs": [
    {
     "name": "stdout",
     "output_type": "stream",
     "text": [
      "None\n"
     ]
    }
   ],
   "source": [
    "print(c)"
   ]
  },
  {
   "cell_type": "code",
   "execution_count": null,
   "id": "8c012bf4-b008-47dc-a0e7-90cff76fec34",
   "metadata": {},
   "outputs": [],
   "source": []
  },
  {
   "cell_type": "code",
   "execution_count": 14,
   "id": "7e8f17d1-b019-42a1-b435-b300b85ada28",
   "metadata": {},
   "outputs": [],
   "source": [
    "def fn(a,b,*shub,c):\n",
    "    print(shub,type(shub))"
   ]
  },
  {
   "cell_type": "code",
   "execution_count": 16,
   "id": "882b99bd-55c1-40b4-b092-a09bd75c5c4e",
   "metadata": {},
   "outputs": [
    {
     "name": "stdout",
     "output_type": "stream",
     "text": [
      "(3, 4, 5, 6) <class 'tuple'>\n"
     ]
    }
   ],
   "source": [
    "fn(1,2,3,4,5,6,c = 10)"
   ]
  },
  {
   "cell_type": "code",
   "execution_count": 39,
   "id": "4ecf431a-744c-48fc-b414-36f32f64ed05",
   "metadata": {},
   "outputs": [],
   "source": [
    "def fn(d,**kwargs):\n",
    "    print(kwargs)"
   ]
  },
  {
   "cell_type": "code",
   "execution_count": 40,
   "id": "9e9cb472-feb5-46a1-b4d5-6cf7aee17571",
   "metadata": {},
   "outputs": [
    {
     "name": "stdout",
     "output_type": "stream",
     "text": [
      "{'a': 10, 'b': 20, 'c': 30}\n"
     ]
    }
   ],
   "source": [
    "fn(a= 10,b = 20, c = 30,d = 100)"
   ]
  },
  {
   "cell_type": "code",
   "execution_count": 51,
   "id": "50b64253-66a2-4049-9146-bbdf27df63d3",
   "metadata": {},
   "outputs": [],
   "source": [
    "d = {'a':10,'b':20,'c':100}"
   ]
  },
  {
   "cell_type": "code",
   "execution_count": 46,
   "id": "66cff8a1-b258-4ba0-8c05-431a57b47fa5",
   "metadata": {},
   "outputs": [],
   "source": [
    "def fn(a,b):\n",
    "    print(a,b)"
   ]
  },
  {
   "cell_type": "code",
   "execution_count": 52,
   "id": "f111e503-9f93-4e67-a0c6-518c472be22a",
   "metadata": {},
   "outputs": [
    {
     "ename": "TypeError",
     "evalue": "fn() got an unexpected keyword argument 'c'",
     "output_type": "error",
     "traceback": [
      "\u001b[1;31m---------------------------------------------------------------------------\u001b[0m",
      "\u001b[1;31mTypeError\u001b[0m                                 Traceback (most recent call last)",
      "Cell \u001b[1;32mIn[52], line 2\u001b[0m\n\u001b[0;32m      1\u001b[0m t \u001b[38;5;241m=\u001b[39m (\u001b[38;5;241m100\u001b[39m,\u001b[38;5;241m200\u001b[39m)\n\u001b[1;32m----> 2\u001b[0m \u001b[43mfn\u001b[49m\u001b[43m(\u001b[49m\u001b[38;5;241;43m*\u001b[39;49m\u001b[38;5;241;43m*\u001b[39;49m\u001b[43md\u001b[49m\u001b[43m)\u001b[49m\n",
      "\u001b[1;31mTypeError\u001b[0m: fn() got an unexpected keyword argument 'c'"
     ]
    }
   ],
   "source": [
    "t = (100,200)\n",
    "fn(**d)"
   ]
  },
  {
   "cell_type": "code",
   "execution_count": 53,
   "id": "dbc99c03-cfae-4f87-a640-1617fcce40d3",
   "metadata": {},
   "outputs": [],
   "source": [
    "def printHI():\n",
    "    print('Hi')"
   ]
  },
  {
   "cell_type": "code",
   "execution_count": 54,
   "id": "e77cf9ff-a8c3-4372-9d95-a562dac2d000",
   "metadata": {},
   "outputs": [
    {
     "name": "stdout",
     "output_type": "stream",
     "text": [
      "Hi\n"
     ]
    }
   ],
   "source": [
    "printHI()"
   ]
  },
  {
   "cell_type": "code",
   "execution_count": 55,
   "id": "d3b71587-c15c-4030-ae07-6408b5620637",
   "metadata": {},
   "outputs": [],
   "source": [
    "user = {\n",
    "    'Shubham' : 1234,\n",
    "    'Ridhi' : 456\n",
    "}"
   ]
  },
  {
   "cell_type": "code",
   "execution_count": 56,
   "id": "e0324e79-e909-4894-8fb7-6ff06710e26a",
   "metadata": {},
   "outputs": [],
   "source": [
    "def protectedHi(username,password):\n",
    "    if username in user and password == user[username]:\n",
    "        printHI()\n",
    "    else:\n",
    "        print(\"Wrong Username or Password\")"
   ]
  },
  {
   "cell_type": "code",
   "execution_count": 59,
   "id": "ec9ccd52-0002-4197-9289-9d2daf4436f9",
   "metadata": {},
   "outputs": [
    {
     "name": "stdout",
     "output_type": "stream",
     "text": [
      "Hi\n"
     ]
    }
   ],
   "source": [
    "protectedHi('Shubham',1234)"
   ]
  },
  {
   "cell_type": "code",
   "execution_count": 69,
   "id": "a57e68d4-208d-4c4f-bbd2-116c547c6561",
   "metadata": {},
   "outputs": [],
   "source": [
    "def add(a,b,c):\n",
    "    return a+b+c"
   ]
  },
  {
   "cell_type": "code",
   "execution_count": 70,
   "id": "a76467ea-260f-4508-a77c-6ad21a694e4c",
   "metadata": {},
   "outputs": [],
   "source": [
    "def protectedADD(username,password,*args,**kwargs):\n",
    "    if username in user and password == user[username]:\n",
    "        return add(*args,**kwargs)\n",
    "    else:\n",
    "        print(\"Wrong Username or Password\")"
   ]
  },
  {
   "cell_type": "code",
   "execution_count": 73,
   "id": "a427e723-60f7-40b6-a612-cd881054e9e6",
   "metadata": {},
   "outputs": [
    {
     "data": {
      "text/plain": [
       "60"
      ]
     },
     "execution_count": 73,
     "metadata": {},
     "output_type": "execute_result"
    }
   ],
   "source": [
    "protectedADD(\"Shubham\",1234,10,20,c = 30)"
   ]
  },
  {
   "cell_type": "code",
   "execution_count": 74,
   "id": "16fb3481-907c-4213-bc00-f1f63972e1ca",
   "metadata": {},
   "outputs": [],
   "source": [
    "def authenticate(fn):\n",
    "    def wrapper(username,password,*args,**kwargs):\n",
    "        if username in user and password == user[username]:\n",
    "            return fn(*args,**kwargs)\n",
    "        else:\n",
    "            print(\"Wrong Username or Password\")\n",
    "    return wrapper"
   ]
  },
  {
   "cell_type": "code",
   "execution_count": 78,
   "id": "00fd88e5-a9ce-4480-9414-1e343005b2e8",
   "metadata": {},
   "outputs": [],
   "source": [
    "def prod(a,b,c):\n",
    "    return a*b*c\n",
    "    \n",
    "prod = authenticate(prod)"
   ]
  },
  {
   "cell_type": "code",
   "execution_count": 79,
   "id": "f88342fa-11b8-4b09-90ce-5d786bba9fec",
   "metadata": {},
   "outputs": [
    {
     "data": {
      "text/plain": [
       "6000"
      ]
     },
     "execution_count": 79,
     "metadata": {},
     "output_type": "execute_result"
    }
   ],
   "source": [
    "prod('Shubham',1234,10,20,30)"
   ]
  },
  {
   "cell_type": "code",
   "execution_count": 80,
   "id": "d51fa190-2ced-4fb9-aa43-73e2b4f99819",
   "metadata": {},
   "outputs": [],
   "source": [
    "@authenticate\n",
    "def abc():\n",
    "    print('xyz')\n",
    "\n",
    "# abc = authenticate(abc)"
   ]
  },
  {
   "cell_type": "code",
   "execution_count": 81,
   "id": "b9640e38-40df-444b-bdc8-b7332aee4b07",
   "metadata": {},
   "outputs": [
    {
     "name": "stdout",
     "output_type": "stream",
     "text": [
      "xyz\n"
     ]
    }
   ],
   "source": [
    "abc('Shubham',1234)"
   ]
  },
  {
   "cell_type": "code",
   "execution_count": null,
   "id": "647f3d91-ad9b-4906-921c-fa2018764323",
   "metadata": {},
   "outputs": [],
   "source": []
  },
  {
   "cell_type": "code",
   "execution_count": null,
   "id": "a1be4d89-60e0-4a31-862a-07e2d54183d3",
   "metadata": {},
   "outputs": [],
   "source": []
  },
  {
   "cell_type": "code",
   "execution_count": 86,
   "id": "8382a5fe-5224-490f-8366-80200ee383b4",
   "metadata": {},
   "outputs": [
    {
     "name": "stdout",
     "output_type": "stream",
     "text": [
      "[1, 2, 3, 4, 5, 6, 7, 8, 9]\n"
     ]
    }
   ],
   "source": [
    "print(list(range(1,10)))"
   ]
  },
  {
   "cell_type": "code",
   "execution_count": 92,
   "id": "10477ad3-8b7f-4052-a983-2f61f37601d8",
   "metadata": {},
   "outputs": [],
   "source": [
    "def iterx(start,stop,step=1):\n",
    "    i = start\n",
    "    while i < stop:\n",
    "        yield i\n",
    "        i += step"
   ]
  },
  {
   "cell_type": "code",
   "execution_count": 91,
   "id": "c171d7e3-8af4-4286-bf36-dd1738dfe584",
   "metadata": {},
   "outputs": [
    {
     "name": "stdout",
     "output_type": "stream",
     "text": [
      "1\n",
      "2\n",
      "3\n",
      "4\n",
      "5\n",
      "6\n",
      "7\n",
      "8\n",
      "9\n"
     ]
    }
   ],
   "source": [
    "iterx(1,10)"
   ]
  },
  {
   "cell_type": "code",
   "execution_count": 104,
   "id": "e4029fe6-6d57-4e9e-a3f6-f9e0e317bed8",
   "metadata": {},
   "outputs": [],
   "source": [
    "iterator = iterx(1,10)"
   ]
  },
  {
   "cell_type": "code",
   "execution_count": 103,
   "id": "a56f3ee9-8099-476f-820c-1e4d264fdb02",
   "metadata": {},
   "outputs": [
    {
     "ename": "StopIteration",
     "evalue": "",
     "output_type": "error",
     "traceback": [
      "\u001b[1;31m---------------------------------------------------------------------------\u001b[0m",
      "\u001b[1;31mStopIteration\u001b[0m                             Traceback (most recent call last)",
      "Cell \u001b[1;32mIn[103], line 1\u001b[0m\n\u001b[1;32m----> 1\u001b[0m \u001b[38;5;28;43mnext\u001b[39;49m\u001b[43m(\u001b[49m\u001b[43miterator\u001b[49m\u001b[43m)\u001b[49m\n",
      "\u001b[1;31mStopIteration\u001b[0m: "
     ]
    }
   ],
   "source": [
    "next(iterator)"
   ]
  },
  {
   "cell_type": "code",
   "execution_count": 105,
   "id": "d946ec88-e48a-434d-bd21-059d5f96d2a5",
   "metadata": {},
   "outputs": [
    {
     "name": "stdout",
     "output_type": "stream",
     "text": [
      "1\n",
      "2\n",
      "3\n",
      "4\n",
      "5\n",
      "6\n",
      "7\n",
      "8\n",
      "9\n"
     ]
    }
   ],
   "source": [
    "for i in iterator:\n",
    "    print(i)"
   ]
  },
  {
   "cell_type": "code",
   "execution_count": 113,
   "id": "150ce240-9d13-4ccb-acdc-b9dcbcab0dcb",
   "metadata": {},
   "outputs": [],
   "source": [
    "iterator = (i*i for i in range(10))"
   ]
  },
  {
   "cell_type": "code",
   "execution_count": 112,
   "id": "37367661-cece-4e92-876a-8768158d96dc",
   "metadata": {},
   "outputs": [
    {
     "data": {
      "text/plain": [
       "25"
      ]
     },
     "execution_count": 112,
     "metadata": {},
     "output_type": "execute_result"
    }
   ],
   "source": [
    "next(iterator)"
   ]
  },
  {
   "cell_type": "code",
   "execution_count": 114,
   "id": "da5a997d-3cce-4872-b401-8df0f6d36831",
   "metadata": {},
   "outputs": [
    {
     "name": "stdout",
     "output_type": "stream",
     "text": [
      "0\n",
      "1\n",
      "4\n",
      "9\n",
      "16\n",
      "25\n",
      "36\n",
      "49\n",
      "64\n",
      "81\n"
     ]
    }
   ],
   "source": [
    "for i in iterator:\n",
    "    print(i)"
   ]
  },
  {
   "cell_type": "code",
   "execution_count": null,
   "id": "4580f52f-3109-403a-941c-aa6df8e7bce1",
   "metadata": {},
   "outputs": [],
   "source": []
  }
 ],
 "metadata": {
  "kernelspec": {
   "display_name": "Python 3 (ipykernel)",
   "language": "python",
   "name": "python3"
  },
  "language_info": {
   "codemirror_mode": {
    "name": "ipython",
    "version": 3
   },
   "file_extension": ".py",
   "mimetype": "text/x-python",
   "name": "python",
   "nbconvert_exporter": "python",
   "pygments_lexer": "ipython3",
   "version": "3.12.8"
  }
 },
 "nbformat": 4,
 "nbformat_minor": 5
}
