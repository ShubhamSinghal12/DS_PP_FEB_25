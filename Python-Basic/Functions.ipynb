{
 "cells": [
  {
   "cell_type": "markdown",
   "id": "257c4755-f3b0-487c-875e-33742170c1f8",
   "metadata": {},
   "source": [
    "## functions\n",
    "- defination\n",
    "- Memory management\n",
    "- parameters (Pass by Value)\n",
    "- return / Multiple Return\n",
    "- default arguments\n",
    "- keyword arguments\n",
    "- DocString (__doc__)\n",
    "- Type Hints \n",
    "- function as arguments\n",
    "- Anonymous Function\n",
    "- Recursion\n",
    "- Function within function\n",
    "- Arbitrary arguments (*args and **kwargs) (After Built-in)\n",
    "- Function Decorators"
   ]
  },
  {
   "cell_type": "code",
   "execution_count": 61,
   "id": "c5347ef7-df99-4381-9798-a5d7958aaf0c",
   "metadata": {},
   "outputs": [],
   "source": [
    "def add(a: int,b: int) -> int:\n",
    "    c = a+b\n",
    "    return c\n",
    "\n",
    "def add_sub(a,b,/,*,p,q:int = 100):\n",
    "    c = a+b\n",
    "    d = p-q\n",
    "    return c,d"
   ]
  },
  {
   "cell_type": "code",
   "execution_count": 62,
   "id": "4a4b8d05-e768-41f3-af68-f65a4db52d9e",
   "metadata": {},
   "outputs": [
    {
     "name": "stdout",
     "output_type": "stream",
     "text": [
      "120 -800\n"
     ]
    }
   ],
   "source": [
    "# c = add(1000,2000)\n",
    "# print(c)\n",
    "\n",
    "c,d = add_sub(20,100,p = 200,q=1000)\n",
    "print(c,d)\n",
    "# add_sub(10,20,100,200)"
   ]
  },
  {
   "cell_type": "code",
   "execution_count": 59,
   "id": "8e702f84-be8e-426a-ad3d-6df7cebc313e",
   "metadata": {},
   "outputs": [
    {
     "data": {
      "text/plain": [
       "'ab'"
      ]
     },
     "execution_count": 59,
     "metadata": {},
     "output_type": "execute_result"
    }
   ],
   "source": [
    "add('a','b')"
   ]
  },
  {
   "cell_type": "code",
   "execution_count": 6,
   "id": "46ae1cd6-a331-4e0a-9afd-b7272b5d39ca",
   "metadata": {},
   "outputs": [
    {
     "name": "stdout",
     "output_type": "stream",
     "text": [
      "<function add at 0x00000215402A2020> <class 'function'>\n"
     ]
    }
   ],
   "source": [
    "print(add,type(add))"
   ]
  },
  {
   "cell_type": "code",
   "execution_count": 19,
   "id": "dbe7c525-390a-4ead-95f0-82287c00819a",
   "metadata": {},
   "outputs": [],
   "source": [
    "a,b = 10,20"
   ]
  },
  {
   "cell_type": "code",
   "execution_count": null,
   "id": "28f9de93-e817-453d-bed6-6f18f91fe58e",
   "metadata": {},
   "outputs": [],
   "source": []
  },
  {
   "cell_type": "code",
   "execution_count": 26,
   "id": "7d1916b0-408f-4cd9-9614-3c5c5528173b",
   "metadata": {},
   "outputs": [],
   "source": [
    "def add(a,b):\n",
    "    a = 100\n",
    "    return a+b"
   ]
  },
  {
   "cell_type": "code",
   "execution_count": 27,
   "id": "c659453f-8899-4563-995c-3c0365e80296",
   "metadata": {},
   "outputs": [
    {
     "name": "stdout",
     "output_type": "stream",
     "text": [
      "20 30 130\n"
     ]
    }
   ],
   "source": [
    "a = 20\n",
    "b = 30\n",
    "c = add(a,b)\n",
    "print(a,b,c)"
   ]
  },
  {
   "cell_type": "code",
   "execution_count": 36,
   "id": "64088806-7170-4782-acf5-edfdede13cb1",
   "metadata": {},
   "outputs": [],
   "source": [
    "def fn():\n",
    "    global a\n",
    "    a = 100\n",
    "    print(a)"
   ]
  },
  {
   "cell_type": "code",
   "execution_count": 34,
   "id": "02908acd-7828-4124-b78b-2fc73c2873f4",
   "metadata": {},
   "outputs": [
    {
     "name": "stdout",
     "output_type": "stream",
     "text": [
      "100\n",
      "100\n"
     ]
    }
   ],
   "source": [
    "fn()\n",
    "print(a)"
   ]
  },
  {
   "cell_type": "code",
   "execution_count": null,
   "id": "d2158fd0-901e-4601-b777-2b75a5214e52",
   "metadata": {},
   "outputs": [],
   "source": []
  },
  {
   "cell_type": "code",
   "execution_count": 37,
   "id": "fbf99c54-103a-4709-a5ee-6781f1a01266",
   "metadata": {},
   "outputs": [],
   "source": [
    "def fn():\n",
    "    \"This is a function Doc\""
   ]
  },
  {
   "cell_type": "code",
   "execution_count": 38,
   "id": "4fb95b24-a47a-4c72-bae0-81787b01f272",
   "metadata": {},
   "outputs": [
    {
     "data": {
      "text/plain": [
       "'This is a function Doc'"
      ]
     },
     "execution_count": 38,
     "metadata": {},
     "output_type": "execute_result"
    }
   ],
   "source": [
    "fn.__doc__"
   ]
  },
  {
   "cell_type": "code",
   "execution_count": 39,
   "id": "15e8f7b2-b9b0-4a51-b3cc-d080b97f1ff7",
   "metadata": {},
   "outputs": [
    {
     "data": {
      "text/plain": [
       "'Prints the values to a stream, or to sys.stdout by default.\\n\\n  sep\\n    string inserted between values, default a space.\\n  end\\n    string appended after the last value, default a newline.\\n  file\\n    a file-like object (stream); defaults to the current sys.stdout.\\n  flush\\n    whether to forcibly flush the stream.'"
      ]
     },
     "execution_count": 39,
     "metadata": {},
     "output_type": "execute_result"
    }
   ],
   "source": [
    "print.__doc__"
   ]
  },
  {
   "cell_type": "code",
   "execution_count": 40,
   "id": "1f79500a-67b3-4eaa-a07b-aa877bd36afb",
   "metadata": {},
   "outputs": [
    {
     "data": {
      "text/plain": [
       "\u001b[1;31mSignature:\u001b[0m \u001b[0mprint\u001b[0m\u001b[1;33m(\u001b[0m\u001b[1;33m*\u001b[0m\u001b[0margs\u001b[0m\u001b[1;33m,\u001b[0m \u001b[0msep\u001b[0m\u001b[1;33m=\u001b[0m\u001b[1;34m' '\u001b[0m\u001b[1;33m,\u001b[0m \u001b[0mend\u001b[0m\u001b[1;33m=\u001b[0m\u001b[1;34m'\\n'\u001b[0m\u001b[1;33m,\u001b[0m \u001b[0mfile\u001b[0m\u001b[1;33m=\u001b[0m\u001b[1;32mNone\u001b[0m\u001b[1;33m,\u001b[0m \u001b[0mflush\u001b[0m\u001b[1;33m=\u001b[0m\u001b[1;32mFalse\u001b[0m\u001b[1;33m)\u001b[0m\u001b[1;33m\u001b[0m\u001b[1;33m\u001b[0m\u001b[0m\n",
       "\u001b[1;31mDocstring:\u001b[0m\n",
       "Prints the values to a stream, or to sys.stdout by default.\n",
       "\n",
       "sep\n",
       "  string inserted between values, default a space.\n",
       "end\n",
       "  string appended after the last value, default a newline.\n",
       "file\n",
       "  a file-like object (stream); defaults to the current sys.stdout.\n",
       "flush\n",
       "  whether to forcibly flush the stream.\n",
       "\u001b[1;31mType:\u001b[0m      builtin_function_or_method"
      ]
     },
     "metadata": {},
     "output_type": "display_data"
    }
   ],
   "source": [
    "print?"
   ]
  },
  {
   "cell_type": "code",
   "execution_count": 60,
   "id": "a5d2629f-c1bc-48e0-bc27-987dbe3aa91c",
   "metadata": {},
   "outputs": [],
   "source": [
    "fn()"
   ]
  },
  {
   "cell_type": "code",
   "execution_count": null,
   "id": "7ba2ba59-7836-4969-aa0f-f50c4ddc81bf",
   "metadata": {},
   "outputs": [],
   "source": []
  },
  {
   "cell_type": "code",
   "execution_count": 64,
   "id": "7f2fe900-b08d-4f87-b498-aa9182f8357e",
   "metadata": {},
   "outputs": [],
   "source": [
    "xyz = lambda a,b:a+b"
   ]
  },
  {
   "cell_type": "code",
   "execution_count": 65,
   "id": "2d7186e6-604f-41f9-92a1-3182e486f5c9",
   "metadata": {},
   "outputs": [
    {
     "data": {
      "text/plain": [
       "30"
      ]
     },
     "execution_count": 65,
     "metadata": {},
     "output_type": "execute_result"
    }
   ],
   "source": [
    "xyz(10,20)"
   ]
  },
  {
   "cell_type": "code",
   "execution_count": 66,
   "id": "9dbce5c6-a3be-4990-b2bd-11837eb11274",
   "metadata": {},
   "outputs": [],
   "source": [
    "def cal(a,b,op):\n",
    "    return op(a,b)"
   ]
  },
  {
   "cell_type": "code",
   "execution_count": 69,
   "id": "ea3b16f5-7f89-40df-b314-6b7420caad44",
   "metadata": {},
   "outputs": [],
   "source": [
    "def add(a,b):\n",
    "    return a+b\n",
    "def sub(a,b):\n",
    "    return a-b"
   ]
  },
  {
   "cell_type": "code",
   "execution_count": 71,
   "id": "d265fb23-2c70-4b04-94c4-6899d72491eb",
   "metadata": {},
   "outputs": [
    {
     "data": {
      "text/plain": [
       "20"
      ]
     },
     "execution_count": 71,
     "metadata": {},
     "output_type": "execute_result"
    }
   ],
   "source": [
    "cal(10,20,max)"
   ]
  },
  {
   "cell_type": "code",
   "execution_count": 74,
   "id": "a7522be6-aaa1-49e6-bb36-9bed59d6e782",
   "metadata": {},
   "outputs": [
    {
     "data": {
      "text/plain": [
       "(200, 0.5)"
      ]
     },
     "execution_count": 74,
     "metadata": {},
     "output_type": "execute_result"
    }
   ],
   "source": [
    "cal(10,20,lambda x,y: (x*y,x/y))"
   ]
  },
  {
   "cell_type": "code",
   "execution_count": null,
   "id": "486c1413-77de-432f-8c73-340bcf3efed8",
   "metadata": {},
   "outputs": [],
   "source": []
  },
  {
   "cell_type": "code",
   "execution_count": 75,
   "id": "3692e97c-d309-4b98-8bfb-33e871e7b435",
   "metadata": {},
   "outputs": [],
   "source": [
    "def fact(x):\n",
    "    if x == 0:\n",
    "        return 1\n",
    "    else:\n",
    "        return x*fact(x-1)"
   ]
  },
  {
   "cell_type": "code",
   "execution_count": 79,
   "id": "df54caaf-f5f4-437b-9caa-69df21101413",
   "metadata": {},
   "outputs": [
    {
     "data": {
      "text/plain": [
       "479001600"
      ]
     },
     "execution_count": 79,
     "metadata": {},
     "output_type": "execute_result"
    }
   ],
   "source": [
    "fact(12)"
   ]
  },
  {
   "cell_type": "code",
   "execution_count": null,
   "id": "2ce95ed3-e8d0-41d5-a32b-d1d252d12aaa",
   "metadata": {},
   "outputs": [],
   "source": []
  },
  {
   "cell_type": "code",
   "execution_count": 87,
   "id": "1e1abfc4-1143-45e5-8446-31c48b99db18",
   "metadata": {},
   "outputs": [],
   "source": [
    "x = 100\n",
    "def f1():\n",
    "    x = 10\n",
    "    y = 20\n",
    "    def f2():\n",
    "        nonlocal x\n",
    "        x = 1000\n",
    "        print(x,y)\n",
    "    f2()\n",
    "    print(x,y)"
   ]
  },
  {
   "cell_type": "code",
   "execution_count": 88,
   "id": "3b58429f-fe5e-4f4a-8b18-cd5b8e55a7b9",
   "metadata": {},
   "outputs": [
    {
     "name": "stdout",
     "output_type": "stream",
     "text": [
      "1000 20\n",
      "1000 20\n"
     ]
    }
   ],
   "source": [
    "f1()"
   ]
  },
  {
   "cell_type": "code",
   "execution_count": null,
   "id": "d6583f54-620a-434c-ba5c-05cb4149c2b6",
   "metadata": {},
   "outputs": [],
   "source": []
  },
  {
   "cell_type": "code",
   "execution_count": null,
   "id": "acce91b2-3292-4dc5-9970-013a3de34563",
   "metadata": {},
   "outputs": [],
   "source": []
  },
  {
   "cell_type": "code",
   "execution_count": 95,
   "id": "7140145a-fa72-458d-87ca-cfd20a19dd37",
   "metadata": {},
   "outputs": [],
   "source": [
    "import math\n",
    "def nod(n:int) -> int:\n",
    "    return int(math.log10(n))+1\n",
    "    \n",
    "def isArmstrong(n:int)->bool:\n",
    "    nd = nod(n)\n",
    "    t = n\n",
    "    s = 0\n",
    "    while t!= 0:\n",
    "        digit = t%10\n",
    "        s += digit**nd\n",
    "\n",
    "        t //= 10\n",
    "    return s == n\n",
    "def printAllArmstrong(a,b):\n",
    "    i = a\n",
    "    while i <= b:\n",
    "        if isArmstrong(i):\n",
    "            print(i)\n",
    "        i += 1"
   ]
  },
  {
   "cell_type": "code",
   "execution_count": 96,
   "id": "bd281493-fa9c-44f4-bc16-bb5c3ef338da",
   "metadata": {},
   "outputs": [
    {
     "name": "stdout",
     "output_type": "stream",
     "text": [
      "1\n",
      "2\n",
      "3\n",
      "4\n",
      "5\n",
      "6\n",
      "7\n",
      "8\n",
      "9\n",
      "153\n",
      "370\n",
      "371\n",
      "407\n"
     ]
    }
   ],
   "source": [
    "printAllArmstrong(1,1000)"
   ]
  },
  {
   "cell_type": "code",
   "execution_count": null,
   "id": "ff3b8f80-4465-47e3-ab64-a7ac34261940",
   "metadata": {},
   "outputs": [],
   "source": []
  },
  {
   "cell_type": "code",
   "execution_count": null,
   "id": "553616af-bee9-4f91-98e6-1f7250a48a76",
   "metadata": {},
   "outputs": [],
   "source": []
  },
  {
   "cell_type": "code",
   "execution_count": null,
   "id": "f1cf39fc-5ac7-419d-b0d9-563a90846304",
   "metadata": {},
   "outputs": [],
   "source": []
  },
  {
   "cell_type": "code",
   "execution_count": null,
   "id": "d0b14569-0cc9-4bc7-aa57-4aef811b4573",
   "metadata": {},
   "outputs": [],
   "source": []
  },
  {
   "cell_type": "code",
   "execution_count": null,
   "id": "92fbd005-cb7a-4923-afdc-9b8b40dce29a",
   "metadata": {},
   "outputs": [],
   "source": []
  },
  {
   "cell_type": "code",
   "execution_count": null,
   "id": "8c012bf4-b008-47dc-a0e7-90cff76fec34",
   "metadata": {},
   "outputs": [],
   "source": []
  },
  {
   "cell_type": "code",
   "execution_count": null,
   "id": "7e8f17d1-b019-42a1-b435-b300b85ada28",
   "metadata": {},
   "outputs": [],
   "source": []
  }
 ],
 "metadata": {
  "kernelspec": {
   "display_name": "Python 3 (ipykernel)",
   "language": "python",
   "name": "python3"
  },
  "language_info": {
   "codemirror_mode": {
    "name": "ipython",
    "version": 3
   },
   "file_extension": ".py",
   "mimetype": "text/x-python",
   "name": "python",
   "nbconvert_exporter": "python",
   "pygments_lexer": "ipython3",
   "version": "3.12.8"
  }
 },
 "nbformat": 4,
 "nbformat_minor": 5
}
