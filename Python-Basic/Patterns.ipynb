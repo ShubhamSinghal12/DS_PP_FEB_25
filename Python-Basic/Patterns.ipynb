{
 "cells": [
  {
   "cell_type": "markdown",
   "id": "95beba2c-3eb4-4a04-a933-47a392ce1a0a",
   "metadata": {},
   "source": [
    "## Patterns\n",
    "Refer Patterns PDF"
   ]
  },
  {
   "cell_type": "code",
   "execution_count": 16,
   "id": "df22797a-8aa7-4f88-bf29-b11489b9fe00",
   "metadata": {},
   "outputs": [
    {
     "name": "stdout",
     "output_type": "stream",
     "text": [
      "* * * * * * \n",
      "* * * * * * \n",
      "* * * * * * \n",
      "* * * * * * \n",
      "* * * * * * \n",
      "* * * * * * \n"
     ]
    }
   ],
   "source": [
    "N = 6\n",
    "nst = N\n",
    "row = 1\n",
    "while row <= N:\n",
    "    cst = 1\n",
    "    while cst <= nst:\n",
    "        print('*',end = ' ')\n",
    "        cst += 1\n",
    "\n",
    "    print()\n",
    "    row += 1"
   ]
  },
  {
   "cell_type": "code",
   "execution_count": 17,
   "id": "f2bb932f-1c43-4d74-8b06-30388e1d2162",
   "metadata": {},
   "outputs": [
    {
     "name": "stdout",
     "output_type": "stream",
     "text": [
      "* \n",
      "* * \n",
      "* * * \n",
      "* * * * \n",
      "* * * * * \n",
      "* * * * * * \n"
     ]
    }
   ],
   "source": [
    "N = 6\n",
    "nst = 1\n",
    "row = 1\n",
    "while row <= N:\n",
    "    cst = 1\n",
    "    while cst <= nst:\n",
    "        print('*',end = ' ')\n",
    "        cst += 1\n",
    "\n",
    "    nst += 1\n",
    "    print()\n",
    "    row += 1"
   ]
  },
  {
   "cell_type": "code",
   "execution_count": 18,
   "id": "cd19fc8c-ddd7-4a5e-a869-4b8c477399f6",
   "metadata": {},
   "outputs": [
    {
     "name": "stdout",
     "output_type": "stream",
     "text": [
      "* * * * * * \n",
      "* * * * * \n",
      "* * * * \n",
      "* * * \n",
      "* * \n",
      "* \n"
     ]
    }
   ],
   "source": [
    "N = 6\n",
    "nst = N\n",
    "row = 1\n",
    "while row <= N:\n",
    "    cst = 1\n",
    "    while cst <= nst:\n",
    "        print('*',end = ' ')\n",
    "        cst += 1\n",
    "\n",
    "    nst -= 1\n",
    "    print()\n",
    "    row += 1"
   ]
  },
  {
   "cell_type": "code",
   "execution_count": 1,
   "id": "77c62050-f2e6-4f59-ad7a-8439e9311703",
   "metadata": {},
   "outputs": [
    {
     "name": "stdout",
     "output_type": "stream",
     "text": [
      "        * \n",
      "      * * \n",
      "    * * * \n",
      "  * * * * \n",
      "* * * * * \n"
     ]
    }
   ],
   "source": [
    "N = 5\n",
    "row = 1\n",
    "nsp = N-1\n",
    "nst = 1\n",
    "\n",
    "while row <= N:\n",
    "    csp = 1\n",
    "    while csp <= nsp:\n",
    "        print(\" \",end = \" \")\n",
    "        csp += 1\n",
    "\n",
    "    cst = 1\n",
    "    while cst <= nst:\n",
    "        print('*',end = ' ')\n",
    "        cst += 1\n",
    "    nsp -= 1\n",
    "    nst += 1\n",
    "    print()\n",
    "    row += 1"
   ]
  },
  {
   "cell_type": "code",
   "execution_count": 2,
   "id": "062ba363-6716-4f30-a169-aa7cc10522cf",
   "metadata": {},
   "outputs": [
    {
     "name": "stdout",
     "output_type": "stream",
     "text": [
      "* * * * * \n",
      "  * * * * \n",
      "    * * * \n",
      "      * * \n",
      "        * \n"
     ]
    }
   ],
   "source": [
    "N = 5\n",
    "row = 1\n",
    "nsp = 0\n",
    "nst = N\n",
    "\n",
    "while row <= N:\n",
    "    csp = 1\n",
    "    while csp <= nsp:\n",
    "        print(\" \",end = \" \")\n",
    "        csp += 1\n",
    "\n",
    "    cst = 1\n",
    "    while cst <= nst:\n",
    "        print('*',end = ' ')\n",
    "        cst += 1\n",
    "    nsp += 1\n",
    "    nst -= 1\n",
    "    print()\n",
    "    row += 1"
   ]
  },
  {
   "cell_type": "code",
   "execution_count": 3,
   "id": "90d3866f-fb91-4af3-9df4-771ca8ae0237",
   "metadata": {},
   "outputs": [
    {
     "name": "stdout",
     "output_type": "stream",
     "text": [
      "* * * * * \n",
      "    * * * * \n",
      "        * * * \n",
      "            * * \n",
      "                * \n"
     ]
    }
   ],
   "source": [
    "N = 5\n",
    "row = 1\n",
    "nsp = 0\n",
    "nst = N\n",
    "\n",
    "while row <= N:\n",
    "    csp = 1\n",
    "    while csp <= nsp:\n",
    "        print(\" \",end = \" \")\n",
    "        csp += 1\n",
    "\n",
    "    cst = 1\n",
    "    while cst <= nst:\n",
    "        print('*',end = ' ')\n",
    "        cst += 1\n",
    "    nsp += 2\n",
    "    nst -= 1\n",
    "    print()\n",
    "    row += 1"
   ]
  },
  {
   "cell_type": "code",
   "execution_count": 4,
   "id": "653d25cf-f7bf-4d7f-9230-8cba27570f8b",
   "metadata": {},
   "outputs": [
    {
     "name": "stdout",
     "output_type": "stream",
     "text": [
      "        * \n",
      "      * * * \n",
      "    * * * * * \n",
      "  * * * * * * * \n",
      "* * * * * * * * * \n"
     ]
    }
   ],
   "source": [
    "N = 5\n",
    "row = 1\n",
    "nsp = N-1\n",
    "nst = 1\n",
    "\n",
    "while row <= N:\n",
    "    csp = 1\n",
    "    while csp <= nsp:\n",
    "        print(\" \",end = \" \")\n",
    "        csp += 1\n",
    "\n",
    "    cst = 1\n",
    "    while cst <= nst:\n",
    "        print('*',end = ' ')\n",
    "        cst += 1\n",
    "    nsp -= 1\n",
    "    nst += 2\n",
    "    print()\n",
    "    row += 1"
   ]
  },
  {
   "cell_type": "code",
   "execution_count": 5,
   "id": "340631d0-1383-457e-9a1d-3b3b5cfda150",
   "metadata": {},
   "outputs": [
    {
     "name": "stdout",
     "output_type": "stream",
     "text": [
      "* * * * * * * * * \n",
      "  * * * * * * * \n",
      "    * * * * * \n",
      "      * * * \n",
      "        * \n"
     ]
    }
   ],
   "source": [
    "N = 5\n",
    "row = 1\n",
    "nsp = 0\n",
    "nst = 2*N-1\n",
    "\n",
    "while row <= N:\n",
    "    csp = 1\n",
    "    while csp <= nsp:\n",
    "        print(\" \",end = \" \")\n",
    "        csp += 1\n",
    "\n",
    "    cst = 1\n",
    "    while cst <= nst:\n",
    "        print('*',end = ' ')\n",
    "        cst += 1\n",
    "    nsp += 1\n",
    "    nst -= 2\n",
    "    print()\n",
    "    row += 1"
   ]
  },
  {
   "cell_type": "code",
   "execution_count": 7,
   "id": "e18ac0e0-6bcc-4e83-a5b2-64f4edbc873a",
   "metadata": {},
   "outputs": [
    {
     "name": "stdout",
     "output_type": "stream",
     "text": [
      "        * \n",
      "      * ! * \n",
      "    * ! * ! * \n",
      "  * ! * ! * ! * \n",
      "* ! * ! * ! * ! * \n"
     ]
    }
   ],
   "source": [
    "N = 5\n",
    "row = 1\n",
    "nsp = N-1\n",
    "nst = 1\n",
    "\n",
    "while row <= N:\n",
    "    csp = 1\n",
    "    while csp <= nsp:\n",
    "        print(\" \",end = \" \")\n",
    "        csp += 1\n",
    "\n",
    "    cst = 1\n",
    "    while cst <= nst:\n",
    "        if cst%2 != 0:\n",
    "            print('*',end = ' ')\n",
    "        else:\n",
    "            print('!',end = ' ')\n",
    "        cst += 1\n",
    "    nsp -= 1\n",
    "    nst += 2\n",
    "    print()\n",
    "    row += 1"
   ]
  },
  {
   "cell_type": "code",
   "execution_count": 8,
   "id": "9272d460-7df6-4c88-b163-91d4e35c15e9",
   "metadata": {},
   "outputs": [
    {
     "name": "stdout",
     "output_type": "stream",
     "text": [
      "* * * * * * \n",
      "*         * \n",
      "*         * \n",
      "*         * \n",
      "*         * \n",
      "* * * * * * \n"
     ]
    }
   ],
   "source": [
    "N = 6\n",
    "nst = N\n",
    "row = 1\n",
    "while row <= N:\n",
    "    cst = 1\n",
    "    while cst <= nst:\n",
    "        if row == 1 or row == N or cst == 1 or cst == N:\n",
    "            print('*',end = ' ')\n",
    "        else:\n",
    "            print(' ' ,end = ' ')\n",
    "        cst += 1\n",
    "\n",
    "    print()\n",
    "    row += 1"
   ]
  },
  {
   "cell_type": "code",
   "execution_count": 9,
   "id": "48f75392-825e-4505-9fdc-ac41f7e30403",
   "metadata": {},
   "outputs": [
    {
     "name": "stdout",
     "output_type": "stream",
     "text": [
      "*       * \n",
      "  *   *   \n",
      "    *     \n",
      "  *   *   \n",
      "*       * \n"
     ]
    }
   ],
   "source": [
    "N = 5\n",
    "nst = N\n",
    "row = 1\n",
    "while row <= N:\n",
    "    cst = 1\n",
    "    while cst <= nst:\n",
    "        if row == cst or cst+row == N+1:\n",
    "            print('*',end = ' ')\n",
    "        else:\n",
    "            print(' ' ,end = ' ')\n",
    "        cst += 1\n",
    "\n",
    "    print()\n",
    "    row += 1"
   ]
  },
  {
   "cell_type": "code",
   "execution_count": null,
   "id": "173dd0df-effd-4581-a4e4-8dfb88392508",
   "metadata": {},
   "outputs": [],
   "source": []
  },
  {
   "cell_type": "code",
   "execution_count": 10,
   "id": "9dbbcfd4-8bdc-4de8-b7a5-c15805e43e46",
   "metadata": {},
   "outputs": [
    {
     "name": "stdout",
     "output_type": "stream",
     "text": [
      "* \n",
      "* * \n",
      "* * * \n",
      "* * * * \n",
      "* * * * * \n",
      "* * * * * * \n",
      "* * * * * \n",
      "* * * * \n",
      "* * * \n",
      "* * \n",
      "* \n"
     ]
    }
   ],
   "source": [
    "N = 6\n",
    "nst = 1\n",
    "row = 1\n",
    "while row <= 2*N-1:\n",
    "    cst = 1\n",
    "    while cst <= nst:\n",
    "        print('*',end = ' ')\n",
    "        cst += 1\n",
    "\n",
    "    if row < N:\n",
    "        nst += 1\n",
    "    else:\n",
    "        nst -= 1\n",
    "    print()\n",
    "    row += 1"
   ]
  },
  {
   "cell_type": "code",
   "execution_count": 11,
   "id": "f30173df-0bc5-4f3c-a57d-c3c533ab0453",
   "metadata": {},
   "outputs": [
    {
     "name": "stdout",
     "output_type": "stream",
     "text": [
      "          * \n",
      "        * * \n",
      "      * * * \n",
      "    * * * * \n",
      "  * * * * * \n",
      "* * * * * * \n",
      "  * * * * * \n",
      "    * * * * \n",
      "      * * * \n",
      "        * * \n",
      "          * \n"
     ]
    }
   ],
   "source": [
    "N = 6\n",
    "nst = 1\n",
    "nsp = N-1\n",
    "row = 1\n",
    "while row <= 2*N-1:\n",
    "    csp = 1\n",
    "    while csp <= nsp:\n",
    "        print(\" \",end= \" \")\n",
    "        csp += 1\n",
    "        \n",
    "    cst = 1\n",
    "    while cst <= nst:\n",
    "        print('*',end = ' ')\n",
    "        cst += 1\n",
    "\n",
    "    if row < N:\n",
    "        nst += 1\n",
    "        nsp -= 1\n",
    "    else:\n",
    "        nst -= 1\n",
    "        nsp += 1\n",
    "    print()\n",
    "    row += 1"
   ]
  },
  {
   "cell_type": "code",
   "execution_count": 12,
   "id": "50ae47f9-89c3-4175-a9c3-c776984b3133",
   "metadata": {},
   "outputs": [
    {
     "name": "stdout",
     "output_type": "stream",
     "text": [
      "* * * * * * \n",
      "    * * * * * \n",
      "        * * * * \n",
      "            * * * \n",
      "                * * \n",
      "                    * \n",
      "                * * \n",
      "            * * * \n",
      "        * * * * \n",
      "    * * * * * \n",
      "* * * * * * \n"
     ]
    }
   ],
   "source": [
    "N = 6\n",
    "nst = N\n",
    "nsp = 0\n",
    "row = 1\n",
    "while row <= 2*N-1:\n",
    "    csp = 1\n",
    "    while csp <= nsp:\n",
    "        print(\" \",end= \" \")\n",
    "        csp += 1\n",
    "        \n",
    "    cst = 1\n",
    "    while cst <= nst:\n",
    "        print('*',end = ' ')\n",
    "        cst += 1\n",
    "\n",
    "    if row < N:\n",
    "        nst -= 1\n",
    "        nsp += 2\n",
    "    else:\n",
    "        nst += 1\n",
    "        nsp -= 2\n",
    "    print()\n",
    "    row += 1"
   ]
  },
  {
   "cell_type": "code",
   "execution_count": null,
   "id": "a4b993c7-83d2-47bb-ae08-693a4d1d8046",
   "metadata": {},
   "outputs": [],
   "source": []
  },
  {
   "cell_type": "code",
   "execution_count": 15,
   "id": "fb573d68-fdb5-419d-92a4-7d97da169fb1",
   "metadata": {},
   "outputs": [
    {
     "name": "stdout",
     "output_type": "stream",
     "text": [
      "          * * * * * * \n",
      "        * * * * * \n",
      "      * * * * \n",
      "    * * * \n",
      "  * * \n",
      "* \n",
      "  * * \n",
      "    * * * \n",
      "      * * * * \n",
      "        * * * * * \n",
      "          * * * * * * \n"
     ]
    }
   ],
   "source": [
    "N = 6\n",
    "nst = N\n",
    "nsp = N-1\n",
    "row = 1\n",
    "while row <= 2*N-1:\n",
    "    csp = 1\n",
    "    while csp <= nsp:\n",
    "        print(\" \",end= \" \")\n",
    "        csp += 1\n",
    "        \n",
    "    cst = 1\n",
    "    while cst <= nst:\n",
    "        print('*',end = ' ')\n",
    "        cst += 1\n",
    "\n",
    "    if row < N:\n",
    "        nst -= 1\n",
    "        nsp -= 1\n",
    "    else:\n",
    "        nst += 1\n",
    "        nsp += 1\n",
    "    print()\n",
    "    row += 1"
   ]
  },
  {
   "cell_type": "code",
   "execution_count": 21,
   "id": "715a75fa-d272-46fa-ab60-fbb602786f35",
   "metadata": {},
   "outputs": [
    {
     "name": "stdout",
     "output_type": "stream",
     "text": [
      "      * \n",
      "    * * * \n",
      "  * * * * * \n",
      "* * * * * * * \n",
      "  * * * * * \n",
      "    * * * \n",
      "      * \n"
     ]
    }
   ],
   "source": [
    "N = 7\n",
    "nst = 1\n",
    "nsp = N//2\n",
    "row = 1\n",
    "while row <= N:\n",
    "    csp = 1\n",
    "    while csp <= nsp:\n",
    "        print(\" \",end= \" \")\n",
    "        csp += 1\n",
    "        \n",
    "    cst = 1\n",
    "    while cst <= nst:\n",
    "        print('*',end = ' ')\n",
    "        cst += 1\n",
    "\n",
    "    if row <= N//2:\n",
    "        nst += 2\n",
    "        nsp -= 1\n",
    "    else:\n",
    "        nst -= 2\n",
    "        nsp += 1\n",
    "    print()\n",
    "    row += 1"
   ]
  },
  {
   "cell_type": "code",
   "execution_count": 24,
   "id": "52a747c2-5569-4620-9346-3b84eb60085b",
   "metadata": {},
   "outputs": [
    {
     "name": "stdout",
     "output_type": "stream",
     "text": [
      "* * * * * * * \n",
      "* * *   * * * \n",
      "* *       * * \n",
      "*           * \n",
      "* *       * * \n",
      "* * *   * * * \n",
      "* * * * * * * \n"
     ]
    }
   ],
   "source": [
    "N = 7\n",
    "row = 1\n",
    "nsp = -1\n",
    "nst = N//2+1\n",
    "while row <= N:\n",
    "    cst = 1\n",
    "    while cst <= nst:\n",
    "        print(\"*\",end=\" \")\n",
    "        cst += 1\n",
    "\n",
    "    csp = 1\n",
    "    while csp <= nsp:\n",
    "        print(\" \",end = \" \")\n",
    "        csp += 1\n",
    "\n",
    "    cst = 1\n",
    "    if row == 1 or row == N:\n",
    "        cst = 2\n",
    "    while cst <= nst:\n",
    "        print(\"*\",end=\" \")\n",
    "        cst += 1\n",
    "\n",
    "    if row <= N//2:\n",
    "        nst -= 1\n",
    "        nsp += 2\n",
    "    else:\n",
    "        nst += 1\n",
    "        nsp -= 2\n",
    "\n",
    "    row += 1\n",
    "    print()"
   ]
  },
  {
   "cell_type": "code",
   "execution_count": null,
   "id": "f90556ea-10ec-41fc-a5ab-52dbb2bad347",
   "metadata": {},
   "outputs": [],
   "source": []
  },
  {
   "cell_type": "code",
   "execution_count": null,
   "id": "943c1dc5-fb14-4501-a41b-fdb8d927708e",
   "metadata": {},
   "outputs": [],
   "source": []
  }
 ],
 "metadata": {
  "kernelspec": {
   "display_name": "Python 3 (ipykernel)",
   "language": "python",
   "name": "python3"
  },
  "language_info": {
   "codemirror_mode": {
    "name": "ipython",
    "version": 3
   },
   "file_extension": ".py",
   "mimetype": "text/x-python",
   "name": "python",
   "nbconvert_exporter": "python",
   "pygments_lexer": "ipython3",
   "version": "3.12.8"
  }
 },
 "nbformat": 4,
 "nbformat_minor": 5
}
