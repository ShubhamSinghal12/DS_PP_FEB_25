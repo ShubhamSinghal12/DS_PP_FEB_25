{
 "cells": [
  {
   "cell_type": "markdown",
   "id": "95beba2c-3eb4-4a04-a933-47a392ce1a0a",
   "metadata": {},
   "source": [
    "## Patterns\n",
    "Refer Patterns PDF"
   ]
  },
  {
   "cell_type": "code",
   "execution_count": 16,
   "id": "df22797a-8aa7-4f88-bf29-b11489b9fe00",
   "metadata": {},
   "outputs": [
    {
     "name": "stdout",
     "output_type": "stream",
     "text": [
      "* * * * * * \n",
      "* * * * * * \n",
      "* * * * * * \n",
      "* * * * * * \n",
      "* * * * * * \n",
      "* * * * * * \n"
     ]
    }
   ],
   "source": [
    "N = 6\n",
    "nst = N\n",
    "row = 1\n",
    "while row <= N:\n",
    "    cst = 1\n",
    "    while cst <= nst:\n",
    "        print('*',end = ' ')\n",
    "        cst += 1\n",
    "\n",
    "    print()\n",
    "    row += 1"
   ]
  },
  {
   "cell_type": "code",
   "execution_count": 17,
   "id": "f2bb932f-1c43-4d74-8b06-30388e1d2162",
   "metadata": {},
   "outputs": [
    {
     "name": "stdout",
     "output_type": "stream",
     "text": [
      "* \n",
      "* * \n",
      "* * * \n",
      "* * * * \n",
      "* * * * * \n",
      "* * * * * * \n"
     ]
    }
   ],
   "source": [
    "N = 6\n",
    "nst = 1\n",
    "row = 1\n",
    "while row <= N:\n",
    "    cst = 1\n",
    "    while cst <= nst:\n",
    "        print('*',end = ' ')\n",
    "        cst += 1\n",
    "\n",
    "    nst += 1\n",
    "    print()\n",
    "    row += 1"
   ]
  },
  {
   "cell_type": "code",
   "execution_count": 18,
   "id": "cd19fc8c-ddd7-4a5e-a869-4b8c477399f6",
   "metadata": {},
   "outputs": [
    {
     "name": "stdout",
     "output_type": "stream",
     "text": [
      "* * * * * * \n",
      "* * * * * \n",
      "* * * * \n",
      "* * * \n",
      "* * \n",
      "* \n"
     ]
    }
   ],
   "source": [
    "N = 6\n",
    "nst = N\n",
    "row = 1\n",
    "while row <= N:\n",
    "    cst = 1\n",
    "    while cst <= nst:\n",
    "        print('*',end = ' ')\n",
    "        cst += 1\n",
    "\n",
    "    nst -= 1\n",
    "    print()\n",
    "    row += 1"
   ]
  },
  {
   "cell_type": "code",
   "execution_count": 22,
   "id": "77c62050-f2e6-4f59-ad7a-8439e9311703",
   "metadata": {},
   "outputs": [
    {
     "name": "stdout",
     "output_type": "stream",
     "text": [
      "    *\n",
      "   **\n",
      "  ***\n",
      " ****\n",
      "*****\n"
     ]
    }
   ],
   "source": [
    "N = 5\n",
    "row = 1\n",
    "nsp = N-1\n",
    "nst = 1\n",
    "\n",
    "while row <= N:\n",
    "    csp = 1\n",
    "    while csp <= nsp:\n",
    "        print(\" \",end = \"\")\n",
    "        csp += 1\n",
    "\n",
    "    cst = 1\n",
    "    while cst <= nst:\n",
    "        print('*',end = '')\n",
    "        cst += 1\n",
    "    nsp -= 1\n",
    "    nst += 1\n",
    "    print()\n",
    "    row += 1"
   ]
  },
  {
   "cell_type": "code",
   "execution_count": null,
   "id": "062ba363-6716-4f30-a169-aa7cc10522cf",
   "metadata": {},
   "outputs": [],
   "source": []
  }
 ],
 "metadata": {
  "kernelspec": {
   "display_name": "Python 3 (ipykernel)",
   "language": "python",
   "name": "python3"
  },
  "language_info": {
   "codemirror_mode": {
    "name": "ipython",
    "version": 3
   },
   "file_extension": ".py",
   "mimetype": "text/x-python",
   "name": "python",
   "nbconvert_exporter": "python",
   "pygments_lexer": "ipython3",
   "version": "3.12.8"
  }
 },
 "nbformat": 4,
 "nbformat_minor": 5
}
